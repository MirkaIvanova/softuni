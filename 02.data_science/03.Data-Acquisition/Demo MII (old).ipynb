{
 "cells": [
  {
   "cell_type": "code",
   "execution_count": null,
   "id": "9209846d-8bab-44bc-9e4a-602b517e3691",
   "metadata": {},
   "outputs": [],
   "source": [
    "%matplotlib inline\n",
    "\n",
    "import numpy as np\n",
    "import pandas as pd\n",
    "import pyodbc\n",
    "import matplotlib.pylab as plt\n"
   ]
  },
  {
   "cell_type": "code",
   "execution_count": null,
   "id": "5bd2f380-2c61-4fc7-b685-b8ed1ea3f12f",
   "metadata": {},
   "outputs": [],
   "source": [
    "from IPython.display import HTML, display\n",
    "\n",
    "def set_background(color):\n",
    "    script = (\n",
    "        \"var cell = this.closest('.jp-CodeCell');\"\n",
    "        \"var editor = cell.querySelector('.jp-Editor');\"\n",
    "        \"editor.style.background='{}';\"\n",
    "        \"this.parentNode.removeChild(this)\"\n",
    "    ).format(color)\n",
    "\n",
    "    display(HTML('<img src onerror=\"{}\">'.format(script)))\n",
    "\n",
    "sb = set_background\n",
    "# sb(\"LemonChiffon\")\n",
    "# sb(\"Lavender\")"
   ]
  },
  {
   "cell_type": "markdown",
   "id": "639bf6f2-3720-4a33-842f-fb361034f358",
   "metadata": {},
   "source": [
    "# Data Acquisition"
   ]
  },
  {
   "cell_type": "markdown",
   "id": "cc560c62-74f9-4a6f-9aa4-83af98f50e1a",
   "metadata": {},
   "source": [
    "#### Live Demos"
   ]
  },
  {
   "cell_type": "markdown",
   "id": "9ecdd15e-6b8a-499e-a066-13815dcfa334",
   "metadata": {},
   "source": [
    "# Pandas"
   ]
  },
  {
   "cell_type": "markdown",
   "id": "4623278f-d805-4dd5-974f-04919c8b3736",
   "metadata": {},
   "source": [
    "#### Create dataframe"
   ]
  },
  {
   "cell_type": "code",
   "execution_count": null,
   "id": "8a82ee97-1922-40cc-b451-51758c463528",
   "metadata": {},
   "outputs": [],
   "source": [
    "sb(\"Lavender\")\n",
    "df  = pd.DataFrame({\"cats\": [1,2,3, 2, 3], \"dogs\": [10,20,30, 20, 30]})\n",
    "df1 = pd.DataFrame({\"cats\": [1,2,3, 2, 3], \"dogs\": [10,20,30, 20, 30]})"
   ]
  },
  {
   "cell_type": "code",
   "execution_count": null,
   "id": "c277b5ee-a1d4-4be7-947e-198862981fe9",
   "metadata": {},
   "outputs": [],
   "source": [
    "sb(\"Lavender\")\n",
    "\n",
    "sr = pd.Series([0, 4, 42])\n",
    "sr"
   ]
  },
  {
   "cell_type": "markdown",
   "id": "3a00d501-0eca-45c8-bbe6-3f0a6b6bb6cb",
   "metadata": {},
   "source": [
    "#### Open file"
   ]
  },
  {
   "cell_type": "code",
   "execution_count": null,
   "id": "8c65b0d7-b516-42ef-94fd-7c54384f1745",
   "metadata": {},
   "outputs": [],
   "source": [
    "sb(\"Lavender\")\n",
    "url = \"https://raw.githubusercontent.com/harjotspahwa/Car-Evaluation/master/car_evaluation.csv\"\n",
    "\n",
    "df_accidents = pd.read_csv(\"old/data/accidents.csv\")\n",
    "df_cars      = pd.read_csv(url, header = None)\n",
    "df_greentrip = pd.read_excel(\"old/data/green_tripdata_2015-09.xls\")\n",
    "\n",
    "df_accidents"
   ]
  },
  {
   "cell_type": "markdown",
   "id": "92319bd3-bee4-429c-a268-8e2a214746ed",
   "metadata": {},
   "source": [
    "#### Dataframe operations"
   ]
  },
  {
   "cell_type": "code",
   "execution_count": null,
   "id": "7488a210-ee24-40f4-9d5f-265f40c4b449",
   "metadata": {},
   "outputs": [],
   "source": [
    "df[\"cats\"]        # 👈read 1 column, returns pd.Series\n",
    "df.loc[0]         # 👈 read 1 row (location)\n",
    "df.loc[0, \"dogs\"] # 👈 read row/column\n",
    "df_greentrip[\"lpep_pickup_datetime\"].dt.year.unique() #👈read year from datetime type\n",
    "df1.reset_index()  #👈 старият индекс става нова колона 'index'. not inplace\n",
    "df1.index = df['cats'] #👈тази колона става индекс\n",
    "df1.index = [0, 1, 2, 3, 4] #👈сетваме нови индекси\n",
    "del df1                     #👈трием dataset, освобождаваме памет"
   ]
  },
  {
   "cell_type": "markdown",
   "id": "344bdd9d-811c-4c42-8951-d4fe9fc2aada",
   "metadata": {},
   "source": [
    "#### Explore dataset"
   ]
  },
  {
   "cell_type": "code",
   "execution_count": null,
   "id": "bdda7a36-5eb4-41b7-a2f8-f3a58acea2b1",
   "metadata": {},
   "outputs": [],
   "source": [
    "df.shape        #👈 check number of rows/columns\n",
    "df.dtypes       #👈 check data type\n",
    "df.describe().T #👈 mean, std, min, max...\n",
    "df.columns      #👈 check column names\n",
    "df.columns = [\"cats\", \"dogs\"] #👈rename or add column names if they don't exist\n",
    "df.index                      #👈 check index values\n",
    "df[\"cats\"].unique()           #👈 check unique values. If small number -> категорийна променлива\n",
    "df.groupby(\"cats\").size()     #👈group by category, how many per category\n",
    "plt.hist(df_greentrip[\"Total_amount\"], bins=30) #👈 plot histogram of one column, must be continuous\n",
    "df_greentrip[df_greentrip[\"Total_amount\"] < 0]  #👈 check in which rows Total_amount is < 0\n",
    "df[\"cats\"] = df[\"cats\"].astype(\"category\")      #👈if a columns has numbers, mark it as category, not inplace"
   ]
  },
  {
   "cell_type": "code",
   "execution_count": null,
   "id": "a436b09d-0d67-4ca6-8cc0-38863e8a5a32",
   "metadata": {},
   "outputs": [],
   "source": [
    "# Data Tidying and Cleaning\n"
   ]
  },
  {
   "cell_type": "code",
   "execution_count": null,
   "id": "a3cac300-24ca-47a2-ba8a-a10d089014eb",
   "metadata": {},
   "outputs": [],
   "source": [
    "sb(\"Moccasin\")\n"
   ]
  }
 ],
 "metadata": {
  "kernelspec": {
   "display_name": "Python 3 (ipykernel)",
   "language": "python",
   "name": "python3"
  },
  "language_info": {
   "codemirror_mode": {
    "name": "ipython",
    "version": 3
   },
   "file_extension": ".py",
   "mimetype": "text/x-python",
   "name": "python",
   "nbconvert_exporter": "python",
   "pygments_lexer": "ipython3",
   "version": "3.12.3"
  }
 },
 "nbformat": 4,
 "nbformat_minor": 5
}
