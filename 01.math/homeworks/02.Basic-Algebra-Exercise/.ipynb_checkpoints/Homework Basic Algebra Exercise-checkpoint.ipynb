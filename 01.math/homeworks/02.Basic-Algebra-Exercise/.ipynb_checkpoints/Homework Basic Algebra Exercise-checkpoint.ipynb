{
 "cells": [
  {
   "cell_type": "code",
   "execution_count": null,
   "metadata": {
    "id": "Dt7bS9ogOBGU"
   },
   "outputs": [],
   "source": [
    "%matplotlib inline"
   ]
  },
  {
   "cell_type": "code",
   "execution_count": null,
   "metadata": {
    "id": "RRmzgWSXOBGX"
   },
   "outputs": [],
   "source": [
    "import numpy as np\n",
    "from numpy.polynomial.polynomial import Polynomial\n",
    "import matplotlib.pyplot as plt\n",
    "import math"
   ]
  },
  {
   "cell_type": "markdown",
   "metadata": {
    "id": "qIQwyjrvOBGY"
   },
   "source": [
    "# Basic Algebra Exercise - Functions, Polynomials, Complex Numbers. Applications of Abstract Algebra"
   ]
  },
  {
   "cell_type": "markdown",
   "metadata": {
    "colab_type": "toc",
    "id": "YWnkNQMLEDHh"
   },
   "source": [
    ">[Basic Algebra Exercise - Functions, Polynomials, Complex Numbers. Applications of Abstract Algebra](#scrollTo=qIQwyjrvOBGY)\n",
    "\n",
    ">>[Problem 1. Polynomial Interpolation](#scrollTo=vo40z3G9vZzX)\n",
    "\n",
    ">>>[Solution - Separate the interpolating and the plotting function](#scrollTo=YzyVT_o5OBGc)\n",
    "\n",
    ">>>>[Test interpolation and extrapolation](#scrollTo=JNMfW7QMNV6n)\n",
    "\n",
    ">>>>[Test - interpolate with smaller degree](#scrollTo=-6v9W-4oMFKa)\n",
    "\n",
    ">>>>[Test - interpolate with higher degree](#scrollTo=UjXX9U2POBGc)\n",
    "\n",
    ">>>>[Test - extrapolate with higher degree](#scrollTo=3iAiXLV79581)\n",
    "\n",
    ">>[Problem 2. Complex Numbers as Vectors](#scrollTo=6LzT4w3wv5I6)\n",
    "\n",
    ">>[Problem 3. Recursion and Fractals](#scrollTo=_xTvQ3TIOBGf)\n",
    "\n",
    ">>>>[Endless sequences](#scrollTo=pToUfMTWOBGf)\n",
    "\n",
    ">>>>[The Mandelbrot set](#scrollTo=C3niKgZdOBGj)\n",
    "\n",
    ">>>>[Optional problem](#scrollTo=OBeE_foIOBGj)\n",
    "\n",
    ">>[Problem 4. Run-length Encoding](#scrollTo=np0O0EGCOBGj)\n",
    "\n",
    ">>[Problem 5. Function Invertibility and Cryptography](#scrollTo=BH8mRDS8OBGk)\n",
    "\n",
    ">>[Problem 6. Diffie - Hellman Key Exchange Simulation](#scrollTo=Dqi3H-7-OBGk)\n",
    "\n",
    ">>[** Problem 7. The Galois Field in Cryptography](#scrollTo=YR2BiXUSOBGk)\n",
    "\n",
    ">>[** Problem 8. Huffman Compression Algorithm](#scrollTo=Xz2smULwOBGl)\n",
    "\n",
    "\n"
   ]
  },
  {
   "cell_type": "markdown",
   "metadata": {
    "id": "vo40z3G9vZzX"
   },
   "source": [
    "## Problem 1. Polynomial Interpolation\n",
    "Given a set of $n$ data points with coordinates $(x_1; y_1), (x_2; y_2), \\dots, (x_n; y_n)$, figure out what function may have generated these points and plot it."
   ]
  },
  {
   "cell_type": "markdown",
   "metadata": {
    "id": "YzyVT_o5OBGc"
   },
   "source": [
    "### Solution - Separate the interpolating and the plotting function"
   ]
  },
  {
   "cell_type": "code",
   "execution_count": null,
   "metadata": {
    "id": "q7o4wCFmKTaQ"
   },
   "outputs": [],
   "source": [
    "def interpolate_polynomial(points, degree):\n",
    "  \"\"\"\n",
    "  Interpolates a polynomial of the specified degree through the given points\n",
    "  Input:\n",
    "    points - a list of points (x, y) to plot\n",
    "    degree - the polynomial degree\n",
    "  \"\"\"\n",
    "  x = points[:, 0]\n",
    "  y = points[:, 1]\n",
    "\n",
    "  return Polynomial.fit(x, y, degree)"
   ]
  },
  {
   "cell_type": "markdown",
   "metadata": {
    "id": "uz3rhhzSqE13"
   },
   "source": [
    "Create a generic plotting function that will plot 1 to 4 polynomials in a grid. The goal is to have several plots side by side for easy comparison."
   ]
  },
  {
   "cell_type": "code",
   "execution_count": null,
   "metadata": {
    "id": "nhg9QX7LKlaa"
   },
   "outputs": [],
   "source": [
    "def plot_polynomials(polynomials):\n",
    "  \"\"\"\n",
    "  Plots 1 to 4 polynomials\n",
    "  Input:\n",
    "    polynomials - a list of 1 to 4 tuples. Each tuple contains:\n",
    "      poly - polinomial (the result of function interpolate_polynomial)\n",
    "      points - a list of points (x, y) to plot (scatter)\n",
    "      min_x, max_x - range of x values used to plot the interpolating polynomial\n",
    "  Note: input validity ommited for brevity, the goal of the function is to experiement with polynomials and degree\n",
    "  \"\"\"\n",
    "  colors = [\"blue\", \"orange\", \"green\", \"red\"]\n",
    "  num_polynomials = len(polynomials)\n",
    "  plot_rows = (lambda x: 1 if x in [1, 2, 3] else 2)(num_polynomials)\n",
    "  plot_cols = (lambda x: x if x in [1, 2, 3] else 2)(num_polynomials)\n",
    "\n",
    "  fig, axes = plt.subplots(plot_rows, plot_cols, figsize=(5*plot_cols, 4*plot_rows))\n",
    "\n",
    "  for i, (poly, points, min_x, max_x, title) in enumerate(polynomials):\n",
    "      ax = axes if not isinstance(axes, np.ndarray) else axes[i] if len(axes.shape)==1 else axes[math.floor(i/2),i%2]\n",
    "\n",
    "      plot_x = np.linspace(min_x, max_x, 1000)\n",
    "      plot_y = poly(plot_x)\n",
    "\n",
    "      ax.set_title(title)\n",
    "      ax.plot(plot_x, plot_y, f'tab:{colors[i]}')\n",
    "      ax.scatter(points[:, 0], points[:, 1])"
   ]
  },
  {
   "cell_type": "markdown",
   "metadata": {
    "id": "JNMfW7QMNV6n"
   },
   "source": [
    "#### Test: interpolation and extrapolation"
   ]
  },
  {
   "cell_type": "code",
   "execution_count": null,
   "metadata": {
    "id": "ziRHJTipNbsv"
   },
   "outputs": [],
   "source": [
    "points = np.array([(0, 0), (1, 0.8), (2, 0.9), (3, 0.1), (4, -0.8), (5, -1.0)])\n",
    "poly = interpolate_polynomial(points, len(points) - 1)\n",
    "\n",
    "plot_polynomials([(poly, points, np.min(points[:, 0]), np.max(points[:, 0]), \"Polynomial Interpolation\"), (poly, points, -5, 10, \"Plynomial Extrapolation\") ])"
   ]
  },
  {
   "cell_type": "markdown",
   "metadata": {
    "id": "-6v9W-4oMFKa"
   },
   "source": [
    "#### Test: interpolate with smaller degree"
   ]
  },
  {
   "cell_type": "code",
   "execution_count": null,
   "metadata": {
    "id": "e0m6R6QHMG1W"
   },
   "outputs": [],
   "source": [
    "poly0 = interpolate_polynomial(points, 5)\n",
    "poly1 = interpolate_polynomial(points, 3)\n",
    "poly2 = interpolate_polynomial(points, 2)\n",
    "poly3 = interpolate_polynomial(points, 1)\n",
    "\n",
    "min_max_x = (np.min(points[:, 0]), np.max(points[:, 0]))\n",
    "plot_polynomials([(poly0, points, *min_max_x, \"Degree=5\"), (poly1, points, *min_max_x, \"Degree=3\"), (poly2, points, *min_max_x, \"Degree=2\"), (poly3, points, *min_max_x, \"Degree=1\")])"
   ]
  },
  {
   "cell_type": "markdown",
   "metadata": {
    "id": "UjXX9U2POBGc"
   },
   "source": [
    "#### Test: interpolate with higher degree"
   ]
  },
  {
   "cell_type": "code",
   "execution_count": null,
   "metadata": {
    "id": "01y_VS4uOBGc"
   },
   "outputs": [],
   "source": [
    "poly0 = interpolate_polynomial(points, 5)\n",
    "poly1 = interpolate_polynomial(points, 7)\n",
    "poly2 = interpolate_polynomial(points, 10)\n",
    "\n",
    "min_max_x = (np.min(points[:, 0]), np.max(points[:, 0]))\n",
    "plot_polynomials([(poly0, points, *min_max_x, \"Degree=5\"), (poly1, points, *min_max_x, \"Degree=7\"), (poly2, points, *min_max_x, \"Degree=10\")])"
   ]
  },
  {
   "cell_type": "markdown",
   "metadata": {
    "id": "3iAiXLV79581"
   },
   "source": [
    "#### Test: extrapolate with higher degree"
   ]
  },
  {
   "cell_type": "code",
   "execution_count": null,
   "metadata": {
    "colab": {
     "base_uri": "https://localhost:8080/",
     "height": 426
    },
    "executionInfo": {
     "elapsed": 1079,
     "status": "ok",
     "timestamp": 1712922669948,
     "user": {
      "displayName": "Miroslava Ivanova",
      "userId": "04041431527474936486"
     },
     "user_tz": -180
    },
    "id": "DMi6lon4OBGc",
    "outputId": "6a9ca8db-5c12-45eb-a921-195d8ed08947"
   },
   "outputs": [
    {
     "name": "stderr",
     "output_type": "stream",
     "text": [
      "/usr/local/lib/python3.10/dist-packages/numpy/polynomial/polynomial.py:1362: RankWarning: The fit may be poorly conditioned\n",
      "  return pu._fit(polyvander, x, y, deg, rcond, full, w)\n"
     ]
    },
    {
     "data": {
      "image/png": "[encoded data removed]",
      "text/plain": [
       "<Figure size 1500x400 with 3 Axes>"
      ]
     },
     "metadata": {},
     "output_type": "display_data"
    }
   ],
   "source": [
    "poly0 = interpolate_polynomial(points, 5)\n",
    "poly1 = interpolate_polynomial(points, 7)\n",
    "poly2 = interpolate_polynomial(points, 10)\n",
    "\n",
    "plot_polynomials([(poly0, points, -10, 10, \"Degree=5\"), (poly1, points, -10, 10, \"Degree=7\"), (poly2, points, -10, 10, \"Degree=10\")])"
   ]
  },
  {
   "cell_type": "markdown",
   "metadata": {
    "id": "6LzT4w3wv5I6"
   },
   "source": [
    "## Problem 2. Complex Numbers as Vectors"
   ]
  },
  {
   "cell_type": "markdown",
   "metadata": {
    "id": "UjWO3cFhOBGd"
   },
   "source": [
    "We saw that a complex number $z = a + bi$ is equivalent to (and therefore can be represented as) the ordered tuple $(a; b)$, which can be plotted in a 2D space. So, complex numbers and 2D points are equivalent. What is more, we can draw a vector from the origin of the coordinate plane to our point. This is called a point's **radius-vector**.\n",
    "\n",
    "Let's try plotting complex numbers as radius vectors. Don't forget to label the real and imaginary axes. Also, move the axes to the origin. Hint: These are called \"spines\"; you'll need to move 2 of them to the origin and remove the other 2 completely. Hint 2: You already did this in the previous lab.\n",
    "\n",
    "We can use `plt.quiver()` to plot the vector. It can behave a bit strangely, so we'll need to set the scale of the vectors to be the same as the scale on the graph axes:\n",
    "```python\n",
    "plt.quiver(0, 0, z.real, z.imag, angles = \"xy\", scale_units = \"xy\", scale = 1)\n",
    "```\n",
    "\n",
    "Other than that, the main parameters are: $x_{begin}$, $y_{begin}$, $x_{length}$, $y_{length}$ in that order.\n",
    "\n",
    "Now, set the aspect ratio of the axes to be equal. Also, add grid lines. Set the axis numbers (called ticks) to be something like `range(-3, 4)` for now.\n",
    "```python\n",
    "plt.xticks(range(-4, 4))\n",
    "plt.yticks(range(-4, 4))\n",
    "\n",
    "```\n",
    "\n",
    "If you wish to, you can be a bit more clever with the tick marks. Find the minimal and maximal $x$ and $y$ values and set the ticks according to them. It's a good practice not to jam the plot too much, so leave a little bit of space. That is, if the actual x-range is $[-2; 2]$, set the plotting to be $[-2.5; 2.5]$ for example. Otherwise, the vector heads (arrows) will be \"jammed\" into a corner or side of the plot."
   ]
  },
  {
   "cell_type": "code",
   "execution_count": null,
   "metadata": {
    "id": "PG315tMzOBGd"
   },
   "outputs": [],
   "source": [
    "def plot_complex_number(z):\n",
    "    \"\"\"\n",
    "    Plots the complex number z as a radius vector in the 2D space\n",
    "    \"\"\"\n",
    "    pass\n",
    "\n",
    "plot_complex_number(2 + 3j)"
   ]
  },
  {
   "cell_type": "markdown",
   "metadata": {
    "id": "ds4bwFraOBGd"
   },
   "source": [
    "How about many numbers? We'll need to get a little bit more creative. First, we need to create a 2D array, each element of which will be a 4-element array: `[0, 0, z.real, z.imag]`. Next, `plt.quiver()` can accept a range of values. Look at [this StackOverflow post](https://stackoverflow.com/questions/12265234/how-to-plot-2d-math-vectors-with-matplotlib) for details and adapt your code."
   ]
  },
  {
   "cell_type": "code",
   "execution_count": null,
   "metadata": {
    "id": "e_173IWrOBGe"
   },
   "outputs": [],
   "source": [
    "def plot_complex_numbers(numbers, colors):\n",
    "    \"\"\"\n",
    "    Plots the given complex numbers as radius vectors in the 2D space\n",
    "    \"\"\"\n",
    "    # Write your code here\n",
    "    pass\n",
    "plot_complex_numbers([2 + 3j, -2 - 1j, -3, 2j], [\"green\", \"red\", \"blue\", \"orange\"])"
   ]
  },
  {
   "cell_type": "markdown",
   "metadata": {
    "id": "9zJEUPCAOBGe"
   },
   "source": [
    "Now let's add two numbers and plot the result."
   ]
  },
  {
   "cell_type": "code",
   "execution_count": null,
   "metadata": {
    "id": "z6GzzijPOBGe"
   },
   "outputs": [],
   "source": [
    "z1 = 2 + 3j\n",
    "z2 = 1 - 1j\n",
    "plot_complex_numbers([z1, z2, z1 + z2], [\"red\", \"blue\", \"green\"])"
   ]
  },
  {
   "cell_type": "markdown",
   "metadata": {
    "id": "eAAM8DVoOBGe"
   },
   "source": [
    "We can see that adding the complex numbers is equivalent to adding vectors (remember the \"parallelogram rule\"). As special cases, let's try adding pure real and pure imaginary numbers:"
   ]
  },
  {
   "cell_type": "code",
   "execution_count": null,
   "metadata": {
    "id": "NOH0ydqCOBGe"
   },
   "outputs": [],
   "source": [
    "z1 = 2 + 3j\n",
    "z2 = 2 + 0j\n",
    "plot_complex_numbers([z1, z2, z1 + z2], [\"red\", \"blue\", \"green\"])"
   ]
  },
  {
   "cell_type": "code",
   "execution_count": null,
   "metadata": {
    "id": "343OJK5xOBGe"
   },
   "outputs": [],
   "source": [
    "z1 = 2 + 3j\n",
    "z2 = 0 + 2j\n",
    "plot_complex_numbers([z1, z2, z1 + z2], [\"red\", \"blue\", \"green\"])"
   ]
  },
  {
   "cell_type": "markdown",
   "metadata": {
    "id": "KaG8QB86OBGe"
   },
   "source": [
    "How about multiplication? First we know that multiplying by 1 gives us the same vector and mulpiplying by -1 gives us the reversed version of the same vector. How about multiplication by $\\pm i$?"
   ]
  },
  {
   "cell_type": "code",
   "execution_count": null,
   "metadata": {
    "id": "eJV-lUXNOBGe"
   },
   "outputs": [],
   "source": [
    "z = 2 + 3j\n",
    "plot_complex_numbers([z, z * 1], [\"red\", \"blue\"])\n",
    "plot_complex_numbers([z, z * -1], [\"red\", \"blue\"])\n",
    "plot_complex_numbers([z, z * 1j], [\"red\", \"blue\"])\n",
    "plot_complex_numbers([z, z * -1j], [\"red\", \"blue\"])"
   ]
  },
  {
   "cell_type": "markdown",
   "metadata": {
    "id": "xDMkmoZoOBGe"
   },
   "source": [
    "So, multiplication by $i$ is equivalent to 90-degree rotation. We can actually see the following equivalence relationships between multiplying numbers and rotation about the origin:\n",
    "\n",
    "| Real | Imaginary | Result rotation |\n",
    "|------|-----------|-----------------|\n",
    "| 1    | 0         | $0^\\circ$       |\n",
    "| 0    | 1         | $90^\\circ$      |\n",
    "| -1   | 0         | $180^\\circ$     |\n",
    "| 0    | -1        | $270^\\circ$     |"
   ]
  },
  {
   "cell_type": "markdown",
   "metadata": {
    "id": "TlzdjH-tOBGf"
   },
   "source": [
    "Once again, we see the power of abstraction and algebra in practice. We know that complex numbers and 2D vectors are equivalent. Now we see something more: addition and multiplication are equivalent to translation (movement) and rotation!\n",
    "\n",
    "Let's test the multiplication some more. We can see the resulting vector is the sum of the original vectors, but *scaled and rotated*:"
   ]
  },
  {
   "cell_type": "code",
   "execution_count": null,
   "metadata": {
    "id": "iI_SAv6xOBGf"
   },
   "outputs": [],
   "source": [
    "z1 = 2 + 3j\n",
    "z2 = 1 - 2j\n",
    "plot_complex_numbers([z1, z2, z1 * z2], [\"red\", \"blue\", \"green\"])"
   ]
  },
  {
   "cell_type": "markdown",
   "metadata": {
    "id": "_xTvQ3TIOBGf"
   },
   "source": [
    "## Problem 3. Recursion and Fractals\n",
    "<img src=\"recursion.jpg\" style=\"max-height: 230px\" />\n",
    "\n",
    "> \"To understand recursion, you first need to understand recursion.\"\n",
    "\n",
    "There are three main parts to a recursive function:\n",
    "1. Bottom - when the recursion should finish\n",
    "2. Operation - some meaningful thing to do\n",
    "3. Recursive call - calling the same function\n",
    "4. Clean-up - returning all data to its previous state (this reverses the effect of the operation)\n",
    "\n",
    "Let's do one of the most famous recursion examples. The most trivial function to recreate is the **factorial**. Derive (or look up) a recurrent definition of the factorial of a non-negative integer and implement it.\n",
    "\n",
    "**There is a one-to-one correspondence between loops and recursion.** Use this correspondence to create an iterative definition (one which uses loops) and compare both. Test that they return the same results.\n",
    "\n",
    "**Note:** Think how Python handles very large integers."
   ]
  },
  {
   "cell_type": "code",
   "execution_count": null,
   "metadata": {
    "id": "CUfJaHJ2OBGf"
   },
   "outputs": [],
   "source": [
    "def factorial_recursive(n):\n",
    "    \"\"\"\n",
    "    Computes the factorial of a non-negative number n (using recursion)\n",
    "    \"\"\"\n",
    "    # Write your code here\n",
    "    pass\n",
    "\n",
    "def factorial_iterative(n):\n",
    "    \"\"\"\n",
    "    Computes the factorial of a non-negative number n (using iteration)\n",
    "    \"\"\"\n",
    "    # Write your code here\n",
    "    pass"
   ]
  },
  {
   "cell_type": "markdown",
   "metadata": {
    "id": "pToUfMTWOBGf"
   },
   "source": [
    "#### Endless sequences\n",
    "A very famous recursive definition gives us natural numbers (by (the Peano axioms)[https://en.wikipedia.org/wiki/Peano_axioms]). How can we recreate this using Python? Obviously, we cannot put an infinite sequence in a list. However, we can do something else: define the entire sequence and take only parts of it.\n",
    "\n",
    "Devise a way to define all natural numbers, using the function signature below. Use this to define a smaller, but just as infinite, sequence of even numbers. **Hint:** If you're very stuck, think about the problem hard and it will finally _yield_ to your efforts."
   ]
  },
  {
   "cell_type": "code",
   "execution_count": null,
   "metadata": {
    "id": "0dCXMSotOBGi"
   },
   "outputs": [],
   "source": [
    "def nat():\n",
    "    \"\"\"Returns all natural numbers\"\"\"\n",
    "    pass\n",
    "\n",
    "def even()\n",
    "    \"\"\"Returns all even numbers\"\"\"\n",
    "    pass"
   ]
  },
  {
   "cell_type": "markdown",
   "metadata": {
    "id": "Ei0dDBtgOBGj"
   },
   "source": [
    "Use the approach above to rewrite the factorial function in a \"lazy\" way."
   ]
  },
  {
   "cell_type": "code",
   "execution_count": null,
   "metadata": {
    "id": "Hkambzq_OBGj"
   },
   "outputs": [],
   "source": [
    "def factorial_new(n):\n",
    "    # Write your own docstring as showing it here will be too much of a hint :)\n",
    "    # Don't forget to also write the code :D\n",
    "    pass"
   ]
  },
  {
   "cell_type": "markdown",
   "metadata": {
    "id": "cXCxyXgMOBGj"
   },
   "source": [
    "Use **the same approach** to return the Fibonacci sequence - another famous one in mathematics."
   ]
  },
  {
   "cell_type": "code",
   "execution_count": null,
   "metadata": {
    "id": "_PXo7SNhOBGj"
   },
   "outputs": [],
   "source": [
    "def fibonacci(n):\n",
    "    # Write your docstring and code\n",
    "    pass"
   ]
  },
  {
   "cell_type": "markdown",
   "metadata": {
    "id": "C3niKgZdOBGj"
   },
   "source": [
    "#### The Mandelbrot set\n",
    "Now, let's get to something more beefy. The Mandelbrot set is defined by repeatedly squaring complex numbers. It turns out that it produces a **fractal** - a self-similar structure. Follow a tutorial to create (and possibly visualize) the Mandelbrot set. I think [this one](https://medium.com/swlh/visualizing-the-mandelbrot-set-using-python-50-lines-f6aa5a05cf0f) is a good starting point."
   ]
  },
  {
   "cell_type": "code",
   "execution_count": null,
   "metadata": {
    "id": "l8Oey8cXOBGj"
   },
   "outputs": [],
   "source": [
    "# Write your code here"
   ]
  },
  {
   "cell_type": "markdown",
   "metadata": {
    "id": "OBeE_foIOBGj"
   },
   "source": [
    "#### * Optional problem\n",
    "Try to recreate a Lindermeyer system (also known as **L-system**, [source](https://en.wikipedia.org/wiki/L-system)). These are systems created via a series of replacement rules."
   ]
  },
  {
   "cell_type": "code",
   "execution_count": null,
   "metadata": {
    "id": "UfGZTxptOBGj"
   },
   "outputs": [],
   "source": [
    "# Write your code here"
   ]
  },
  {
   "cell_type": "markdown",
   "metadata": {
    "id": "np0O0EGCOBGj"
   },
   "source": [
    "## Problem 4. Run-length Encoding\n",
    "One application of algebra and basic math can be **compression**. This is a way to save data in less space than it originally takes. The most basic form of compression is called [run-length encoding](https://en.wikipedia.org/wiki/Run-length_encoding).\n",
    "\n",
    "Write a function that encodes a given text. Write another one that decodes.\n",
    "\n",
    "We can see that RLE is not very useful in the general case. But it can be extremely useful if we have very few symbols. An example of this can be DNA and protein sequences. DNA code, for example, has only 4 characters.\n",
    "\n",
    "Test your encoding and decoding functions on a DNA sequence (you can look up some on the Internet). Measure how much your data is compressed relative to the original."
   ]
  },
  {
   "cell_type": "code",
   "execution_count": null,
   "metadata": {
    "id": "ENoxtScbOBGk"
   },
   "outputs": [],
   "source": [
    "def encode(text):\n",
    "    \"\"\"\n",
    "    Returns the run-length encoded version of the text\n",
    "    (numbers after symbols, length = 1 is skipped)\n",
    "    \"\"\"\n",
    "    pass\n",
    "\n",
    "def decode(text):\n",
    "    \"\"\"\n",
    "    Decodes the text using run-length encoding\n",
    "    \"\"\"\n",
    "    pass"
   ]
  },
  {
   "cell_type": "code",
   "execution_count": null,
   "metadata": {
    "id": "SBj3oP-9OBGk"
   },
   "outputs": [],
   "source": [
    "# Tests\n",
    "# Test that the functions work on their own\n",
    "assert encode(\"AABCCCDEEEE\") == \"A2BC3DE4\"\n",
    "assert decode(\"A2BC3DE4\") == \"AABCCCDEEEE\"\n",
    "\n",
    "# Test that the functions really invert each other\n",
    "assert decode(encode(\"AABCCCDEEEE\")) == \"AABCCCDEEEE\"\n",
    "assert encode(decode(\"A2BC3DE4\")) == \"A2BC3DE4\""
   ]
  },
  {
   "cell_type": "markdown",
   "metadata": {
    "id": "BH8mRDS8OBGk"
   },
   "source": [
    "## * Problem 5. Function Invertibility and Cryptography\n",
    "As we already saw, some functions are able to be inverted. That is, if we know the output, we can see what input generated it directly. This is true if the function is **one-to-one correspondence** (bijection).\n",
    "\n",
    "However, not all functions are created the same. Some functions are easy to compute but their inverses are extremely difficult. A very important example is **number factorization**. It's relatively easy (computationally) to multiply numbers but factoring them is quite difficult. Let's run an experiment.\n",
    "\n",
    "We'll need a function to generate random n-bit numbers. One such function can be found in the `random` package:\n",
    "```python\n",
    "import random\n",
    "random.getrandbits(n_bits)\n",
    "```\n",
    "\n",
    "It works perfectly for this example. However, to make a point about random generators and their security, we may want to import a similar function from the `secrets` module instead. If you're interested, you can look up \"cryptographic pseudo-random number generators\" / \"PRNGs\".\n",
    "```python\n",
    "import secrets\n",
    "secrets.randbits(n_bits)\n",
    "\n",
    "```\n",
    "\n",
    "We could, of course, write our factorization by hand but we'll use `sympy`\n",
    "```python\n",
    "from sympy.ntheory import factorint\n",
    "factorint(1032969399047817906432668079951) # {3: 2, 79: 1, 36779: 1, 7776252885493: 1, 5079811103: 1}\n",
    "```\n",
    "\n",
    "This function returns a `dict` where the keys are the factors, and the values - how many times they should be multiplied.\n",
    "\n",
    "We'll also need a tool to accurately measure performance. Have a look at [this one](https://docs.python.org/3/library/time.html#time.time) for example.\n",
    "\n",
    "Specify a sequence of bit lengths, in increasing order. For example, you might choose something like `[10, 20, 25, 30, 32, 33, 35, 38, 40]`. Depending on your computer's abilities you can go as high as you want. For each bit length, generate a number. See how much time it takes to factor it. Then see how much time it takes to multiply the factors. Be careful how you measure these. You shouldn't include the number generation (or any other external functions) in your timing.\n",
    "\n",
    "In order to have better accuracy, don't do this once per bit length. Do it, for example, five times, and average the results.\n",
    "\n",
    "Plot all multiplication and factorization times as a function of the number of bits. You should see that factorization is much, much slower. If you don't see this, just try larger numbers :D."
   ]
  },
  {
   "cell_type": "code",
   "execution_count": null,
   "metadata": {
    "id": "wnSTaZrmOBGk",
    "scrolled": true
   },
   "outputs": [],
   "source": [
    "# Write your code here"
   ]
  },
  {
   "cell_type": "markdown",
   "metadata": {
    "id": "Dqi3H-7-OBGk"
   },
   "source": [
    "## * Problem 6. Diffie - Hellman Key Exchange Simulation\n",
    "As we already saw, there are functions which are very easy to compute in the \"forward\" direction but really difficult (computationally) to invert (that is, determine the input from the output). There is a special case: the function may have a hidden \"trap door\". If you know where that door is, you can invert the function easily. This statement is at the core of modern cryptography.\n",
    "\n",
    "Look up **Diffie - Hellman key exchange** (here's a [video](https://www.youtube.com/watch?v=cM4mNVUBtHk) on that but feel free to use anything else you might find useful).\n",
    "\n",
    "Simulate the algorithm you just saw. Generate large enough numbers so the difference is noticeable (say, factoring takes 10-15 seconds). Simulate both participants in the key exchange. Simulate an eavesdropper.\n",
    "\n",
    "First, make sure after both participants run the algorithm, they have *the same key* (they generate the same number).\n",
    "\n",
    "Second, see how long it takes for them to exchange keys.\n",
    "\n",
    "Third, see how long it takes the eavesdropper to arrive at the correct shared secret.\n",
    "\n",
    "You should be able to see **the power of cryptography**. In this case, it's not that the function is irreversible. It can be reversed, but it takes a really long time (and with more bits, we're talking billions of years). However, if you know something else (this is called a **trap door**), the function becomes relatively easy to invert."
   ]
  },
  {
   "cell_type": "code",
   "execution_count": null,
   "metadata": {
    "id": "KmsenppxOBGk"
   },
   "outputs": [],
   "source": [
    "# Write your code here"
   ]
  },
  {
   "cell_type": "markdown",
   "metadata": {
    "id": "YR2BiXUSOBGk"
   },
   "source": [
    "## ** Problem 7. The Galois Field in Cryptography\n",
    "Research about the uses of the Galois field. What are its properties? How can it be used in cryptography? Write a simple cryptosystem based on the field. Research production-grade systems based on the Galois field.\n",
    "\n",
    "You can use the following questions to facilitate your research:\n",
    "* What is a field?\n",
    "* What is GF(2)? Why is it an algebraic field?\n",
    "* How and why do we extend the field to have more elements, like GF(3), GF(4), etc.? Do they have any practical applications?\n",
    "* What is perfect secrecy? How does it relate to the participants in the conversation, and to the outside eavesdropper?\n",
    "* What is symmetrical encryption?\n",
    "* How to encrypt one-bit messages?\n",
    "* How to extend the one-bit encryption system to many buts?\n",
    "* Why is the system decryptable? How do the participants decrypt the encrypted messages?\n",
    "* Why isn't the eavesdropper able to decrypt?\n",
    "* What is a one-time pad?\n",
    "    * How does the one-time pad achieve perfect secrecy?\n",
    "* What happens if we try to use a one-time pad many times?\n",
    "    * Provide an example where you break the \"many-time pad\" security\n",
    "* What are some current enterprise-grade applications of encryption over GF(2)?\n",
    "* Implement a cryptosystem based on GF(2). Show correctness on various test cases"
   ]
  },
  {
   "cell_type": "markdown",
   "metadata": {
    "id": "Xz2smULwOBGl"
   },
   "source": [
    "## ** Problem 8. Huffman Compression Algorithm\n",
    "Examine and implement the **Huffman algorithm** for compressing data. It's based on information theory and probability theory. Document your findings and provide your implementation.\n",
    "\n",
    "This algorithm is used for **lossless compression**: compressing data without loss of quality. You can use the following checklist:\n",
    "\n",
    "* What is the difference between lossless and lossy compression?\n",
    "* When can we get away with lossy compression?\n",
    "* What is entropy?\n",
    "* How are Huffman trees constructed?\n",
    "    * Provide a few examples\n",
    "* How can we get back the uncompressed data from the Huffman tree?\n",
    "* How and where are Huffman trees stored?\n",
    "* Implement the algorithm. Add any other formulas / assumptions / etc. you might need.\n",
    "* Test the algorithm. A good measure would be percentage compression: $$\\frac{\\text{compressed}}{\\text{uncompressed}} * 100\\%$$\n",
    "* How well does Huffman's algorithm perform compared to other compression algorithms (e.g. LZ77)?"
   ]
  },
  {
   "cell_type": "markdown",
   "metadata": {
    "id": "-JqNofveGpf5"
   },
   "source": [
    "# Mirka"
   ]
  },
  {
   "cell_type": "code",
   "execution_count": null,
   "metadata": {
    "id": "9ePEsMlnGrsc"
   },
   "outputs": [],
   "source": [
    "import matplotlib.pyplot as plt\n",
    "import numpy as np\n",
    "\n",
    "# Some example data to display\n",
    "x = np.linspace(0, 2 * np.pi, 400)\n",
    "y = np.sin(x ** 2)"
   ]
  },
  {
   "cell_type": "code",
   "execution_count": null,
   "metadata": {
    "id": "IcZzbv-0GyHG"
   },
   "outputs": [],
   "source": [
    "# A figure with just one subplot\n",
    "fig, ax = plt.subplots()\n",
    "ax.plot(x, y)\n",
    "ax.set_title('A single plot')"
   ]
  },
  {
   "cell_type": "code",
   "execution_count": null,
   "metadata": {
    "id": "0EwDV4tvG5cS"
   },
   "outputs": [],
   "source": [
    "# Stack vertically\n",
    "fig, (ax1, ax2) = plt.subplots(2)\n",
    "fig.suptitle('Vertically stacked subplots')\n",
    "ax1.plot(x, y)\n",
    "ax2.plot(x, -y)"
   ]
  },
  {
   "cell_type": "code",
   "execution_count": null,
   "metadata": {
    "id": "RI6xJ_YoHUid"
   },
   "outputs": [],
   "source": [
    "# Stack horizontally\n",
    "fig, (ax1, ax2) = plt.subplots(1, 2)\n",
    "fig.suptitle('Horizontally stacked subplots')\n",
    "ax1.plot(x, y)\n",
    "ax2.plot(x, -y)\n",
    "# ax3.plot(x, y)"
   ]
  },
  {
   "cell_type": "code",
   "execution_count": null,
   "metadata": {
    "id": "RQ1RhgEdIkEr"
   },
   "outputs": [],
   "source": [
    "# Stack horizontally and vertically 2\n",
    "fig, axs = plt.subplots(2, 2)\n",
    "axs[0, 0].plot(x, y)\n",
    "axs[0, 0].set_title(\"main\")\n",
    "\n",
    "axs[0, 1].plot(x + 1, y + 1, 'tab:orange')\n",
    "axs[0, 1].set_title(\"unrelated\")\n",
    "\n",
    "axs[1, 0].plot(x, y**2, 'tab:green')\n",
    "axs[1, 0].set_title(\"shares x with main\")\n",
    "\n",
    "axs[1, 1].plot(x + 2, y + 2, 'tab:red')\n",
    "axs[1, 1].set_title(\"also unrelated\")\n",
    "fig.tight_layout()"
   ]
  }
 ],
 "metadata": {
  "colab": {
   "collapsed_sections": [
    "6LzT4w3wv5I6",
    "_xTvQ3TIOBGf",
    "np0O0EGCOBGj",
    "BH8mRDS8OBGk",
    "Dqi3H-7-OBGk"
   ],
   "provenance": [],
   "toc_visible": true
  },
  "kernelspec": {
   "display_name": "Python 3 (ipykernel)",
   "language": "python",
   "name": "python3"
  },
  "language_info": {
   "codemirror_mode": {
    "name": "ipython",
    "version": 3
   },
   "file_extension": ".py",
   "mimetype": "text/x-python",
   "name": "python",
   "nbconvert_exporter": "python",
   "pygments_lexer": "ipython3",
   "version": "3.12.2"
  }
 },
 "nbformat": 4,
 "nbformat_minor": 4
}
