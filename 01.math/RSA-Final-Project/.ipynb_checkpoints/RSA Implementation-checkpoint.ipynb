{
 "cells": [
  {
   "cell_type": "markdown",
   "metadata": {
    "colab_type": "toc",
    "id": "8r24KOQsoX90"
   },
   "source": [
    ">>>[5.1 Trivial Implementation](#folderId=1NMmMD5RX97aCsXDtRdiTFytxzVFeGSnW&updateTitle=true&scrollTo=-TLcDZv9QLDV)\n",
    ">>>[5.3 Analyzing the Algorithm](#folderId=1NMmMD5RX97aCsXDtRdiTFytxzVFeGSnW&updateTitle=true&scrollTo=jnDBhClMVdlo)\n",
    ">>>>[How is the length of the inout message affecting the speed of encrypting and decrypting?](#folderId=1NMmMD5RX97aCsXDtRdiTFytxzVFeGSnW&updateTitle=true&scrollTo=bNram5eGVnEZ)\n"
   ]
  },
  {
   "cell_type": "code",
   "execution_count": null,
   "metadata": {},
   "outputs": [],
   "source": []
  },
  {
   "cell_type": "code",
   "execution_count": 1,
   "metadata": {
    "editable": true,
    "id": "GMJuYqFczNL6",
    "slideshow": {
     "slide_type": ""
    },
    "tags": []
   },
   "outputs": [],
   "source": [
    "import random\n",
    "import math\n",
    "import requests\n",
    "import numpy as np\n",
    "import matplotlib.pyplot as plt\n",
    "from pathlib import Path\n",
    "\n",
    "%run \"source/RSA Helper Functions.ipynb\""
   ]
  },
  {
   "cell_type": "markdown",
   "metadata": {
    "id": "0js_g3xOJ5nQ"
   },
   "source": [
    "To better understand the practical application of the theoretical principles we've discussed, let's walk through the key generation, encryption, and decryption processes involved in the RSA algorithm. For the sake of clarity, we'll use small numbers as the previous math example."
   ]
  },
  {
   "cell_type": "markdown",
   "metadata": {
    "id": "-TLcDZv9QLDV"
   },
   "source": [
    "### 5.1 Trivial Implementation"
   ]
  },
  {
   "cell_type": "markdown",
   "metadata": {
    "id": "4bycs5grQXb7"
   },
   "source": [
    "First let's prepare the functions that will be needed to perform the 5 steps of the key generaiton process."
   ]
  },
  {
   "cell_type": "markdown",
   "metadata": {
    "id": "JgE5HbuTzSVs"
   },
   "source": [
    "#### Generate prime numbers"
   ]
  },
  {
   "cell_type": "code",
   "execution_count": 2,
   "metadata": {
    "id": "9L20RynHzQUM"
   },
   "outputs": [],
   "source": [
    "def is_prime (number):\n",
    "    if number < 2:\n",
    "        return False\n",
    "    for i in range (2, number // 2 + 1):\n",
    "        if number % i == 0:\n",
    "            return False\n",
    "    return True\n",
    "\n",
    "def get_random_number(n_bits):\n",
    "    return random.randrange(2**(n_bits-1) + 1, 2**n_bits - 1)\n",
    "\n",
    "def generate_prime(n_bits):\n",
    "    while True:\n",
    "        prime = get_random_number(n_bits)\n",
    "        if is_prime(prime):\n",
    "            return prime"
   ]
  },
  {
   "cell_type": "markdown",
   "metadata": {
    "id": "E_kRG5gmzof2"
   },
   "source": [
    "#### Generate $\\varphi(n)$"
   ]
  },
  {
   "cell_type": "code",
   "execution_count": 3,
   "metadata": {
    "id": "s9DVzMmmzvJQ"
   },
   "outputs": [],
   "source": [
    "def eulers_totient(p, q):\n",
    "    return (p-1) * (q-1)"
   ]
  },
  {
   "cell_type": "markdown",
   "metadata": {
    "id": "vMWkQMgTzfBL"
   },
   "source": [
    "#### Generate public exponent $e$"
   ]
  },
  {
   "cell_type": "code",
   "execution_count": 4,
   "metadata": {
    "id": "DIz9e9-52r4i"
   },
   "outputs": [],
   "source": [
    "def generate_public_exponent(phi_n):\n",
    "    e = random.randint (3, phi_n-1)\n",
    "    while math.gcd(e, phi_n) != 1:\n",
    "        e = random.randint (3, phi_n - 1)\n",
    "\n",
    "    return e"
   ]
  },
  {
   "cell_type": "markdown",
   "metadata": {
    "id": "77ccviUg21vz"
   },
   "source": [
    "#### Calculate the modular inverse $d$"
   ]
  },
  {
   "cell_type": "code",
   "execution_count": 5,
   "metadata": {
    "id": "oniFaoydPkJX"
   },
   "outputs": [],
   "source": [
    "def mod_inverse(e, phi):\n",
    "    for d in range (3, phi):\n",
    "        if (d * e) % phi == 1:\n",
    "            return d\n",
    "    raise ValueError (\"Mod_inverse does not exist!\")"
   ]
  },
  {
   "cell_type": "markdown",
   "metadata": {
    "id": "uZRhy8JU_vLF"
   },
   "source": [
    "#### Generate keys"
   ]
  },
  {
   "cell_type": "markdown",
   "metadata": {
    "id": "_5eckNWuQswW"
   },
   "source": [
    "Now let's combine the above functions to generate the public and private keys. The function `generate_keys()` will also return $n$, which will be used in subsequent encryption/decryption."
   ]
  },
  {
   "cell_type": "code",
   "execution_count": 6,
   "metadata": {
    "id": "Pj9Zlq3x_xk8"
   },
   "outputs": [],
   "source": [
    "def generate_keys(p = None, q = None, e = None, n_bits = 8):    \n",
    "    # Step 1: Generate primes\n",
    "    if ((not p) or (not q)):\n",
    "        p, q = generate_prime(n_bits), generate_prime (n_bits)        \n",
    "        if p == q:\n",
    "            q = generate_prime (n_bits)\n",
    "    else:\n",
    "        if (not is_prime(p) or not is_prime(q)):\n",
    "            pass\n",
    "\n",
    "    # Step 2: Generate the product of the primes\n",
    "    n = p * q\n",
    "\n",
    "    # Step 3: Generate φ(n)\n",
    "    phi_n = eulers_totient(p, q)\n",
    "\n",
    "    # Step 4: Generate the public exponent e\n",
    "    if (not e):\n",
    "        e = generate_public_exponent(phi_n)\n",
    "\n",
    "    # Step 5: Calculate the modular inverse d\n",
    "    d = mod_inverse(e, phi_n)\n",
    "\n",
    "    return e, d, n"
   ]
  },
  {
   "cell_type": "markdown",
   "metadata": {
    "id": "6dLoq26y_QR3"
   },
   "source": [
    "#### Encrypt/Decrypt the message"
   ]
  },
  {
   "cell_type": "code",
   "execution_count": 7,
   "metadata": {
    "id": "1FrzjJAE2AOx"
   },
   "outputs": [],
   "source": [
    "def encrypt_message_to_cipher(M, e, n):\n",
    "    M_ascii_encoded = [ord(ch) for ch in M]\n",
    "    cipher = [pow(ch, e, n) for ch in M_ascii_encoded]\n",
    "\n",
    "    return cipher\n",
    "\n",
    "def decrypt_cipher_to_message(C, d, n):\n",
    "    C_ascii_encoded = [pow(ch, d, n) for ch in C]\n",
    "    M = \"\".join (chr(ch) for ch in C_ascii_encoded)\n",
    "\n",
    "    return M"
   ]
  },
  {
   "cell_type": "markdown",
   "metadata": {
    "id": "GxajZ8QK_YF5"
   },
   "source": [
    "#### Combining all components"
   ]
  },
  {
   "cell_type": "code",
   "execution_count": 8,
   "metadata": {
    "colab": {
     "base_uri": "https://localhost:8080/"
    },
    "executionInfo": {
     "elapsed": 2164,
     "status": "ok",
     "timestamp": 1717946470479,
     "user": {
      "displayName": "Miroslava Ivanova",
      "userId": "04041431527474936486"
     },
     "user_tz": -180
    },
    "id": "ZzUflwhb5bU7",
    "outputId": "3ac6bd90-79e8-4a3e-ea8f-ab5a38d75d76"
   },
   "outputs": [
    {
     "name": "stdout",
     "output_type": "stream",
     "text": [
      "Public Key:   10291\n",
      "Private Key:  2491\n",
      "n:            24047\n",
      "Original message:   A\n",
      "Encrypted by RSA    [2766]\n",
      "Decrypted message:  A\n"
     ]
    }
   ],
   "source": [
    "e, d, n = generate_keys()\n",
    "\n",
    "message = \"A\"\n",
    "encrypted = encrypt_message_to_cipher(message, e, n)\n",
    "decrypted = decrypt_cipher_to_message(encrypted, d, n)\n",
    "\n",
    "print (\"Public Key:  \", e)\n",
    "print (\"Private Key: \", d)\n",
    "print (\"n:           \", n)\n",
    "print (\"Original message:  \", message)\n",
    "print (\"Encrypted by RSA   \", encrypted)\n",
    "print (\"Decrypted message: \", decrypted)"
   ]
  },
  {
   "cell_type": "markdown",
   "metadata": {},
   "source": [
    "#### Unit tests"
   ]
  },
  {
   "cell_type": "markdown",
   "metadata": {
    "id": "IFOnOgN61IXO"
   },
   "source": [
    "Now is a good time to write some tests so that we know we haven't broken our implementation with future changes of the code."
   ]
  },
  {
   "cell_type": "code",
   "execution_count": 9,
   "metadata": {
    "id": "RuVtVPK-1Hqi"
   },
   "outputs": [],
   "source": [
    "def test_decrypting(message):\n",
    "    e, d, n = generate_keys()\n",
    "    encrypted = encrypt_message_to_cipher(message, e, n)\n",
    "    decrypted = decrypt_cipher_to_message(encrypted, d, n)\n",
    "    assert decrypted == message, \"The decrypted message is not the same as the original message!\"\n",
    "\n",
    "def all_unit_tests(messages):\n",
    "    for message in messages:\n",
    "        test_decrypting(message)\n",
    "        \n",
    "    print(\"\\033[0;30;42m All tests passed \\033[0m\")"
   ]
  },
  {
   "cell_type": "code",
   "execution_count": 10,
   "metadata": {
    "colab": {
     "base_uri": "https://localhost:8080/"
    },
    "executionInfo": {
     "elapsed": 3891,
     "status": "ok",
     "timestamp": 1717961529927,
     "user": {
      "displayName": "Miroslava Ivanova",
      "userId": "04041431527474936486"
     },
     "user_tz": -180
    },
    "id": "90dqH__1VeD3",
    "outputId": "839cb2db-fc4f-49ba-f50a-87b1c7a93777"
   },
   "outputs": [
    {
     "name": "stdout",
     "output_type": "stream",
     "text": [
      "\u001b[0;30;42m All tests passed \u001b[0m\n"
     ]
    }
   ],
   "source": [
    "file_6000_chars = Path(\"test_data/file_6000_chars.txt\").read_text()\n",
    "\n",
    "all_unit_tests([\"A\", \"AB\", \"Hello and welcome to Sofia!\", file_6000_chars])"
   ]
  },
  {
   "cell_type": "markdown",
   "metadata": {
    "editable": true,
    "id": "jnDBhClMVdlo",
    "slideshow": {
     "slide_type": ""
    },
    "tags": []
   },
   "source": [
    "### 5.2 Analyzing the Algorithm"
   ]
  },
  {
   "cell_type": "markdown",
   "metadata": {
    "editable": true,
    "id": "1SFvalx6h2gG",
    "slideshow": {
     "slide_type": ""
    },
    "tags": []
   },
   "source": [
    "In this section, we will explore the impact of modifying various parameters involved in the RSA algorithm, particularly focusing on how these changes affect 🔴 security and performance."
   ]
  },
  {
   "cell_type": "markdown",
   "metadata": {
    "editable": true,
    "id": "linaDQXwadXd",
    "slideshow": {
     "slide_type": ""
    },
    "tags": []
   },
   "source": [
    "#### How the size of $p$ and $q$ affects the time for their generation?"
   ]
  },
  {
   "cell_type": "markdown",
   "metadata": {},
   "source": [
    "##### Explore the time to generate prime numbers of varying lengths"
   ]
  },
  {
   "cell_type": "markdown",
   "metadata": {
    "id": "cHo4yCMIpJan"
   },
   "source": [
    "Let's explore the time required to generate prime numbers of varying lengths. We will generate specific primes by constraining the range to the desired prime. The current algorithm in function `generate_prime()` we creted above (🔴link to section) employs a brute-force approach, generating a random number within a specified range and then checking its primality using a brute-force method."
   ]
  },
  {
   "attachments": {},
   "cell_type": "markdown",
   "metadata": {
    "id": "4wh55FesmfcD"
   },
   "source": [
    "<div class=\"alert alert-block alert-warning\" style=\"font-size:1.2em\">\n",
    "⚠️The below cell will run for 3 min. If you want to run it set the flag to True. Otherwise you can inspect the output in the screenshot below the cell.\n",
    "</div>"
   ]
  },
  {
   "cell_type": "code",
   "execution_count": 11,
   "metadata": {
    "id": "A0q28VoAVu9_"
   },
   "outputs": [],
   "source": [
    "I_UNDERSTAND_THE_CELL_WILL_RUN_3_MIN = False\n",
    "\n",
    "# function 'mean_time_msec' is defined in the companion notebook RSA Helper Functions.ipynb\n",
    "if I_UNDERSTAND_THE_CELL_WILL_RUN_LONG_TIME:\n",
    "    n_bits_list = [5, 10, 20, 25, 26, 27, 28, 29, 30]\n",
    "    times_to_generate_prime = [mean_time_msec(3)(generate_prime)(n_bits) for n_bits in n_bits_list]\n",
    "    print(times_to_generate_prime)"
   ]
  },
  {
   "attachments": {},
   "cell_type": "markdown",
   "metadata": {
    "id": "LkmNU3W5kthb"
   },
   "source": [
    "Output of the above cell:\n",
    "\n",
    "![generate_primes_brute_force.png](images/generate_primes_brute_force.png)"
   ]
  },
  {
   "cell_type": "raw",
   "metadata": {
    "id": "Albm0cYNqP_C"
   },
   "source": [
    "Generating a 30 bit prime number took $≈$ 29 seconds. Clearly a performance hog! Let's try to improve the performance by using another algorithm like the Sieve of Eratosthenes."
   ]
  },
  {
   "cell_type": "markdown",
   "metadata": {},
   "source": [
    "##### Try to improve prime generation by using the Sieve of Eratosthenes"
   ]
  },
  {
   "cell_type": "code",
   "execution_count": 15,
   "metadata": {
    "id": "A0q28VoAVu9_"
   },
   "outputs": [
    {
     "name": "stdout",
     "output_type": "stream",
     "text": [
      "[0.022800173610448837, 0.10780012235045433, 133.04660003632307, 4972.120600286871, 10518.466399982572, 21808.636600151658, 47602.44570020586, 98336.68870013207, 221061.53790000826]\n"
     ]
    }
   ],
   "source": [
    "I_UNDERSTAND_THE_CELL_WILL_RUN_7_MIN = False\n",
    "\n",
    "# functions 'generate_prime_sieve_eratosthenes' and 'mean_time_msec' are defined in the companion notebook RSA Helper Functions.ipynb\n",
    "if I_UNDERSTAND_THE_CELL_WILL_RUN_LONG_TIME:\n",
    "    n_bits_list = [5, 10, 20, 25, 26, 27, 28, 29, 30]\n",
    "    times_to_generate_prime_sieve = [mean_time_msec(3)(generate_prime_sieve_eratosthenes)(n_bits) for n_bits in n_bits_list]\n",
    "    print(times_to_generate_prime_sieve)"
   ]
  },
  {
   "attachments": {},
   "cell_type": "markdown",
   "metadata": {},
   "source": [
    "Output of the above cell:\n",
    "\n",
    "![generate_primes_sieve_er.png](images/generate_primes_sieve_er.png)"
   ]
  },
  {
   "cell_type": "markdown",
   "metadata": {},
   "source": [
    "<div class=\"alert alert-danger\" role=\"alert\">\n",
    "ДО ТУК!\n",
    "</div>"
   ]
  },
  {
   "cell_type": "markdown",
   "metadata": {
    "editable": true,
    "slideshow": {
     "slide_type": ""
    },
    "tags": []
   },
   "source": [
    "With 1,000,000,007 being generated in more than two minutes, that is much worse performance. But that is understandable. The algorithm is best suited for _listing all_ primes in a certain range whereas we need a single prime from that range so we end up doing much more than is necessary."
   ]
  },
  {
   "cell_type": "markdown",
   "metadata": {},
   "source": [
    "##### Another improvement attempt by using the Miller-Rabin Primality test"
   ]
  },
  {
   "cell_type": "markdown",
   "metadata": {
    "editable": true,
    "slideshow": {
     "slide_type": ""
    },
    "tags": []
   },
   "source": [
    "Let's make another attempt to improve the prime generation with the Miller-Rabin algorithm. It works by selecting a random number, then testing whether that number is prime using the Miller-Rabin primality test. This algorithm can produce false positves that is why it is executed multiple times to increase the probability of a correct result."
   ]
  },
  {
   "cell_type": "code",
   "execution_count": null,
   "metadata": {
    "colab": {
     "base_uri": "https://localhost:8080/"
    },
    "editable": true,
    "executionInfo": {
     "elapsed": 264,
     "status": "ok",
     "timestamp": 1717966683073,
     "user": {
      "displayName": "Miroslava Ivanova",
      "userId": "04041431527474936486"
     },
     "user_tz": -180
    },
    "id": "c6mxNQVTxpJg",
    "outputId": "3ba521fc-1fb9-4c95-f16e-49d8939caca2",
    "slideshow": {
     "slide_type": ""
    },
    "tags": []
   },
   "outputs": [],
   "source": [
    "# function 'is_prime_miller_rabin' is defined in the companion notebook RSA Helper Functions.ipynb\n",
    "number = 1_000_000_007\n",
    "result = is_prime_miller_rabin(number, k = 20)\n",
    "print(f\"{number} is {'a prime' if result else 'not a prime'} number.\")"
   ]
  },
  {
   "cell_type": "markdown",
   "metadata": {
    "id": "2Utt-03cxxOm"
   },
   "source": [
    "We see from the above test that the largest number for which we tried brute-force, 1,000,000,007, is tested for primality immediately. No need to be exact here, the difference between 1 and 40 seconds is huge.\n",
    "\n",
    "So let's overwrite our original function `is_prime()` and run the perfomance test again."
   ]
  },
  {
   "cell_type": "code",
   "execution_count": null,
   "metadata": {
    "id": "x9J7ItfbyYuV"
   },
   "outputs": [],
   "source": [
    "is_prime = is_prime_miller_rabin"
   ]
  },
  {
   "cell_type": "code",
   "execution_count": null,
   "metadata": {
    "colab": {
     "base_uri": "https://localhost:8080/"
    },
    "editable": true,
    "executionInfo": {
     "elapsed": 296,
     "status": "ok",
     "timestamp": 1717966802953,
     "user": {
      "displayName": "Miroslava Ivanova",
      "userId": "04041431527474936486"
     },
     "user_tz": -180
    },
    "id": "Ynve4aT_y4Es",
    "outputId": "8ca1b276-6b2f-434b-b633-0e5d037df9e9",
    "slideshow": {
     "slide_type": ""
    },
    "tags": []
   },
   "outputs": [],
   "source": [
    "ranges = [1_009, 10_007, 100_003, 1_000_003, 10_000_019, 100_000_007, 1_000_000_007]\n",
    "times_to_generate_prime_mr = [mean_time_msec(5)(generate_prime)(boundary, boundary) for boundary in ranges]\n",
    "print(times_to_generate_prime_mr)"
   ]
  },
  {
   "cell_type": "markdown",
   "metadata": {},
   "source": [
    "The performance test showing that the prime number 1,000,000,007 was generated in $≈$ 0.3 milliseconds is a good improvement. However, the test conditions were quite specific, as the range was narrowed down to find that exact prime number. Additionally, 1,000,000,007 is still considered a relatively small prime number for RSA cryptography. To better evaluate the performance, we should conduct further tests using broader ranges and ranges with higher upper bounds."
   ]
  },
  {
   "cell_type": "code",
   "execution_count": null,
   "metadata": {
    "editable": true,
    "slideshow": {
     "slide_type": ""
    },
    "tags": []
   },
   "outputs": [],
   "source": [
    "# ⚠️This cell runs for about 11 seconds\n",
    "\n",
    "ranges = [(1e11, 9e11), (1e12, 9e12), (1e15, 9e15), (1e20, 9e20), (1e30, 9e30), (1e50, 9e50), (1e100, 9e100), (1e300, 9e300)]\n",
    "times_to_generate_prime_mr2 = [mean_time_msec(5)(generate_prime)(int(low), int(high)) for (low, high) in ranges]\n",
    "print(times_to_generate_prime_mr2)"
   ]
  },
  {
   "cell_type": "markdown",
   "metadata": {},
   "source": [
    "The results seem promising but we still have some problems to solve:\n",
    "\n",
    "1: The size of the primes is measured in number of decimal digits, whereas the convention for key size is number of bits. <br>\n",
    "2: The largest upper range boundary for prime we tried is 9e300 decimal digits, which is $≈$ 1000 bits. Key sizes are even larger these days so we should try with at least 2048 bits.\n",
    "\n",
    "The next section will fix that."
   ]
  },
  {
   "cell_type": "markdown",
   "metadata": {},
   "source": [
    "##### Define the range in number of bits"
   ]
  },
  {
   "cell_type": "code",
   "execution_count": null,
   "metadata": {},
   "outputs": [],
   "source": [
    "def get_random_number_in_bits(n):\n",
    "    return random.randrange(2**(n-1)+1, 2**n - 1)"
   ]
  },
  {
   "cell_type": "markdown",
   "metadata": {},
   "source": [
    "Now let's overwrite our original function `get_random_number`() and run the perfomance test again but this time specify the length in bits:"
   ]
  },
  {
   "cell_type": "code",
   "execution_count": null,
   "metadata": {
    "editable": true,
    "slideshow": {
     "slide_type": ""
    },
    "tags": []
   },
   "outputs": [],
   "source": [
    "n_bits_list = [10, 50, 100, 500, 1000]\n",
    "times_to_generate_prime_mr2 = [mean_time_msec(5)(generate_prime)(n_bits) for n_bits in n_bits_list]\n",
    "print(times_to_generate_prime_mr2)"
   ]
  },
  {
   "cell_type": "code",
   "execution_count": null,
   "metadata": {},
   "outputs": [],
   "source": [
    "get_random_number = get_random_number_in_bits"
   ]
  },
  {
   "cell_type": "code",
   "execution_count": null,
   "metadata": {
    "editable": true,
    "slideshow": {
     "slide_type": ""
    },
    "tags": []
   },
   "outputs": [],
   "source": [
    "# SANDBOX\n",
    "n_bits_list = [10, 20, 30, 50, 1000]\n",
    "times_to_generate_prime_mr3 = [mean_time_msec(5)(generate_prime_miller_rabin_sieve_er)(n_bits) for n_bits in n_bits_list]\n",
    "print(times_to_generate_prime_mr3)"
   ]
  },
  {
   "cell_type": "code",
   "execution_count": null,
   "metadata": {},
   "outputs": [],
   "source": [
    "# TMP\n",
    "\n",
    "print(generate_prime(int(1e300), int(9e300)))\n",
    "print(generate_prime_miller_rabin_sieve_er(1000))"
   ]
  },
  {
   "cell_type": "code",
   "execution_count": null,
   "metadata": {
    "editable": true,
    "slideshow": {
     "slide_type": ""
    },
    "tags": []
   },
   "outputs": [],
   "source": [
    "# TMP2\n",
    "n_bits_list = [10, 20, 30, 50, 1000]\n",
    "times_to_generate_prime_mr3 = [mean_time_msec(5)(generate_prime_miller_rabin_sieve_er2)(n_bits) for n_bits in n_bits_list]\n",
    "print(times_to_generate_prime_mr3)"
   ]
  },
  {
   "cell_type": "markdown",
   "metadata": {
    "editable": true,
    "id": "ANX1mYE2hvO4",
    "slideshow": {
     "slide_type": ""
    },
    "tags": []
   },
   "source": [
    "Test the time it take to encrypt and decrypt messages of different lengths and plot the result:"
   ]
  },
  {
   "cell_type": "code",
   "execution_count": null,
   "metadata": {
    "colab": {
     "base_uri": "https://localhost:8080/",
     "height": 619
    },
    "executionInfo": {
     "elapsed": 141428,
     "status": "ok",
     "timestamp": 1717953393859,
     "user": {
      "displayName": "Miroslava Ivanova",
      "userId": "04041431527474936486"
     },
     "user_tz": -180
    },
    "id": "deeXE6YzbJm3",
    "outputId": "af01a1b0-ffbf-49b5-ff3e-9b8485b0316b"
   },
   "outputs": [],
   "source": [
    "# OLD: #### How is the length of the input message affecting the speed of encrypting and decoding?\n",
    "message_lengths = [1000, 50_000, 100_000, 150_000, 200_000, 250_000, 300_000, 400_000, 500_000]\n",
    "\n",
    "long_text=\"\"\n",
    "if IS_GOOGLE_COLAB == True: # 🔴\n",
    "    response = requests.get(\"https://raw.githubusercontent.com/MirkaIvanova/public_data/main/a_tale_of_two_cities_780000_chars.txt\")\n",
    "    long_text = response.text\n",
    "else:\n",
    "    raise FileNotFoundError(\"FIXME!\")\n",
    "\n",
    "long_text[:5]\n",
    "\n",
    "e, d, n = generate_keys()\n",
    "\n",
    "input_messages = [long_text[:n] for n in message_lengths]\n",
    "encrypted_messages = [encrypt_message_to_cipher(message, e, n) for message in input_messages]\n",
    "decrypted_messages = [decrypt_cipher_to_message(encrypted_message, d, n) for encrypted_message in encrypted_messages]\n",
    "\n",
    "times_to_encrypt = [mean_time_msec(10)(encrypt_message_to_cipher)(message, e, n) for message in input_messages]\n",
    "times_to_decrypt = [mean_time_msec(10)(decrypt_cipher_to_message)(encrypted_message, d, n) for encrypted_message in encrypted_messages]\n",
    "\n",
    "print(times_to_encrypt)\n",
    "print(times_to_decrypt)\n",
    "\n",
    "\n",
    "\n",
    "plt.figure(figsize=(10, 6))\n",
    "plt.plot(message_lengths, times_to_encrypt, marker='o', label='Encryption Time')\n",
    "plt.plot(message_lengths, times_to_decrypt, marker='o', label='Decryption Time')\n",
    "\n",
    "# Set the x-axis ticks to be proportionally spaced based on message_lengths\n",
    "plt.xticks(message_lengths)\n",
    "\n",
    "plt.xlabel('Message Length (characters)')\n",
    "plt.ylabel('Time (ms)')\n",
    "plt.title('Encryption and Decryption Times for Different Message Lengths')\n",
    "plt.xticks(message_lengths)\n",
    "plt.legend()\n",
    "plt.grid(True)\n",
    "plt.show()\n",
    "\n",
    "\n",
    "\n"
   ]
  }
 ],
 "metadata": {
  "colab": {
   "authorship_tag": "ABX9TyO3+6s4+YPmWbuSP0wmSXP2",
   "provenance": [],
   "toc_visible": true
  },
  "kernelspec": {
   "display_name": "Python 3 (ipykernel)",
   "language": "python",
   "name": "python3"
  },
  "language_info": {
   "codemirror_mode": {
    "name": "ipython",
    "version": 3
   },
   "file_extension": ".py",
   "mimetype": "text/x-python",
   "name": "python",
   "nbconvert_exporter": "python",
   "pygments_lexer": "ipython3",
   "version": "3.12.2"
  }
 },
 "nbformat": 4,
 "nbformat_minor": 4
}
