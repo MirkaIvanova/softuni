{
 "cells": [
  {
   "cell_type": "code",
   "execution_count": 1,
   "metadata": {},
   "outputs": [],
   "source": [
    "import math\n",
    "import numpy as np\n",
    "import random\n",
    "import requests\n",
    "import matplotlib.pyplot as plt\n",
    "from pathlib import Path\n",
    "\n",
    "%run \"source/RSA Helper Functions.ipynb\""
   ]
  },
  {
   "cell_type": "markdown",
   "metadata": {
    "id": "Ixk57pni91Y0"
   },
   "source": [
    "# Exploring the RSA Cryptosystem: Theory, Implementation, and Analysis"
   ]
  },
  {
   "cell_type": "markdown",
   "metadata": {
    "id": "cgIDZYA_-IOS"
   },
   "source": [
    "## 1 Introduction to RSA"
   ]
  },
  {
   "cell_type": "markdown",
   "metadata": {
    "id": "8Rb148BY_0xY"
   },
   "source": [
    "### 1.1 Brief Overview of Cryptography"
   ]
  },
  {
   "cell_type": "markdown",
   "metadata": {},
   "source": [
    "Cryptography is all about keeping communication and data safe by using codes that only the intended people can read. This practice has been crucial throughout history, from ancient military secrets to today’s secure online transactions. Early methods like the Caesar cipher and Vigenère cipher used the same key for both encryption and decryption, which worked but had some problems, especially with securely sharing the key. Now, with everyone relying on digital platforms, the need to protect sensitive data is more important than ever, making cryptography essential for maintaining privacy and security.\n",
    "\n",
    "Everything changed in the 1970s with the introduction of public-key cryptography. Before this, we only had symmetric-key cryptography, which had major issues with secure key distribution. In 1976, Whitfield Diffie and Martin Hellman came up with the idea of using two keys—a public key for encryption and a private key for decryption. This breakthrough made it much easier and safer to share keys, boosting the security and scalability of cryptographic systems. This innovation paved the way for RSA, one of the most widely used public-key cryptosystems."
   ]
  },
  {
   "cell_type": "markdown",
   "metadata": {},
   "source": [
    "### 1.2 Development and Signifficance of Public Key Communication"
   ]
  },
  {
   "cell_type": "markdown",
   "metadata": {},
   "source": [
    "In 1977, Ron Rivest, Adi Shamir, and Leonard Adleman from MIT created the RSA cryptosystem, a game-changer in the world of cryptography. Named after their initials, RSA was the first practical public-key cryptosystem and provided a robust way to secure digital communication. By using different keys for encryption and decryption, RSA made it possible to communicate securely without sharing a secret key. This breakthrough was huge, leading to the widespread adoption of public-key cryptography and forming the backbone for many security protocols and applications we rely on today.\n",
    "\n",
    "RSA's security relies on the mathematical challenge of factoring large prime numbers, making it a powerful tool for ensuring security and authenticity in digital communications. The core principles of RSA involve modular arithmetic and the difficulty of factoring large composite numbers. Key generation creates a public and private key pair through mathematical operations using two large prime numbers. The public key encrypts the data, turning it into ciphertext, while the private key decrypts it back into readable plaintext. These processes together provide a secure way to transmit confidential information over insecure channels, setting the stage for modern cryptographic systems."
   ]
  },
  {
   "cell_type": "markdown",
   "metadata": {
    "id": "bHf_98pU_bSI"
   },
   "source": [
    "## 2 Overview of the Mathematical Concepts Behind RSA"
   ]
  },
  {
   "cell_type": "markdown",
   "metadata": {
    "id": "InWPOl-9483F"
   },
   "source": [
    "This section will provide a brief overview of the mathematical concepts that are essential to understand before delving into the details of the RSA algorithm. These concepts will be examined individually now, but they will be referenced later, particularly when discussing the calculation of various numbers involved in the RSA algorithm and proving its correctness.\n",
    "\n",
    "* **Prime and coprime numbers:** Central to the security of RSA.\n",
    "* **Euler's totient function:** Used to determine the private exponent during key generation.\n",
    "* **Extended Euclidean algorithm:** Part of the key generation process to find the decryption exponent $d$.\n",
    "* **Modular arithmetic:** Essential for proving the correctness of RSA.\n",
    "* **Fermat's little theorem:** Also useful for proving the correctness of RSA.\n",
    "* **Chinese Remainder theorem:** Also useful for proving the correctness of RSA."
   ]
  },
  {
   "cell_type": "markdown",
   "metadata": {
    "id": "8df5h2mBKMAE"
   },
   "source": [
    "### 2.1 Prime and Coprime Numbers\n",
    "\n",
    "\n",
    "\n",
    "\n",
    "\n",
    "\n",
    "\n"
   ]
  },
  {
   "cell_type": "markdown",
   "metadata": {
    "id": "ZpvFNrD25Tli"
   },
   "source": [
    "**Prime numbers** are defined as integers greater than 1 that can only be divided by 1 and themselves. Their significance in cryptography, particularly in the RSA algorithm, stems from their special properties. When two large prime numbers are multiplied, the product has a key feature: it is incredibly hard to factor back into the original primes. This difficulty, called **integer factorization**, is computationally demanding and is the foundation of RSA's security, ensuring that encrypted messages remain secure without the correct key.🔴SRC: https://en.wikipedia.org/wiki/Integer_factorization\n",
    "\n",
    "Additionally, a pair of numbers are considered **coprime** if the largest number that exactly divides both of them is 1. These numbers themselves don't have to be prime. For example, 8 and 9 are coprime, but 8 and 10 are not, because they are both divisible by 2."
   ]
  },
  {
   "cell_type": "markdown",
   "metadata": {
    "id": "Sp2Vqut15SRv"
   },
   "source": [
    "### 2.2 Euler's Totient Function\n",
    "\n",
    "\n"
   ]
  },
  {
   "cell_type": "markdown",
   "metadata": {
    "id": "YbPEd4xL6Kc5"
   },
   "source": [
    "🍎 Euler's totient function, denoted as $\\varphi(n)$, counts the number of integers up to $n$ that are relatively prime to $n$. For RSA, ϕ(n) is used in key generation and is calculated as $\\varphi(pq)=(p-1)(q-1)$, where $p$ and $q$ are prime numbers.\n",
    "\n",
    "The totient function has several important properties:\n",
    "\n",
    "* If $p$ is a prime number, $\\varphi(p) = p - 1$.\n",
    "* If $p$ and $q$ are distinct prime numbers, $\\varphi(pq) = (p - 1)(q - 1)$.\n",
    "* If $a$ and $b$ are coprime (i.e., $gcd(a, b) = 1$), then $\\varphi(ab) = \\varphi(a) \\varphi(b)$."
   ]
  },
  {
   "attachments": {},
   "cell_type": "markdown",
   "metadata": {
    "id": "8T8DqS176APa"
   },
   "source": [
    "### 2.3 Extended Euclidean Algorithm\n",
    "🍎\n",
    "The **Euclidean Algorithm** is used to find the greatest common divisor between two numbers $a$ and $b$.\n",
    "\n",
    "The **Extended Euclidean Algorithm** builds upon the Euclidean algorithm to also express the greatest common divisor as an integer linear combination of the original two numbers: $gcd(a, b) = ax+by$, where $a, b, x, y \\in \\mathbb{Z}$.\n",
    "\n",
    "Let's first explain the **Euclidean algorithm**. To determine the greatest common divisor (GCD) of two numbers, we can use the principle that the GCD of two numbers also divides their difference. The process involves dividing the larger number by the smaller number, then replacing the larger number with the remainder. This step is repeated until the remainder is zero. The last non-zero remainder in this sequence is the GCD.\n",
    "\n",
    "Here is an example:\\\n",
    "To find the $gcd(222, 97)$:\n",
    "\n",
    "**Step 1:** $222 = 2.(97) + (28)$ \\\n",
    "**Step 2:** $97 = 3.(28) + (13)$ \\\n",
    "**Step 3:** $28 = 2.(13) + (2)$ \\\n",
    "**Step 4:** $13 = 6.(2) + (1)$ \\\n",
    "**Step 5:** $2 = 1.(2) + 0$\n",
    "\n",
    "At Step 5 we reached 0, so the greatest common divisor must the remainder on the previous row, namely 1.\n",
    "\n",
    "Now, we can show the **Extended Euclidean Algorithm** to build upon the above logic to also express the remainder 1 as a linear combination of 222 and 97:\n",
    "\n",
    "$222x+97y = 1$\n",
    "\n",
    "We can this by starting from the step at which we found the GCD and going backwards, repeatedly replace each quotient with the number and quotient from the previous step.\n",
    "\n",
    "**Back substitute in step 4:** Replace $(2)$ with its representation from Step 3:\n",
    "\n",
    "$ \\begin{align*}\n",
    "1 &= (13) - 6(2) \\\\\n",
    "  &= (13) - 6[(28) - 2(13)] \n",
    "\\end{align*} $\n",
    "\n",
    "then we simplify the expression with respect to $(13)$ and $(28)$:\n",
    "\n",
    "$ \\begin{align*}\n",
    "  &= (13) - 6(28) + 12(13) \\\\\n",
    "  &= 13(13) - 6(28)\n",
    "\\end{align*} $\n",
    "\n",
    "**Back substitute in step 3:** Replace $(13)$ with its representation from Step 2:\n",
    "\n",
    "$ \\begin{align*}\n",
    "1 &= 13(13) - 6(28) \\\\\n",
    "  &= 13[(97) - 3(28)] - 6(28)\n",
    "\\end{align*} $\n",
    "\n",
    "then simplify with respect to $(28)$ and $(97)$:\n",
    "\n",
    "$ \\begin{align*}\n",
    "  &= 13(97) - 39(28) - 6(28) \\\\\n",
    "  &= 13(97) - 45(28)\n",
    "\\end{align*} $\n",
    "\n",
    "**Back substitute in step 2:** Replace $(28)$ with its representation from Step 1:\n",
    "\n",
    "$ \\begin{align*}\n",
    "1 &= 13(97) - 45(28) \\\\\n",
    "  &= 13(97) - 45[(222) - 2(97)]\n",
    "\\end{align*} $\n",
    "\n",
    "then simplify with respect to $(97)$ and $(222)$:\n",
    "\n",
    "$ \\begin{align*}\n",
    "  &= 13(97) - 45(222) + 90(97) \\\\\n",
    "  &= 103(97) - 45(222)\n",
    "\\end{align*} $\n",
    "\n",
    "\n",
    "Therefore, $x = 103, y = -45$."
   ]
  },
  {
   "cell_type": "markdown",
   "metadata": {
    "id": "QqCVb8eM6Ecx"
   },
   "source": [
    "### 2.4 Modular Arithmetic"
   ]
  },
  {
   "cell_type": "markdown",
   "metadata": {
    "id": "LCDiIQfY6M1h"
   },
   "source": [
    "🍎 Modular arithmetic is a branch of mathematics that focuses on integers and the remainders left over after division. These remainders are represented using the congruence relation symbol \"$\\equiv$\". For instance, consider a modulus of 5: in this case, $7 \\equiv 2 \\pmod 5$ because when 7 is divided by 5, the remainder is 2.\n",
    "\n",
    "In addition to dealing with remainders, modular arithmetic also encompasses the concept of additive and multiplicative inverses. In the RSA encryption and decryption algorithm, the multiplicative inverse plays a crucial role. The additive inverse of an integer $a$ modulo $n$ is another integer $b$ such that when $a$ and $b$ are added together, the result is congruent to 0 modulo $n$: $a + b \\equiv 0 \\pmod n$. Similarly, the multiplicative inverse of $a$ modulo $n$, often termed as the modular inverse, is an integer $b$ such that the product of $a$ and $b$ yields a remainder of 1 when divided by $n$: $ ab \\equiv 1 \\pmod n $."
   ]
  },
  {
   "cell_type": "markdown",
   "metadata": {
    "id": "8r_JZoF_6Hl_"
   },
   "source": [
    "### 2.5 Fermat's Little Theorem"
   ]
  },
  {
   "cell_type": "markdown",
   "metadata": {
    "id": "oxMsh4Wg6MFf"
   },
   "source": [
    "Fermat's Little Theorem 🔴SOURCE   https://en.wikipedia.org/wiki/Fermat%27s_little_theorem🔴states that if $p$ is a prime number and $a$ is an integer not divisible by $p$, then $a^{p-1} \\equiv 1 \\pmod p$. This theorem is fundamental in the RSA algorithm because it helps in proving why RSA works, particularly in the context of modular exponentiation."
   ]
  },
  {
   "cell_type": "markdown",
   "metadata": {
    "id": "Py24ttB56JGw"
   },
   "source": [
    "### 2.6 Chinese Remainder Theorem"
   ]
  },
  {
   "cell_type": "markdown",
   "metadata": {
    "id": "VAodEqEx6N9S"
   },
   "source": [
    "**Given:**\n",
    "\n",
    "$ \\begin{align*}\n",
    "X &\\equiv a_1 \\pmod{m_1} \\\\\n",
    "X &\\equiv a_2 \\pmod{m_2} \\\\\n",
    "&\\vdots \\\\\n",
    "X &\\equiv a_n \\pmod{m_n}\n",
    "\\end{align*} $\n",
    "\n",
    "**and** $\\gcd(m_1, m_2 \\dots m_n) = 1$, \\\n",
    "**then** there exists a unique solution modulo $m_1m_2$\n",
    "\n",
    "$X = (a_1M_1M_1^{-1} + a_2M_2M_2^{-1} + \\dots + a_nM_nM_n^{-1}) mod(M)$\n",
    "\n",
    "**where**\n",
    "\n",
    "$ \\begin{align*}\n",
    "M  &= a_1 a_2 \\dots a_n \\\\\n",
    "M_1 &= \\frac {M} {m_1} \\\\\n",
    "M_2 &= \\frac{M}{m_2} \\\\\n",
    "&\\vdots \\\\\n",
    "M_n &= \\frac{M}{m_n}\n",
    "\\end{align*} $\n",
    "\n",
    "\n",
    "\n",
    "**and** $M_1^{-1}, M_2^{-1} \\dots M_n^{-1}$ are the modular multiplicative inverses of $M_1, M_2 \\dots M_n$, \\\n",
    "**such that**\n",
    "\n",
    "$ \\begin{align*}\n",
    "&M_1M_1^{-1} \\equiv 1\\pmod{m_1} \\\\\n",
    "&M_2M_2^{-1} \\equiv 1\\pmod{m_2} \\\\\n",
    "&\\vdots \\\\\n",
    "&M_nM_n^{-1} \\equiv 1\\pmod{m_n}\n",
    "\\end{align*} $\n",
    "\n",
    "**Example:**\n",
    "\n",
    "$ \\begin{align*}\n",
    "X ≡ 2 \\pmod{3} \\\\\n",
    "X ≡ 3 \\pmod{5} \\\\\n",
    "X ≡ 2 \\pmod{7} \n",
    "\\end{align*} $\n",
    "\n",
    "$M = a_1 . a_2 . a_3 = 3 . 5 . 7 = 105$\n",
    "\n",
    "$ \\begin{align*}\n",
    "M_1 = \\frac {105}{3} = 35 \\\\\n",
    "M_2 = \\frac {105}{5} = 21 \\\\\n",
    "M_3 = \\frac {105}{7} = 15\n",
    "\\end{align*} $\n",
    "\n",
    "$ \\begin{align*} \n",
    "&M_1M_1^{-1} = 1 \\pmod{m_1} \\\\\n",
    "&35M_1^{-1} = 1 \\pmod{3}\n",
    "\\end{align*} $\n",
    "\n",
    "To solve for $M_1^{-1}$, either start testing with values 1, 2, 3, etc, or for large values use the Extended Euclidean Algorithm. 🔴\n",
    "\n",
    "Using simple substitution and testing: \\\n",
    "$35 . 1 = 1 \\pmod{3}$ - is the remainder of 35 when divided by 3 = 1? No \\\n",
    "$35 . 2 = 1 \\pmod{3}$ - is the remainder of 35 when divided by 3 = 1? Yes\n",
    "\n",
    "So $M_1^{-1} = 2$.\n",
    "\n",
    "Analogically,\n",
    "\n",
    "$ \\begin{align*}\n",
    "&M_2^{-1} = 1 \\\\\n",
    "&M_3^{-1} = 1 \\\\\n",
    "\\\\\n",
    "&X = (a_1M_1M_1^{-1} + a_2M_2M_2^{-1} + \\dots + a_nM_nM_n^{-1}) \\mod(M) \\\\\n",
    "&X = (2 . 35 . 2 + 3 . 21. 1 + \\dots + 2 . 15 . 1) \\mod(105) \\\\\n",
    "&X = (72 + 63 + 31) \\mod(105) \\\\\n",
    "&X = 233 \\mod(105) = 23\n",
    "\\end{align*} $"
   ]
  },
  {
   "cell_type": "markdown",
   "metadata": {
    "id": "EeE4gyz-_dgV"
   },
   "source": [
    "## 3 In-Depth Look at the RSA Algorithm"
   ]
  },
  {
   "cell_type": "markdown",
   "metadata": {
    "id": "xGPrMyFDJz6z"
   },
   "source": [
    "### 3.1. Key Generation Process"
   ]
  },
  {
   "cell_type": "markdown",
   "metadata": {
    "id": "6kRMEK68hqjg"
   },
   "source": [
    "Here we'll explore how the RSA algorithm chooses the public and private key pair."
   ]
  },
  {
   "cell_type": "markdown",
   "metadata": {
    "editable": true,
    "id": "3dZ2aGlEyI87",
    "slideshow": {
     "slide_type": ""
    },
    "tags": []
   },
   "source": [
    "#### Step 1: Choose two random large, prime, distinct numbers $p$ and $q$\n",
    "\n",
    "🍎Why prime? How large?\n",
    "\n",
    "The first step in RSA key generation is to choose two distinct large prime numbers, $p$ and $q$. While the primes must be distinct, this requirement is not explicitly mentioned in the original authors' paper. 🍎SOURCE\n",
    "\n",
    "There are multiple ways to choose a random number. Some of them are quite complex and could be a subject of a paper by themselves. Here, we will quickly outline some commonly used algorithms: 🍎SOURCE🍎\n",
    "\n",
    "**Trial Division:** A basic method that tests divisibility of a number by all smaller prime numbers up to its square root. It is inefficient for large numbers due to the extensive number of divisions required.\n",
    "\n",
    "**Sieve of Eratosthenes:** Efficient for finding all prime numbers up to a given limit but not suitable for generating very large primes directly. However, it is useful for finding smaller primes to use in other algorithms.\n",
    "\n",
    "**Fermat's Primality Test**: A probabilistic test based on Fermat's Little Theorem: if $a^{p-1} \\equiv 1 \\pmod{p}$ for some random $a$, $p$ is likely prime. It can produce false positives (Carmichael numbers).\n",
    "\n",
    "**Miller-Rabin Primality Test:** A probabilistic test that improves upon Fermat's test by checking multiple bases. If a number passes several rounds of this test, it is highly likely to be prime. It is widely used due to its balance of efficiency and accuracy.\n",
    "\n",
    "**Elliptic Curve Primality Proving (ECPP):** A probabilistic algorithm that uses properties of elliptic curves. It is efficient and provides a certificate of primality, making it suitable for generating large prime numbers.\n",
    "\n",
    "🔴Note: Two of those algorithms are explored further in a later section."
   ]
  },
  {
   "cell_type": "markdown",
   "metadata": {
    "id": "79io4MQbyI6a"
   },
   "source": [
    "#### Step 2: Calculate the product $n = pq$\n",
    "Calculate $n$ by multiplying $p$ and q. The number n is part of both the public and private keys and serves as the modulus for both encryption and decryption."
   ]
  },
  {
   "cell_type": "markdown",
   "metadata": {
    "id": "3iWtjaY4yI35"
   },
   "source": [
    "#### Step 3: Calculate the totient of n: $\\varphi(n) = (p-1)(q-1)$\n",
    "\n",
    "The totient of n, denoted as $\\varphi(n)$, is calculated as $(p - 1)(q - 1)$. This value is kept secret and is used to determine the private exponent during key generation."
   ]
  },
  {
   "cell_type": "markdown",
   "metadata": {
    "id": "2sS2swaCyI1R"
   },
   "source": [
    "#### Step 4: Choose the Public Exponent $e$ 🍎choose e not coprime?🍎\n",
    "\n",
    "The public exponent e is chosen next. This value must be an integer such that $ 1 < e < \\varphi(n)$ and $gcd(e, \\varphi(n)) = 1$, meaning $e$ and $\\varphi(n)$ are coprime. Common values for e, like 3, 17, or 65537, are often used because they provide a good balance between encryption efficiency and security. These values are chosen to be small relative to $\\varphi(n)$ to speed up the encryption process. 🍎SOURCE🍎"
   ]
  },
  {
   "cell_type": "markdown",
   "metadata": {
    "id": "B1EQVkL5yIyr"
   },
   "source": [
    "#### Step 5: Determine the Private Exponent $d$\n",
    "\n",
    "The private exponent $d$ is calculated using the Extended Euclidean algorithm, such that $(ed) mod (\\varphi(n)) = 1$. This value is part of the private key and is used for decryption."
   ]
  },
  {
   "cell_type": "markdown",
   "metadata": {
    "id": "QBluKI3QhDvC"
   },
   "source": [
    "### 3.2 Encryption and Decryption Process"
   ]
  },
  {
   "cell_type": "markdown",
   "metadata": {
    "id": "1Rub3WNThDnA"
   },
   "source": [
    "In RSA encryption, the plaintext message M is transformed into ciphertext C by applying the recipient's public key and a mathematical function. The decryption process reverses this operation, converting the ciphertext back into plaintext using the recipient's private key. This method guarantees that only the intended recipient can decipher the encrypted message, ensuring confidentiality and security of the communication."
   ]
  },
  {
   "cell_type": "markdown",
   "metadata": {
    "id": "G4rOb5OfhDbL"
   },
   "source": [
    "#### 3.2.1 Encryption\n"
   ]
  },
  {
   "cell_type": "markdown",
   "metadata": {
    "id": "5jQy5zL5hDQ6"
   },
   "source": [
    "##### Step 1: Convert the original message to number representation\n"
   ]
  },
  {
   "cell_type": "markdown",
   "metadata": {
    "id": "9QrOlmytkh4E"
   },
   "source": [
    "The RSA algorithm operates on numerical values rather than directly on text data. Therefore, any textual input needs to be converted into a numerical representation. This conversion process is typically accomplished by employing a standardized encoding scheme, such as ASCII (American Standard Code for Information Interchange).\n",
    "\n",
    "**Example:** Let\"s consider the word \"hello\" as the input text. To apply the RSA algorithm to this text, we first need to convert it into a numerical representation using the ASCII encoding scheme.\n",
    "\n",
    "In ASCII, each character is assigned a unique numerical value between 0 and 127. The character \"h\" has the ASCII value of 104, \"e\" is 101, \"l\" is 108, and \"o\" is 111.\n",
    "\n",
    "So, the word \"hello\" would be converted into the sequence of numbers: 104, 101, 108, 108, 111.\n",
    "\n",
    "After the encryption or decryption process is complete, the resulting numerical values can be converted back into text form using the same ASCII encoding scheme."
   ]
  },
  {
   "cell_type": "markdown",
   "metadata": {
    "id": "rHLn_DWhkMUE"
   },
   "source": [
    "##### Step 2: Split the message to blocks"
   ]
  },
  {
   "cell_type": "markdown",
   "metadata": {
    "id": "WiTUs3Ask85y"
   },
   "source": [
    "When encrypting a message longer than $n$, it must be divided into smaller blocks to ensure each block is a number less than $n$.\n",
    "\n",
    "* Determine block length - the size of each block, in bits, should be at least one bit less than the bit length of $n$. For example, if $n$ is a 1024-bit number, each block can be up to 1023 bits long.\n",
    "\n",
    "* Convert the message to a binary or numerical representation.\n",
    "\n",
    "* Split this representation into chunks where each chunk's numerical value is less than $n$."
   ]
  },
  {
   "cell_type": "markdown",
   "metadata": {
    "id": "yTv4XmahkMNP"
   },
   "source": [
    "##### Step 3: Apply a padding scheme"
   ]
  },
  {
   "cell_type": "markdown",
   "metadata": {
    "id": "1x8g0PYdyqiB"
   },
   "source": [
    "Most of the time the chunk of data we're working with won't perfectly match the block size. Padding helps make sure each block has the right length. It also includes some randomness to boost security.\n",
    "\n",
    "🍎SOURCE🍎 https://medium.com/asecuritysite-when-bob-met-alice/so-how-does-padding-work-in-rsa-6b34a123ca1f\n",
    "\n",
    "RSA encryption uses several padding schemes, with two of the most popular being PKCS#1 v1.5 and Optimal Asymmetric Encryption Padding (OAEP)."
   ]
  },
  {
   "cell_type": "markdown",
   "metadata": {
    "id": "k3fHigiMz5OV"
   },
   "source": [
    "**PKCS#1 v1.5 Padding**"
   ]
  },
  {
   "cell_type": "markdown",
   "metadata": {
    "id": "hKb-JUQWz5q-"
   },
   "source": [
    "This is one of the most common padding methods for RSA encryption. Here's how it works:\n",
    "\n",
    "* Determine Block Size: For example, if $n$ is a 2048-bit number, the block size is 256 bytes (2048 bits / 8 bits per byte).\n",
    "\n",
    "* Format the Message:\n",
    "\n",
    "    * Start with the block type, which is 0x00 0x02 for encryption.\n",
    "\n",
    "    * Add a random padding string (non-zero bytes) so that the total length of the padding plus the message equals the block size.\n",
    "\n",
    "    * Append the original message.\n",
    "\n",
    "So, the format looks like this: \\\n",
    "`0x00 | 0x02 | text{padding string} | 0x00 | text{message}`\n",
    "\n",
    "\n",
    "For instance, if the message is \"HELLO\" (5 bytes), the padded message for a 256-byte block might look like this:\n",
    "\n",
    "`00 | 02 | text{random bytes} | 00 | 104 101 108 108 111 `  🔴todo: make the same with the other example🔴\n",
    "\n",
    "\n",
    "\n"
   ]
  },
  {
   "cell_type": "markdown",
   "metadata": {
    "id": "f-aY4EPf0eaw"
   },
   "source": [
    "**Optimal Asymmetric Encryption Padding (OAEP)**"
   ]
  },
  {
   "cell_type": "markdown",
   "metadata": {
    "id": "bQtfX83m0eSp"
   },
   "source": [
    "This is a more secure padding scheme that provides better protection against chosen plaintext attacks. Here's a basic rundown:\n",
    "\n",
    "**Encryption**:\n",
    "* Combine the original message $M$ with a padding string $PS$ to create a data block $DB$.\n",
    "* Generate a random seed.\n",
    "* Apply two hash functions to the seed and $DB$ to create masked values.\n",
    "* Combine the masked values to form the encoded message.\n",
    "\n",
    "🔴The OAEP encoded message has two parts:\n",
    "$ \\text{masked seed} \\ | \\ \\text{masked data block} $\n",
    "\n",
    "**Decryption**:\n",
    "* Split the encoded message back into the masked seed and masked data block.\n",
    "* Reverse the hash functions to retrieve the original message."
   ]
  },
  {
   "cell_type": "markdown",
   "metadata": {
    "id": "CLKdV8NPkMEH"
   },
   "source": [
    "##### Step 4: Encrypt each block"
   ]
  },
  {
   "cell_type": "markdown",
   "metadata": {
    "id": "kl56EkB85mTP"
   },
   "source": [
    "Each block is individually encrypted using the public key $ (e, n) $.\n",
    "\n",
    "The encryption process follows the formula\n",
    "$ C = M^e \\mod n $"
   ]
  },
  {
   "cell_type": "markdown",
   "metadata": {
    "id": "L9zy192_hC8-"
   },
   "source": [
    "#### 3.2.2 Decryption\n"
   ]
  },
  {
   "cell_type": "markdown",
   "metadata": {},
   "source": [
    "To decrypt and retrieve the original message $M$, use the formula:\n",
    "$ M = C^d \\mod n $. Refer to the section below🔴 for a mathematical proof explaining why this encryption and decryption process is effective."
   ]
  },
  {
   "cell_type": "markdown",
   "metadata": {
    "id": "hxV1aOFEhOi8"
   },
   "source": [
    "### 3.3 Example of the Entire RSA Process"
   ]
  },
  {
   "cell_type": "markdown",
   "metadata": {
    "id": "rYJ8J3Uj6gw9"
   },
   "source": [
    "For demonstration purposes the chosen numbers will be small but bear in mind that in reality these two prime numbers should be substantially large.\n",
    "\n",
    "**Step 1:** Choose two prime numbers $p$ and $q$:\n",
    "\n",
    "$ p = 7, q = 11 $ \n",
    "\n",
    "**Step 2:** Calculate the product of $p$ and $q$:\n",
    "\n",
    "$ \\begin{align*}\n",
    "n &= p * q  \\\\\n",
    "  &= 7 * 11 \\\\\n",
    "  &= 77      \n",
    "\\end{align*} $\n",
    "\n",
    "**Step 3:** Calculate the totient of n:\n",
    "\n",
    "$ \\begin{align*}\n",
    "\\varphi(n) &= (p - 1) * (q - 1)  \\\\\n",
    "           &= (7 - 1) * (11 - 1) \\\\\n",
    "           &= 6 * 10             \\\\\n",
    "           &= 60                 \n",
    "\\end{align*} $ \n",
    "\n",
    "**Step 4:** Choose the Public Exponent:\n",
    "\n",
    "Choose $e$ such that $1 < e < \\varphi(n)$ and $gcd(e, \\varphi(n)) = 1$.\n",
    "Possible values of $e$: $7, 11, 13, 17, 19, 23, 29, 31, 37, 41, 43, 47, 49, 53, 59$.\n",
    "\n",
    "Let's choose $e = 53$.\n",
    "\n",
    "**Step 5:** Determine the Private Exponent $d$ such that $ed \\mod \\varphi(n) = 1$.\n",
    "\n",
    "Start with:\n",
    "$ed \\mod \\varphi(n) = 1$\n",
    "\n",
    "and replace the known variables: $53d \\mod 60 = 1$.\n",
    "\n",
    "Apply the Extended Euclidean Algorithm:\n",
    "\n",
    "$ \\begin{align*}\n",
    "& 53d = 60x + 1       \\\\\n",
    "& \\Rightarrow 60x + 53d = 1    \\\\\n",
    "& \\Rightarrow 60 = 1(53) + (7) \\\\\n",
    "& \\Rightarrow 53 = 7(7) + (4)  \\\\\n",
    "& \\Rightarrow 7 = 1(4) + (3)   \\\\\n",
    "& \\Rightarrow 4 = 1(3) + (1)   \\\\\n",
    "& \\Rightarrow 3 = 3(1) + 0     \n",
    "\\end{align*} $ \n",
    "\n",
    "Now perform back substitution:\n",
    "\n",
    "$ 1 = (4) - (3) $ \n",
    "\n",
    "Replace $(3)$:\n",
    "\n",
    "$ \\begin{align*}\n",
    "1 &= (4) - [(7) - (4)] \\\\\n",
    "  &= (4) - (7) + (4)   \\\\\n",
    "  &= 2(4) - (7)\n",
    "\\end{align*} $\n",
    "\n",
    "Replace $(4)$:\n",
    "\n",
    "$ \\begin{align*}\n",
    "1 &= 2[(53) - 7(7)] - (7) \\\\\n",
    "  &= 2(53) - 14(7) - (7)  \\\\\n",
    "  &= 2(53) - 15(7)\n",
    "\\end{align*} $ \n",
    "\n",
    "Replace $(7)$:\n",
    "\n",
    "$ \\begin{align*}\n",
    "1 &= 2(53) - 15[(60) - (53)] \\\\\n",
    "  &= 2(53) - 15(60) + 15(53) \\\\\n",
    "  &= 17(53) - 15(60)\n",
    "\\end{align*} $ \n",
    "\n",
    "Therefore, $d = 17$. And we can ignore the value of $x$ since it is not relevant for RSA (but in the name of completeness, it is $-15$)\n",
    "\n",
    "**Encryption**:\n",
    "\n",
    "Let the message be 42:\n",
    "\n",
    "$ \\begin{align*}\n",
    "C &= M^e \\mod n \\\\\n",
    "  &= 42^{53} \\mod 77 \\\\\n",
    "  &= 14\n",
    "\\end{align*} $\n",
    "\n",
    "**Decryption**:\n",
    "\n",
    "$ \\begin{align*}\n",
    "M &= C^d \\mod n \\\\\n",
    "  &= 14^{17} \\mod 77 \\\\\n",
    "  &= 42\n",
    "\\end{align*} $\n",
    "\n"
   ]
  },
  {
   "cell_type": "markdown",
   "metadata": {
    "id": "YarDcNM-_dzv"
   },
   "source": [
    "## 4 Mathematical Proof of RSA Correctness"
   ]
  },
  {
   "cell_type": "markdown",
   "metadata": {
    "id": "0pm1tKk7TdQj"
   },
   "source": [
    "RSA correctness means that given an original message, after encryption and subsequent decryption using RSA, we retrieve the same original message. Note that this is not a mathematical proof of the algorithm's security but of its data correctness. This is what we will prove in this section.\n",
    "\n",
    "To do that let's summarize the variables used by the algorithm and their properties, as well as some mathematical theorems and laws that will be helpful in our proof."
   ]
  },
  {
   "cell_type": "markdown",
   "metadata": {
    "id": "h2zaB3_iS79J"
   },
   "source": [
    "### 4.1 Given RSA data\n"
   ]
  },
  {
   "cell_type": "markdown",
   "metadata": {
    "id": "8PTO4XeJTZGY"
   },
   "source": [
    "Let:\n",
    "\n",
    "* $p, q$ are large prime numbers                 <span style=\"float: right;\">(1)</span>\n",
    "* $n = pq$                                       <span style=\"float: right;\">(2)</span>\n",
    "* The totient of $n$ $\\varphi(n) = (p-1)(q-1)$   <span style=\"float: right;\">(3)</span>\n",
    "* The public exponent $e$ is such that: $1 < e < \\varphi(n)$ and $gcd(e, \\varphi(n)) = 1$\n",
    "                                                 <span style=\"float: right;\">(4)</span>\n",
    "* The decryption exponent $d$ is the multiplicative inverse of $e$: $ed \\mod (\\varphi(n))=1$, equivalent to $ed \\equiv 1 \\pmod{\\varphi (n)}$\n",
    "                                                 <span style=\"float: right;\">(5)</span>\n",
    "* Encryption process: $M^e \\equiv C \\pmod n$     <span style=\"float: right;\">(6)</span>\n",
    "* Decryption process: $C^d \\equiv M \\pmod n$     <span style=\"float: right;\">(7)</span>"
   ]
  },
  {
   "cell_type": "markdown",
   "metadata": {
    "id": "WpJFTZITTUqI"
   },
   "source": [
    "### 4.2 Tools"
   ]
  },
  {
   "cell_type": "markdown",
   "metadata": {
    "id": "8Ue2ZEcKTZwn"
   },
   "source": [
    "**Properties of congruences in modular arithmetic**: 🍎**SOURCE**🍎 https://en.wikipedia.org/wiki/Modular_arithmetic\n",
    "\n",
    "* Reflexivity: \\\n",
    "    $a \\equiv a \\pmod m $               <span style=\"float: right;\">(8a)</span>\n",
    "* Symmetry:\\\n",
    "  If $a \\equiv b \\pmod m$, \\\n",
    "  then $ b \\equiv a \\pmod m $ <span style=\"float: right;\">(8b)</span>\n",
    "* Compatibility with exponentiation: \\\n",
    "  If $ a \\equiv b \\pmod m$, \\\n",
    "  then $a^k \\equiv b^k \\pmod m$ \\\n",
    "  where $x \\in \\mathbb{Z}_{\\geq 0}$      \n",
    "\n",
    "**Fermat's Little Theorem** 🍎**SOURCE**🍎 https://en.wikipedia.org/wiki/Fermat%27s_little_theorem\n",
    "\n",
    "If $p$ is prime \\\n",
    "and $a \\in \\mathbb{Z}$, \\\n",
    "then: $ a^p \\equiv a \\pmod{p} $\n",
    "\n",
    "and it's special case \\\n",
    "if $gcd(a, p) = 1$ \\\n",
    "then $a^{p-1} \\equiv 1 \\pmod p$ <span style=\"float: right;\">(8c)</span>\n",
    "\n",
    "\n",
    "**Chinese Remainder Theorem** 🍎**SOURCE**🍎 https://crypto.stanford.edu/pbc/notes/numbertheory/crt.html\n",
    "\n",
    "Let $p, q$ be coprime. Then the system of equations\n",
    "\n",
    "$ x = a \\pmod p $\\\n",
    "$ x = b \\pmod q $\n",
    "\n",
    "has a unique solution for $x$ modulo $pq$. <span style=\"float: right;\">(10)</span>"
   ]
  },
  {
   "cell_type": "markdown",
   "metadata": {
    "id": "1bDLuYDQTRii"
   },
   "source": [
    "### 4.3 Proof"
   ]
  },
  {
   "cell_type": "markdown",
   "metadata": {
    "id": "dry6xtW-Ta8f"
   },
   "source": [
    "Starting with the encryption formula from (6): \\\n",
    "$M^e \\equiv C \\pmod n$\n",
    "\n",
    "if we apply some modular arithmetic rules (8b) and (8c) we get: \\\n",
    "$M^{ed} \\equiv C^d \\equiv M \\pmod n$     <span style=\"float: right;\">(11)</span>\n",
    "\n",
    "So let's prove that claim \\\n",
    "$M^{ed} \\equiv M \\pmod n$.\n",
    "\n",
    "First, as an aside, if we consider the product of $e$ and $d$ that was defined in (5) as \\\n",
    "$ed \\equiv 1 \\pmod{\\varphi (n)}$,\n",
    "\n",
    "this essentially means that $ed$ divided by $\\varphi(n)$ gives a remainder of 1, or in other words,\\\n",
    "$ed = 1 + k(\\varphi(n)$ for $k \\in \\mathbb{Z}$ \\\n",
    "$\\Rightarrow$ from (3): $ed = 1 + k(p-1)(q-1)$         <span style=\"float: right;\">(12)</span>\n",
    "\n",
    "Going back to the main thought, if we take $ed$ from (12) and replace it in (11) we get:\\\n",
    "$M^{ed} \\equiv M^{1+k(p-1)(q-1)} $ \\\n",
    "$ \\Rightarrow M^{ed} \\equiv M^1 M^{k(p-1)(q-1)}$      <span style=\"float: right;\">(13)</span> \n",
    "\n",
    "We can apply the special case of Fermat's Little Theorem (9) to get \\\n",
    "$M^{ed} \\equiv M^{1}M^{k(q-1)} \\equiv M \\pmod p$ \\\n",
    "$ \\Rightarrow M^{ed} \\equiv M \\pmod p$                <span style=\"float: right;\">(14)</span>\n",
    "\n",
    "We can do the analogical calculation but doing it for $\\pmod q$:\\\n",
    "$M^{ed} \\equiv M^{1}M^{k(p-1)(q-1)} $ \\\n",
    "$ \\Rightarrow M^{ed} \\equiv M^{1}M^{k(p-1)} \\equiv M \\pmod q $ \\\n",
    "$ \\Rightarrow M^{ed} \\equiv M \\pmod p $               <span style=\"float: right;\">(15)</span>\n",
    "\n",
    "So from (14) and (15) we know, that $M^{ed}$ is a solution to the system of congruences \\\n",
    "$ X \\equiv M \\pmod p $ \\\n",
    "$ X \\equiv M \\pmod q $\n",
    "\n",
    "Also, according to the reflexivity property of congruences in modular arithmetic (8a) we know that \\\n",
    "$ M \\equiv M \\pmod p $                               <span style=\"float: right;\">(16)</span>\n",
    "\n",
    "From the Chinese Remainder Theorem, we know that a system of congruences where the moduli are coprime the solutions to this system are unique modulo the product of the primes. In other words, from (14), (15) and (16): \\\n",
    "$ M^{ed} \\equiv M \\pmod n $\n",
    "\n",
    "Which was exactly what we wanted to prove."
   ]
  },
  {
   "cell_type": "markdown",
   "metadata": {
    "id": "7wafw7jGN3-B"
   },
   "source": [
    "## 5 Implementing the RSA Algorithm In Python"
   ]
  },
  {
   "cell_type": "markdown",
   "metadata": {
    "id": "0js_g3xOJ5nQ"
   },
   "source": [
    "To better understand the practical application of the theoretical principles we've discussed, let's walk through the key generation, encryption, and decryption processes involved in the RSA algorithm.\n",
    "\n",
    "At first, we'll implement a very basic, straightforward algorithm using small numbers. We will then evaluate this algorithm to identify any parts that are causing performance issues or acting as bottlenecks that slow down execution. Based on the testing results and analysis, we'll attempt to optimize and enhance the underperforming sections of the algorithm to improve its overall efficiency."
   ]
  },
  {
   "cell_type": "markdown",
   "metadata": {
    "id": "-TLcDZv9QLDV"
   },
   "source": [
    "### 5.1 Trivial Implementation"
   ]
  },
  {
   "cell_type": "markdown",
   "metadata": {
    "id": "4bycs5grQXb7"
   },
   "source": [
    "First let's prepare the functions that will be needed to perform the 5 steps of the key generation process."
   ]
  },
  {
   "cell_type": "markdown",
   "metadata": {
    "id": "JgE5HbuTzSVs"
   },
   "source": [
    "#### 5.1.1 Generate prime numbers"
   ]
  },
  {
   "cell_type": "code",
   "execution_count": 2,
   "metadata": {
    "id": "9L20RynHzQUM"
   },
   "outputs": [],
   "source": [
    "def is_prime (number):\n",
    "    if number < 2:\n",
    "        return False\n",
    "    for i in range (2, number // 2 + 1):\n",
    "        if number % i == 0:\n",
    "            return False\n",
    "    return True\n",
    "\n",
    "def get_random_number(n_bits):\n",
    "    \"\"\"Generates a random number n_bits long\"\"\"\n",
    "    return random.randrange(2**(n_bits-1) + 1, 2**n_bits - 1)\n",
    "\n",
    "def generate_prime(n_bits):\n",
    "    \"\"\"Generates a random prime number n_bits long\"\"\"\n",
    "    while True:\n",
    "        prime = get_random_number(n_bits)\n",
    "        if is_prime(prime):\n",
    "            return prime"
   ]
  },
  {
   "cell_type": "markdown",
   "metadata": {
    "id": "E_kRG5gmzof2"
   },
   "source": [
    "#### 5.2.2 Generate $\\varphi(n)$"
   ]
  },
  {
   "cell_type": "code",
   "execution_count": 3,
   "metadata": {
    "id": "s9DVzMmmzvJQ"
   },
   "outputs": [],
   "source": [
    "def eulers_totient(p, q):\n",
    "    return (p-1) * (q-1)"
   ]
  },
  {
   "cell_type": "markdown",
   "metadata": {
    "id": "vMWkQMgTzfBL"
   },
   "source": [
    "#### 5.2.3 Generate public exponent $e$"
   ]
  },
  {
   "cell_type": "code",
   "execution_count": 4,
   "metadata": {
    "id": "DIz9e9-52r4i"
   },
   "outputs": [],
   "source": [
    "def generate_public_exponent(phi_n):\n",
    "    \"\"\"\n",
    "    Generates a public exponent 'e' for RSA encryption that is coprime with phi_n.\n",
    "    Args:\n",
    "        phi_n (int): The totient of the product of two prime numbers (phi_n = (p-1)*(q-1)).\n",
    "    Returns:\n",
    "        int: A public exponent 'e' that is coprime with phi_n.\n",
    "    \"\"\"\n",
    "    e = random.randint (3, phi_n-1)\n",
    "    while math.gcd(e, phi_n) != 1:\n",
    "        e = random.randint (3, phi_n - 1)\n",
    "\n",
    "    return e"
   ]
  },
  {
   "cell_type": "markdown",
   "metadata": {
    "id": "77ccviUg21vz"
   },
   "source": [
    "#### 5.2.4 Calculate the modular inverse $d$"
   ]
  },
  {
   "cell_type": "code",
   "execution_count": 5,
   "metadata": {
    "id": "oniFaoydPkJX"
   },
   "outputs": [],
   "source": [
    "def mod_inverse(e, phi):\n",
    "    \"\"\"\n",
    "    Calculates the modular inverse of 'e' modulo 'phi' using brute force.\n",
    "    Args:\n",
    "        e (int): The number for which to find the modular inverse.\n",
    "        phi (int): The modulus.\n",
    "    Returns:\n",
    "        int: The modular inverse of 'e' modulo 'phi'.\n",
    "    \"\"\"\n",
    "    for d in range (3, phi):\n",
    "        if (d * e) % phi == 1:\n",
    "            return d\n",
    "    raise ValueError (f\"mod_inverse of ({e}, {phi}) does not exist!\")"
   ]
  },
  {
   "cell_type": "markdown",
   "metadata": {
    "id": "uZRhy8JU_vLF"
   },
   "source": [
    "#### 5.2.5 Generate keys"
   ]
  },
  {
   "cell_type": "markdown",
   "metadata": {
    "id": "_5eckNWuQswW"
   },
   "source": [
    "Now let's combine the above functions to generate the public and private keys. The function `generate_keys()` will also return $n$, which will be used in subsequent encryption/decryption."
   ]
  },
  {
   "cell_type": "code",
   "execution_count": 6,
   "metadata": {
    "id": "Pj9Zlq3x_xk8"
   },
   "outputs": [],
   "source": [
    "def generate_keys(p = None, q = None, e = None, prime_length_bits = 8):\n",
    "    \"\"\"\n",
    "    Generates RSA public and private keys.\n",
    "    Args:\n",
    "        p (int, optional): The first prime number. If not provided, it will be generated.\n",
    "        q (int, optional): The second prime number. If not provided, it will be generated.\n",
    "        e (int, optional): The public exponent. If not provided, it will be generated.\n",
    "        prime_length_bits (int, optional): The bit length for generating prime numbers. Default is 256.\n",
    "    Returns:\n",
    "        tuple: A tuple containing the public exponent 'e', the private exponent 'd', and the modulus 'n'.\n",
    "    \"\"\"\n",
    "    # Step 1: Generate primes\n",
    "    if ((not p) or (not q)):\n",
    "        p, q = generate_prime(prime_length_bits), generate_prime (prime_length_bits)\n",
    "        if p == q:\n",
    "            q = generate_prime(prime_length_bits)\n",
    "    else:\n",
    "        if (not is_prime(p) or not is_prime(q)):\n",
    "            raise ValueError (f\"p and q must be prime.\")\n",
    "\n",
    "    # Step 2: Generate the product of the primes\n",
    "    n = p * q\n",
    "\n",
    "    # Step 3: Generate φ(n)\n",
    "    phi_n = eulers_totient(p, q)\n",
    "\n",
    "    # Step 4: Generate the public exponent e\n",
    "    if (not e):\n",
    "        e = generate_public_exponent(phi_n)\n",
    "\n",
    "    # Step 5: Calculate the modular inverse d\n",
    "    d = mod_inverse(e, phi_n)\n",
    "\n",
    "    return e, d, n"
   ]
  },
  {
   "cell_type": "markdown",
   "metadata": {
    "id": "6dLoq26y_QR3"
   },
   "source": [
    "#### 5.2.6 Encrypt/Decrypt the message"
   ]
  },
  {
   "cell_type": "code",
   "execution_count": 7,
   "metadata": {
    "id": "1FrzjJAE2AOx"
   },
   "outputs": [],
   "source": [
    "def encrypt_message_to_cipher(M, e, n):\n",
    "    \"\"\"\n",
    "    Encrypts a string message using the RSA encryption algorith.\n",
    "    Args:\n",
    "        M (str): The plaintext message to be encrypted.\n",
    "        e (int): The public exponent used for encryption.\n",
    "        n (int): The modulus used for encryption.\n",
    "    Returns:\n",
    "        list: A list of integers representing the encrypted message.\n",
    "    \"\"\"\n",
    "    M_ascii_encoded = [ord(ch) for ch in M]\n",
    "    cipher = [pow(ch, e, n) for ch in M_ascii_encoded]\n",
    "\n",
    "    return cipher\n",
    "\n",
    "def decrypt_cipher_to_message(C, d, n):\n",
    "    \"\"\"\n",
    "    Decrypts an encrypted message using the RSA decryption algorithm.\n",
    "    Args:\n",
    "        C (list): The encrypted message represented as a list of integers.\n",
    "        d (int): The private exponent used for decryption.\n",
    "        n (int): The modulus used for decryption.\n",
    "    Returns:\n",
    "        str: The decrypted plaintext message.\n",
    "    \"\"\"\n",
    "    C_ascii_encoded = [pow(ch, d, n) for ch in C]\n",
    "    M = \"\".join (chr(ch) for ch in C_ascii_encoded)\n",
    "\n",
    "    return M"
   ]
  },
  {
   "cell_type": "markdown",
   "metadata": {
    "id": "GxajZ8QK_YF5"
   },
   "source": [
    "#### 5.2.7 Combining all components"
   ]
  },
  {
   "cell_type": "code",
   "execution_count": 8,
   "metadata": {
    "colab": {
     "base_uri": "https://localhost:8080/"
    },
    "executionInfo": {
     "elapsed": 2164,
     "status": "ok",
     "timestamp": 1717946470479,
     "user": {
      "displayName": "Miroslava Ivanova",
      "userId": "04041431527474936486"
     },
     "user_tz": -180
    },
    "id": "ZzUflwhb5bU7",
    "outputId": "3ac6bd90-79e8-4a3e-ea8f-ab5a38d75d76"
   },
   "outputs": [
    {
     "name": "stdout",
     "output_type": "stream",
     "text": [
      "Public Key:   1997\n",
      "Private Key:  4133\n",
      "n:            46031\n",
      "Original message:   A\n",
      "Encrypted by RSA    [5562]\n",
      "Decrypted message:  A\n"
     ]
    }
   ],
   "source": [
    "e, d, n = generate_keys()\n",
    "\n",
    "message = \"A\"\n",
    "encrypted = encrypt_message_to_cipher(message, e, n)\n",
    "decrypted = decrypt_cipher_to_message(encrypted, d, n)\n",
    "\n",
    "print(\"Public Key:  \", e)\n",
    "print(\"Private Key: \", d)\n",
    "print(\"n:           \", n)\n",
    "print(\"Original message:  \", message)\n",
    "print(\"Encrypted by RSA   \", encrypted)\n",
    "print(\"Decrypted message: \", decrypted)"
   ]
  },
  {
   "cell_type": "markdown",
   "metadata": {},
   "source": [
    "#### 5.2.8 Functional tests"
   ]
  },
  {
   "cell_type": "markdown",
   "metadata": {
    "id": "IFOnOgN61IXO"
   },
   "source": [
    "Now is a good time to write some tests so that we know we haven't broken our implementation with future changes of the code."
   ]
  },
  {
   "cell_type": "code",
   "execution_count": 9,
   "metadata": {
    "id": "RuVtVPK-1Hqi"
   },
   "outputs": [],
   "source": [
    "def test_decrypting(message):\n",
    "    e, d, n = generate_keys()\n",
    "    encrypted = encrypt_message_to_cipher(message, e, n)\n",
    "    decrypted = decrypt_cipher_to_message(encrypted, d, n)\n",
    "    assert decrypted == message, \"The decrypted message is not the same as the original message!\"\n",
    "\n",
    "def all_functional_tests():\n",
    "    text = Path(\"test_data/file_6000_chars.txt\").read_text()\n",
    "    messages = [\"A\", \"z\", \"AB\", \"abc\", text[:100], text[:200], text[:500]]\n",
    "    for message in messages:\n",
    "        test_decrypting(message)\n",
    "\n",
    "    print(\"\\033[32m ✅ All tests passed \\033[0m\")"
   ]
  },
  {
   "cell_type": "code",
   "execution_count": 10,
   "metadata": {
    "colab": {
     "base_uri": "https://localhost:8080/"
    },
    "executionInfo": {
     "elapsed": 3891,
     "status": "ok",
     "timestamp": 1717961529927,
     "user": {
      "displayName": "Miroslava Ivanova",
      "userId": "04041431527474936486"
     },
     "user_tz": -180
    },
    "id": "90dqH__1VeD3",
    "outputId": "839cb2db-fc4f-49ba-f50a-87b1c7a93777"
   },
   "outputs": [
    {
     "name": "stdout",
     "output_type": "stream",
     "text": [
      "\u001b[32m ✅ All tests passed \u001b[0m\n"
     ]
    }
   ],
   "source": [
    "all_functional_tests()"
   ]
  },
  {
   "cell_type": "markdown",
   "metadata": {
    "editable": true,
    "id": "jnDBhClMVdlo",
    "slideshow": {
     "slide_type": ""
    },
    "tags": []
   },
   "source": [
    "### 5.2 Analyzing the Algorithm"
   ]
  },
  {
   "cell_type": "markdown",
   "metadata": {
    "editable": true,
    "id": "1SFvalx6h2gG",
    "slideshow": {
     "slide_type": ""
    },
    "tags": []
   },
   "source": [
    "In this section, we will explore the impact of modifying various parameters involved in the RSA algorithm, particularly focusing on how these changes affect its performance."
   ]
  },
  {
   "cell_type": "markdown",
   "metadata": {
    "editable": true,
    "id": "linaDQXwadXd",
    "slideshow": {
     "slide_type": ""
    },
    "tags": []
   },
   "source": [
    "#### 5.2.1 How the size of $p$ and $q$ affects the time for their generation?"
   ]
  },
  {
   "cell_type": "markdown",
   "metadata": {},
   "source": [
    "##### Explore the time to generate prime numbers of varying lengths using brute force prime generation"
   ]
  },
  {
   "cell_type": "markdown",
   "metadata": {
    "id": "cHo4yCMIpJan"
   },
   "source": [
    "Let's explore the time required to generate prime numbers of varying lengths. We will generate specific primes by constraining the range to the desired prime. The current algorithm in function `generate_prime()` we created above (🔴link to section ) employs a brute-force approach, generating a random number within a specified range and then checking its primality using a brute-force method."
   ]
  },
  {
   "cell_type": "code",
   "execution_count": 11,
   "metadata": {},
   "outputs": [],
   "source": [
    "# function `mean_time_msec` is defined in the companion notebook RSA Helper Functions.ipynb\n",
    "def test_prime_generation_performance(n_bits_list, fn_generate_prime):\n",
    "    return [mean_time_msec(5)(fn_generate_prime)(n_bits) for n_bits in n_bits_list]"
   ]
  },
  {
   "attachments": {},
   "cell_type": "markdown",
   "metadata": {
    "id": "4wh55FesmfcD"
   },
   "source": [
    "<div class=\"alert alert-block alert-warning\" style=\"font-size:1.2em\">\n",
    "⚠️The below cell will run for $≈$3 min. If you want to run it set the flag to True. Otherwise you can inspect the output in the screenshot below the cell.\n",
    "</div>"
   ]
  },
  {
   "cell_type": "code",
   "execution_count": 12,
   "metadata": {
    "id": "A0q28VoAVu9_"
   },
   "outputs": [],
   "source": [
    "I_UNDERSTAND_THE_CELL_WILL_RUN_LONG_TIME = False\n",
    "\n",
    "if I_UNDERSTAND_THE_CELL_WILL_RUN_LONG_TIME:\n",
    "    n_bits_list = [5, 10, 20, 25, 27, 30]\n",
    "    print(test_prime_generation_performance(n_bits_list, generate_prime))"
   ]
  },
  {
   "attachments": {},
   "cell_type": "markdown",
   "metadata": {
    "id": "LkmNU3W5kthb"
   },
   "source": [
    "Output of the above cell:\n",
    "\n",
    "![generate_primes_brute_force.png](images/generate_primes_brute_force.png)"
   ]
  },
  {
   "cell_type": "markdown",
   "metadata": {
    "id": "Albm0cYNqP_C"
   },
   "source": [
    "Generating a 30 bit prime number using the brute-force method took $≈$ 33 seconds. Clearly a performance hog! Let's try to improve the performance by using another algorithm like the Sieve of Eratosthenes."
   ]
  },
  {
   "cell_type": "markdown",
   "metadata": {},
   "source": [
    "##### Try to improve prime generation by using the Sieve of Eratosthenes"
   ]
  },
  {
   "cell_type": "code",
   "execution_count": 13,
   "metadata": {
    "id": "A0q28VoAVu9_"
   },
   "outputs": [],
   "source": [
    "I_UNDERSTAND_THE_CELL_WILL_RUN_LONG_TIME = False\n",
    "\n",
    "# functions `generate_prime_sieve_eratosthenes` and `mean_time_msec` are\n",
    "# defined in the companion notebook RSA Helper Functions.ipynb\n",
    "if I_UNDERSTAND_THE_CELL_WILL_RUN_LONG_TIME:\n",
    "    n_bits_list = [5, 10, 20, 25, 27, 30]\n",
    "    print(test_prime_generation_performance(n_bits_list, generate_prime_sieve_eratosthenes))"
   ]
  },
  {
   "attachments": {},
   "cell_type": "markdown",
   "metadata": {},
   "source": [
    "Output of the above cell:\n",
    "![generate_primes_sieve_er.png](images/generate_primes_sieve_er.png)"
   ]
  },
  {
   "cell_type": "markdown",
   "metadata": {
    "editable": true,
    "slideshow": {
     "slide_type": ""
    },
    "tags": []
   },
   "source": [
    "Generating a 30-bit prime number using the Sieve of Eratosthenes took 221 seconds. This is much worse performance. However, this is expected because the Sieve of Eratosthenes is designed to generate a list of all prime numbers up to a given limit, whereas in this case we only needed one prime number of a specific length. As a result, the algorithm performed more work than was necessary to achieve the desired outcome, leading to the longer execution time."
   ]
  },
  {
   "cell_type": "markdown",
   "metadata": {},
   "source": [
    "##### Another improvement attempt by using the Miller-Rabin Primality test"
   ]
  },
  {
   "cell_type": "markdown",
   "metadata": {
    "editable": true,
    "slideshow": {
     "slide_type": ""
    },
    "tags": []
   },
   "source": [
    "Let's make another attempt to improve the prime generation by using the Miller-Rabin primality test instead of the brute force `is_prime()`. This algorithm can produce false positives that is why it is executed multiple times to increase the probability of a correct result."
   ]
  },
  {
   "cell_type": "code",
   "execution_count": 14,
   "metadata": {
    "colab": {
     "base_uri": "https://localhost:8080/"
    },
    "editable": true,
    "executionInfo": {
     "elapsed": 264,
     "status": "ok",
     "timestamp": 1717966683073,
     "user": {
      "displayName": "Miroslava Ivanova",
      "userId": "04041431527474936486"
     },
     "user_tz": -180
    },
    "id": "c6mxNQVTxpJg",
    "outputId": "3ba521fc-1fb9-4c95-f16e-49d8939caca2",
    "slideshow": {
     "slide_type": ""
    },
    "tags": []
   },
   "outputs": [],
   "source": [
    "def generate_prime_miller_rabin(n_bits):\n",
    "    \"\"\"\n",
    "    Generates a prime number of the specified bit length using the Miller-Rabin primality test.\n",
    "    Args:\n",
    "        n_bits (int): The bit length for the prime number to be generated.\n",
    "    Returns:\n",
    "        int: A prime number of the specified bit length.\n",
    "    \"\"\"\n",
    "    while True:\n",
    "        prime = get_random_number(n_bits)\n",
    "        if is_prime_miller_rabin(prime, k=5):\n",
    "            return prime"
   ]
  },
  {
   "cell_type": "code",
   "execution_count": 15,
   "metadata": {},
   "outputs": [],
   "source": [
    "I_UNDERSTAND_THE_CELL_WILL_RUN_LONG_TIME = False\n",
    "\n",
    "if I_UNDERSTAND_THE_CELL_WILL_RUN_LONG_TIME:\n",
    "    n_bits_list = [256, 516, 1024, 2048, 4096]\n",
    "    print(test_prime_generation_performance(n_bits_list, generate_prime_miller_rabin))"
   ]
  },
  {
   "attachments": {},
   "cell_type": "markdown",
   "metadata": {},
   "source": [
    "Output of the above cell:\n",
    "![generate_primes_miller_rabin.png](images/generate_primes_miller_rabin.png)"
   ]
  },
  {
   "cell_type": "markdown",
   "metadata": {},
   "source": [
    "We see that even though we saw good times for generation of small and mid-sized primes, even the Miller-Rabin algorithm fails in terms of performance for 2048-bit and larger primes. Let's make one more attempt at improving performance by combining the Sieve or Eratosthenes and the Rabin-Miller primality test. The idea is to generate less prime candidates by first excluding some of the non-primes using the sieve."
   ]
  },
  {
   "cell_type": "markdown",
   "metadata": {},
   "source": [
    "##### Yet another attempt to improve performance by combining the Sieve of Eratosthenes and the Rabin-Miller primality test"
   ]
  },
  {
   "cell_type": "code",
   "execution_count": 16,
   "metadata": {},
   "outputs": [],
   "source": [
    "# function `is_prime_miller_rabin` is defined in the companion notebook RSA Helper Functions.ipynb\n",
    "def generate_prime_miller_rabin_sieve_er (n_bits):\n",
    "    \"\"\"\n",
    "    Generates a prime number of the specified bit length using the Sieve of Eratosthenes\n",
    "    for choosing a prime candidate and the Miller-Rabin primality test.\n",
    "    Args:\n",
    "        n_bits (int): The bit length for the prime number to be generated.\n",
    "    Returns:\n",
    "        int: A prime number of the specified bit length.\n",
    "    \"\"\"\n",
    "    while True:\n",
    "        prime_candidate = get_random_number_sieved(n_bits)\n",
    "        if not is_prime_miller_rabin(prime_candidate, k=5):\n",
    "            continue\n",
    "        else:\n",
    "            return prime_candidate"
   ]
  },
  {
   "cell_type": "code",
   "execution_count": 17,
   "metadata": {
    "editable": true,
    "slideshow": {
     "slide_type": ""
    },
    "tags": []
   },
   "outputs": [],
   "source": [
    "I_UNDERSTAND_THE_CELL_WILL_RUN_LONG_TIME = False\n",
    "# function `is_prime_miller_rabin_sieve_er` is defined in the companion notebook RSA Helper Functions.ipynb\n",
    "\n",
    "if I_UNDERSTAND_THE_CELL_WILL_RUN_LONG_TIME:\n",
    "    n_bits_list = [256, 516, 1024, 2048, 4096]\n",
    "    print(test_prime_generation_performance(n_bits_list, generate_prime_miller_rabin_sieve_er))"
   ]
  },
  {
   "attachments": {},
   "cell_type": "markdown",
   "metadata": {},
   "source": [
    "Output of the above cell:\n",
    "![generate_primes_rabin_miller_sieve_er.png](images/generate_primes_rabin_miller_sieve_er.png)\n"
   ]
  },
  {
   "cell_type": "markdown",
   "metadata": {},
   "source": [
    "Finally, we have enough information to compare the time for generating prime numbers of different lengths using two algorithms:"
   ]
  },
  {
   "cell_type": "code",
   "execution_count": 18,
   "metadata": {},
   "outputs": [
    {
     "data": {
      "image/png": "[encoded data removed]",
      "text/plain": [
       "<Figure size 700x400 with 1 Axes>"
      ]
     },
     "metadata": {},
     "output_type": "display_data"
    }
   ],
   "source": [
    "n_bits_list = [256, 516, 1024, 2048, 4096]\n",
    "times_to_generate_prime_mr = [23.704800001723925, 59.54100000235485, 2779.947099999845, 9221.19549999843, 266755.3584999987]\n",
    "times_to_generate_prime_mr_sieve = [17.45451996102929, 61.99582004919648, 398.5925999470055, 4936.42343999818, 27441.254119947553]\n",
    "\n",
    "plt.figure(figsize=(7, 4))\n",
    "plt.plot(n_bits_list, times_to_generate_prime_mr, marker=\"o\", label=\"Rabin-Miller\")\n",
    "plt.plot(n_bits_list, times_to_generate_prime_mr_sieve, marker='o', label=\"Sieve of Eratosthenes and Rabin-Miller\")\n",
    "plt.xlabel(\"Prime Number Length (bits)\")\n",
    "plt.ylabel(\"Time (msec)\")\n",
    "plt.title(\"Generation of Prime Numbers of Different Lengths Using Two Algorithms\")\n",
    "plt.xticks(n_bits_list)\n",
    "plt.legend()\n",
    "plt.grid(True)\n",
    "plt.show()"
   ]
  },
  {
   "cell_type": "markdown",
   "metadata": {},
   "source": [
    "##### Run functional tests with the new generate_prime"
   ]
  },
  {
   "cell_type": "markdown",
   "metadata": {},
   "source": [
    "Now that we've enhanced the efficiency of generating a prime number, let's execute the functional tests again to verify that the core functionality remains \n",
    " uncompromised."
   ]
  },
  {
   "cell_type": "code",
   "execution_count": 19,
   "metadata": {},
   "outputs": [
    {
     "name": "stdout",
     "output_type": "stream",
     "text": [
      "\u001b[32m ✅ All tests passed \u001b[0m\n"
     ]
    }
   ],
   "source": [
    "generate_prime = generate_prime_miller_rabin_sieve_er\n",
    "all_functional_tests()"
   ]
  },
  {
   "cell_type": "markdown",
   "metadata": {},
   "source": [
    "#### 5.2.2 What is the effect of RSA key length on the private exponent $d$ generation time?"
   ]
  },
  {
   "cell_type": "markdown",
   "metadata": {},
   "source": [
    "In RSA cryptography, the term \"key size\" refers to the length in bits of the modulus $n$. For instance, if we want a 2048-bit key size, we would need to generate two prime numbers, each approximately 1024 bits long, and then multiply them to obtain the modulus $n$.\n",
    "\n",
    "However, the actual RSA keys used for encryption and decryption are the public exponent $e$ and the private exponent $d$, respectively. The key size (i.e., the bit length of $n$) determines the difficulty of factoring $n$ to derive the private key $d$ from the public key $e$.\n",
    "\n",
    "Now, let's explore how the time required to generate the public/private key pair scales with the key size."
   ]
  },
  {
   "cell_type": "markdown",
   "metadata": {},
   "source": [
    "##### Explore the time to calculate the modular inverse using brute force"
   ]
  },
  {
   "cell_type": "code",
   "execution_count": 20,
   "metadata": {},
   "outputs": [],
   "source": [
    "# function `mean_time_msec` is defined in the companion notebook RSA Helper Functions.ipynb\n",
    "def get_time_to_calculate_d(e, key_length, fn_mod_inverse):\n",
    "    \"\"\"\n",
    "    Calculates the time required to compute the modular inverse 'd'\n",
    "    for a given public exponent 'e' and key length.\n",
    "    Args:\n",
    "        e (int): The public exponent 'e'.\n",
    "        key_length (int): The total length of the RSA key.\n",
    "        fn_mod_inverse (function): The function to calculate the modular inverse 'd'.\n",
    "    Returns:\n",
    "        float: The time in milliseconds taken to compute 'd'.\n",
    "    \"\"\"\n",
    "    prime_length = key_length // 2\n",
    "    attempt = 0\n",
    "    time_to_calculate_d = 1\n",
    "    # sometimes the random primes lead to no modular inverse of e so we keep trying with other primes\n",
    "    while attempt < 5:\n",
    "        try:\n",
    "            p, q = generate_prime_miller_rabin_sieve_er(prime_length), generate_prime_miller_rabin_sieve_er(prime_length)\n",
    "            phi_n = eulers_totient(p, q)\n",
    "            time_to_calculate_d = mean_time_msec(5)(fn_mod_inverse)(e, phi_n)\n",
    "            break\n",
    "        except Exception as exception:\n",
    "            attempt += 1\n",
    "            print(exception)\n",
    "    if (attempt >= 5):\n",
    "        raise Exception(\"After 5 tries did not find mod_inverse of {e}\")\n",
    "\n",
    "    return time_to_calculate_d"
   ]
  },
  {
   "cell_type": "code",
   "execution_count": 21,
   "metadata": {},
   "outputs": [
    {
     "name": "stdout",
     "output_type": "stream",
     "text": [
      "Key size: 16, time to calculate d: 3.87 msec\n",
      "Key size: 18, time to calculate d: 5.65 msec\n",
      "Key size: 20, time to calculate d: 46.93 msec\n",
      "Key size: 22, time to calculate d: 81.83 msec\n",
      "Key size: 24, time to calculate d: 263.41 msec\n",
      "Key size: 26, time to calculate d: 1678.48 msec\n",
      "Key size: 28, time to calculate d: 21776.14 msec\n"
     ]
    }
   ],
   "source": [
    "e = 65537\n",
    "key_lengths = [16, 18, 20, 22, 24, 26, 28]\n",
    "\n",
    "times_to_calculate_d = [get_time_to_calculate_d(e, key_length, mod_inverse) for key_length in key_lengths]\n",
    "print(*[f\"Key size: {key_bits}, time to calculate d: {round(time_d, 2)} msec\" for key_bits, time_d in zip(key_lengths, times_to_calculate_d)], sep='\\n')"
   ]
  },
  {
   "cell_type": "markdown",
   "metadata": {},
   "source": [
    "When we examine the times required to calculate the inverse, it becomes evident that there is an issue. For a key size of 28 bits, the calculation of the private exponents already takes 10+ seconds. This approach is not scalable for key sizes of 1024 and 2048 bits. \n",
    "The reason behind this poor performance is that in the section \"5.1 Trivial Implementation\" (🔴LINK) we implemented the calculation of the modular inverse using a brute-force method. Let's explore whether utilizing the Extended Euclidean Algorithm can enhance the performance."
   ]
  },
  {
   "cell_type": "markdown",
   "metadata": {},
   "source": [
    "##### Try to improve the calculation of modular inverse by using the Extended Euclidean Algorithm"
   ]
  },
  {
   "cell_type": "code",
   "execution_count": 22,
   "metadata": {},
   "outputs": [],
   "source": [
    "def extended_gcd(a, b):\n",
    "    \"\"\"The extended Euclidean algorithm.\"\"\"\n",
    "    if a == 0:\n",
    "        return b, 0, 1\n",
    "    else:\n",
    "        gcd, x1, y1 = extended_gcd(b % a, a)\n",
    "        x = y1 - (b // a) * x1\n",
    "        y = x1\n",
    "        return gcd, x, y\n",
    "\n",
    "def mod_inverse_extended_euclidean(e, phi):\n",
    "    \"\"\"Compute the modular inverse of e modulo phi.\"\"\"\n",
    "    gcd, x, y = extended_gcd(e, phi)\n",
    "    if gcd != 1:\n",
    "        raise ValueError(f\"No modular inverse for e={e} and phi={phi}\")\n",
    "    else:\n",
    "        return x % phi\n"
   ]
  },
  {
   "cell_type": "code",
   "execution_count": 23,
   "metadata": {},
   "outputs": [
    {
     "name": "stdout",
     "output_type": "stream",
     "text": [
      "Key size: 16, time to calculate d: 0.005 msec\n",
      "Key size: 18, time to calculate d: 0.003 msec\n",
      "Key size: 20, time to calculate d: 0.0031 msec\n",
      "Key size: 22, time to calculate d: 0.0029 msec\n",
      "Key size: 24, time to calculate d: 0.0034 msec\n",
      "Key size: 26, time to calculate d: 0.0029 msec\n",
      "Key size: 28, time to calculate d: 0.0041 msec\n"
     ]
    }
   ],
   "source": [
    "key_lengths = [16, 18, 20, 22, 24, 26, 28]\n",
    "times_to_calculate_d = [get_time_to_calculate_d(e, key_length, mod_inverse_extended_euclidean) for key_length in key_lengths]\n",
    "print(*[f\"Key size: {key_bits}, time to calculate d: {round(time_d, 4)} msec\" for key_bits, time_d in zip(key_lengths, times_to_calculate_d)], sep='\\n')"
   ]
  },
  {
   "cell_type": "markdown",
   "metadata": {},
   "source": [
    "With notable progress achieved, we can now explore the utilization of more extended key lengths."
   ]
  },
  {
   "cell_type": "code",
   "execution_count": 24,
   "metadata": {},
   "outputs": [
    {
     "name": "stdout",
     "output_type": "stream",
     "text": [
      "Key size: 256, time to calculate d: 0.0054 msec\n",
      "Key size: 512, time to calculate d: 0.0068 msec\n",
      "Key size: 1024, time to calculate d: 0.0052 msec\n",
      "Key size: 2048, time to calculate d: 0.0059 msec\n",
      "Key size: 3072, time to calculate d: 0.0069 msec\n",
      "Key size: 4096, time to calculate d: 0.0073 msec\n"
     ]
    }
   ],
   "source": [
    "e = 65537\n",
    "key_lengths = [256, 512, 1024, 2048, 3072, 4096]\n",
    "times_to_calculate_d = [get_time_to_calculate_d(e, key_length, mod_inverse_extended_euclidean) for key_length in key_lengths]\n",
    "print(*[f\"Key size: {key_bits}, time to calculate d: {round(time_d, 4)} msec\" for key_bits, time_d in zip(key_lengths, times_to_calculate_d)], sep='\\n')"
   ]
  },
  {
   "cell_type": "markdown",
   "metadata": {},
   "source": [
    "From the output we see that while the key size increases by a factor of 16, the time to calculate $d$ increases sub-linearly only by a factor of 2. Furthermore, $d$ calculation times of a microseconds shows that the Extended Euclidean algorithm is very efficient."
   ]
  },
  {
   "cell_type": "markdown",
   "metadata": {},
   "source": [
    "##### Run functional tests with the new mod_inverse"
   ]
  },
  {
   "cell_type": "code",
   "execution_count": 25,
   "metadata": {},
   "outputs": [
    {
     "name": "stdout",
     "output_type": "stream",
     "text": [
      "\u001b[32m ✅ All tests passed \u001b[0m\n"
     ]
    }
   ],
   "source": [
    "mod_inverse = mod_inverse_extended_euclidean\n",
    "all_functional_tests()"
   ]
  },
  {
   "cell_type": "markdown",
   "metadata": {},
   "source": [
    "#### 5.2.3 What is the impact of $e$'s length on $d$'s generation time?"
   ]
  },
  {
   "cell_type": "markdown",
   "metadata": {},
   "source": [
    "Now that we know the modular inverse calculation is very fast even for 4096 bit keys we can run a combined performance test for various lengths of the public exponent $e$ and RSA key lengths. "
   ]
  },
  {
   "cell_type": "markdown",
   "metadata": {},
   "source": [
    "##### Performance test for various lengths of $e$"
   ]
  },
  {
   "cell_type": "markdown",
   "metadata": {},
   "source": [
    "The value of $e$ needs to satisfy two conditions: it must be greater than 1 and less than $\\varphi(n)$, and it must be coprime with $\\varphi(n)$, meaning their greatest common divisor is 1. By choosing the maximum length for $e$ to be equal to that of $p$, we ensure that these conditions are met. For the performance test let's choose 4 values of $e$ depending on the prime number length (which is about one half of the RSA key length): a quarter the length of the prime, one half, tree quarters and the length of the prime."
   ]
  },
  {
   "cell_type": "code",
   "execution_count": 26,
   "metadata": {},
   "outputs": [],
   "source": [
    "# this cell runs for ~ 55 seconds\n",
    "key_lengths = [1024, 2048, 3072, 4096]\n",
    "\n",
    "def generate_exponents(bit_length, fn_generate_prime):\n",
    "    \"\"\"\n",
    "    Generate 🔴three prime numbers of sizes approximately 1/3, 2/3, and the full bit length of the prime.\n",
    "    Args:\n",
    "        bit_size (int): The desired bit size of the largest prime number.\n",
    "    Returns:\n",
    "        tuple: A tuple containing three prime numbers of sizes approximately 1/3, 2/3, and the full bit size.\n",
    "    \"\"\"\n",
    "\n",
    "    prime1 = fn_generate_prime(bit_length // 4)      # 1/4\n",
    "    prime2 = fn_generate_prime(bit_length // 2)      # 1/2\n",
    "    prime3 = fn_generate_prime(3*(bit_length // 4))  # 3/4\n",
    "    prime4 = fn_generate_prime(bit_length)           # 1\n",
    "\n",
    "    return prime1, prime2, prime3, prime4\n",
    "\n",
    "performance_per_key_length = []\n",
    "for key_length in key_lengths:\n",
    "    prime_length = key_length//2\n",
    "    exponent_length_bits = [prime_length // 4, prime_length // 2, 3*(prime_length // 4), prime_length]\n",
    "    exponents = generate_exponents(prime_length, generate_prime_miller_rabin_sieve_er)\n",
    "\n",
    "    times_to_calculate_d = [get_time_to_calculate_d(e, key_length, mod_inverse_extended_euclidean) for e in exponents]\n",
    "    performance_per_key_length.append(times_to_calculate_d)"
   ]
  },
  {
   "cell_type": "markdown",
   "metadata": {},
   "source": [
    "##### Plot the results"
   ]
  },
  {
   "cell_type": "code",
   "execution_count": 27,
   "metadata": {},
   "outputs": [
    {
     "data": {
      "image/png": "[encoded data removed]",
      "text/plain": [
       "<Figure size 1000x600 with 1 Axes>"
      ]
     },
     "metadata": {},
     "output_type": "display_data"
    }
   ],
   "source": [
    "e_lengths = [1/4, 1/2, 3/4, 1]\n",
    "\n",
    "plt.figure(figsize=(10, 6))\n",
    "plt.plot(e_lengths, performance_per_key_length[0], marker='o', color=\"green\", label=f'Key Length=1024')\n",
    "plt.plot(e_lengths, performance_per_key_length[1], marker='o', color=\"orange\", label=f'Key Length=2048')\n",
    "plt.plot(e_lengths, performance_per_key_length[2], marker='o', color = \"blue\", label=f'Key Length=3072')\n",
    "plt.plot(e_lengths, performance_per_key_length[3], marker='o', color = \"purple\", label=f'Key Length=4096')\n",
    "plt.xlabel(\"Length of $e$ as fraction of key length (bits)\")\n",
    "plt.ylabel(\"Time to calculate $d$ (msec)\")\n",
    "plt.title('Time to Calculate $d$ for Different Key Lengths')\n",
    "plt.xticks(e_lengths, [\"1/4 key_length\", \"1/2 key_length\", \"3/4 key_length\", \"key_length\"])\n",
    "plt.legend()\n",
    "plt.grid(True)\n",
    "plt.show()"
   ]
  },
  {
   "cell_type": "markdown",
   "metadata": {},
   "source": [
    "#### 5.2.4 How does the message block length affect the performance of RSA encryption and decryption?"
   ]
  },
  {
   "cell_type": "markdown",
   "metadata": {},
   "source": [
    "Previously, we discussed that RSA encryption operates on block chunks (🔴LINK TO SECTION), and the size of these blocks depends on the length of $n$. However, in the trivial implementation (🔴LINK TO SECTION) we provided earlier, we divided the message into individual characters. Let's now explore how dividing the message into larger chunks would impact the time required for encryption and decryption."
   ]
  },
  {
   "cell_type": "markdown",
   "metadata": {},
   "source": [
    "##### Divide message into blocks before encrypting"
   ]
  },
  {
   "cell_type": "code",
   "execution_count": 28,
   "metadata": {},
   "outputs": [],
   "source": [
    "def string_to_ascii_number(string):\n",
    "    \"\"\"\n",
    "    ASCII encode each character of a string\n",
    "    Args:\n",
    "        string (str): The string to be converted.\n",
    "    Returns:\n",
    "        number: The ASCII representation of the input string as a single large number.\n",
    "    \"\"\"\n",
    "    ascii_nums = [ord(char) for char in string]\n",
    "    # Convert each number to a string with leading zeros if it's a 2-digit number\n",
    "    ascii_strings = [f\"{num:03d}\" if num < 100 else str(num) for num in ascii_nums]\n",
    "    number_as_string = \"\".join(ascii_strings)\n",
    "    return int(number_as_string)\n",
    "\n",
    "def ascii_number_to_string(number):\n",
    "    \"\"\"\n",
    "    Divide a number into triples of digits and treat each triple as an ASCII encoded character\n",
    "    Args:\n",
    "        number (int): The number to be converted.\n",
    "    Returns:\n",
    "        str: The corresponding string representation of the number.\n",
    "    \"\"\"\n",
    "    number_as_string = str(number)\n",
    "    if (len(number_as_string) % 3 != 0):\n",
    "        number_as_string = \"0\" + number_as_string\n",
    "    # Split number_as_string into groups of 3 characters\n",
    "    ascii_chars = [number_as_string[i:i+3] for i in range(0, len(number_as_string), 3)]\n",
    "    chars = [chr(int(char)) for char in ascii_chars]\n",
    "    return \"\".join(chars)\n",
    "\n",
    "def number_of_bytes(n):\n",
    "    \"\"\"Calculates the number of bytes required to represent an integer `n`\"\"\"\n",
    "    if n == 0:\n",
    "        return 1  # Even 0 takes up one byte\n",
    "    bit_length = n.bit_length()\n",
    "    byte_length = (bit_length + 7) // 8  # Divide by 8 and round up\n",
    "    return byte_length\n",
    "\n",
    "def message_to_blocks(message, block_length):\n",
    "    \"\"\"Split a string into blocks of specified length\"\"\"\n",
    "    return [message[i:i + block_length] for i in range(0, len(message), block_length)]\n",
    "\n",
    "def encrypt_block(block, e, n):\n",
    "    \"\"\"Encrypts a single block of text using RSA encryption\"\"\"\n",
    "    ascii_block = string_to_ascii_number(block)\n",
    "    return pow(ascii_block, e, n)\n",
    "\n",
    "def decrypt_block(encrypted_block, d, n):\n",
    "    \"\"\"Decrypts a single block of text using RSA encryption\"\"\"\n",
    "    ascii_block = pow(encrypted_block, d, n)\n",
    "    return ascii_number_to_string(ascii_block)\n",
    "\n",
    "def message_to_encrypted_blocks(message, e, n):\n",
    "    \"\"\"\n",
    "    Encrypts a message by splitting it into blocks and encrypting\n",
    "    each block using RSA encryption.\n",
    "    Args:\n",
    "        message (str): The message to be encrypted.\n",
    "        e (int): The public exponent used for encryption.\n",
    "        n (int): The modulus used for encryption.\n",
    "    Returns:\n",
    "        list: A list of encrypted blocks (integers).\n",
    "    \"\"\"\n",
    "    block_length_bytes = number_of_bytes(n) // 2\n",
    "    blocks = message_to_blocks(message, block_length_bytes)\n",
    "    encrypted_blocks = [encrypt_block(block, e, n) for block in blocks]\n",
    "    return encrypted_blocks\n",
    "\n",
    "def encrypted_blocks_to_message(encrypted_blocks, d, n):\n",
    "    \"\"\"\n",
    "    Decrypts encrypted blocks using RSA decryption and concatenates\n",
    "    them into the original message.\n",
    "    Args:\n",
    "        encrypted_blocks (list): A list of encrypted blocks (integers).\n",
    "        d (int): The private exponent used for decryption.\n",
    "        n (int): The modulus used for decryption.\n",
    "    Returns:\n",
    "        str: The decrypted original message.\n",
    "    \"\"\"\n",
    "    decrypted_blocks = [decrypt_block(block, d, n) for block in encrypted_blocks]\n",
    "    decrypted_message = \"\".join(decrypted_blocks)\n",
    "    return decrypted_message"
   ]
  },
  {
   "cell_type": "code",
   "execution_count": 29,
   "metadata": {},
   "outputs": [],
   "source": [
    "long_text = Path(\"test_data/a_tale_of_two_cities_760000_chars.txt\").read_text()\n",
    "message = long_text[:10000]\n",
    "\n",
    "e, d, n = generate_keys(prime_length_bits = 1024)\n",
    "encrypted_message = message_to_encrypted_blocks(message, e, n)\n",
    "decrypted_message = encrypted_blocks_to_message(encrypted_message, d, n)\n",
    "\n",
    "assert(message == decrypted_message)"
   ]
  },
  {
   "cell_type": "markdown",
   "metadata": {},
   "source": [
    "##### Performance test for encrypting/decrypting messages of various lengths"
   ]
  },
  {
   "cell_type": "code",
   "execution_count": 30,
   "metadata": {
    "colab": {
     "base_uri": "https://localhost:8080/",
     "height": 619
    },
    "executionInfo": {
     "elapsed": 141428,
     "status": "ok",
     "timestamp": 1717953393859,
     "user": {
      "displayName": "Miroslava Ivanova",
      "userId": "04041431527474936486"
     },
     "user_tz": -180
    },
    "id": "deeXE6YzbJm3",
    "outputId": "af01a1b0-ffbf-49b5-ff3e-9b8485b0316b"
   },
   "outputs": [
    {
     "name": "stdout",
     "output_type": "stream",
     "text": [
      "[179.68443334878734, 360.4583666698697, 540.0069333263673, 897.2784000022026, 1768.9385333214886, 3562.388499985294]\n",
      "[182.56596667924896, 366.08093334749964, 544.3898666611252, 909.8174333339557, 1848.5676666605286, 3679.825700004585]\n"
     ]
    }
   ],
   "source": [
    "# this cell runs for ~1min\n",
    "long_text = Path(\"test_data/a_tale_of_two_cities_760000_chars.txt\").read_text()\n",
    "e, d, n = generate_keys(prime_length_bits = 1024)\n",
    "message_lengths = [1000, 2000, 3000, 5000, 10000, 20000]\n",
    "input_messages = [long_text[:n] for n in message_lengths]\n",
    "encrypted_messages = [message_to_encrypted_blocks(message, e, n) for message in input_messages]\n",
    "\n",
    "times_to_encrypt = [mean_time_msec(3)(message_to_encrypted_blocks)(message, e, n) for message in input_messages]\n",
    "times_to_decrypt = [mean_time_msec(3)(encrypted_blocks_to_message)(encrypted_message, d, n) for encrypted_message in encrypted_messages]\n",
    "\n",
    "print(times_to_encrypt)\n",
    "print(times_to_decrypt)"
   ]
  },
  {
   "cell_type": "markdown",
   "metadata": {},
   "source": [
    "##### Plot the results"
   ]
  },
  {
   "cell_type": "code",
   "execution_count": 31,
   "metadata": {
    "colab": {
     "base_uri": "https://localhost:8080/",
     "height": 619
    },
    "executionInfo": {
     "elapsed": 141428,
     "status": "ok",
     "timestamp": 1717953393859,
     "user": {
      "displayName": "Miroslava Ivanova",
      "userId": "04041431527474936486"
     },
     "user_tz": -180
    },
    "id": "deeXE6YzbJm3",
    "outputId": "af01a1b0-ffbf-49b5-ff3e-9b8485b0316b"
   },
   "outputs": [
    {
     "data": {
      "image/png": "[encoded data removed]",
      "text/plain": [
       "<Figure size 1000x600 with 1 Axes>"
      ]
     },
     "metadata": {},
     "output_type": "display_data"
    }
   ],
   "source": [
    "plt.figure(figsize=(10, 6))\n",
    "plt.plot(message_lengths, times_to_encrypt, marker='o', label='Encryption Time')\n",
    "plt.plot(message_lengths, times_to_decrypt, marker='o', label='Decryption Time')\n",
    "\n",
    "plt.xlabel(\"Message Length (characters)\")\n",
    "plt.ylabel(\"Time (msec)\")\n",
    "plt.title(\"Encryption and Decryption Times for Different Message Lengths\")\n",
    "plt.xticks(message_lengths)\n",
    "plt.legend()\n",
    "plt.grid(True)\n",
    "plt.show()"
   ]
  },
  {
   "cell_type": "markdown",
   "metadata": {},
   "source": [
    "The graph illustrates that the time required for encryption and decryption does not differ. Additionally, the plot shows a linear increase in the time taken as the length of the input message increases. Moving forward, we can incorporate the size of the cryptographic key as an additional variable in the performance testing to analyze how it impacts the encryption and decryption times."
   ]
  },
  {
   "cell_type": "markdown",
   "metadata": {},
   "source": [
    "#### 5.2.5 How does key size impact encryption and decryption times?"
   ]
  },
  {
   "cell_type": "markdown",
   "metadata": {},
   "source": [
    "##### Performance test"
   ]
  },
  {
   "cell_type": "code",
   "execution_count": 32,
   "metadata": {},
   "outputs": [
    {
     "name": "stdout",
     "output_type": "stream",
     "text": [
      "[82.84889999777079, 193.4635000070557, 534.0026000048965, 1782.754699990619]\n",
      "[82.46079995296896, 195.91599999694154, 537.5192000064999, 1797.3827999667265]\n"
     ]
    }
   ],
   "source": [
    "message = long_text[:10000]\n",
    "key_lengths = [256, 512, 1024, 2048]\n",
    "\n",
    "# list of tuples (e, d, n)\n",
    "rsa_params = [generate_keys(prime_length_bits = key_length // 2) for key_length in key_lengths]\n",
    "encrypted_messages = [message_to_encrypted_blocks(message, e, n) for (e, d, n) in rsa_params]\n",
    "times_to_encrypt = [mean_time_msec(1)(message_to_encrypted_blocks)(message, e, n) for (e, d, n) in rsa_params]\n",
    "times_to_decrypt = [mean_time_msec(1)(encrypted_blocks_to_message)(encrypted_message, d, n) for encrypted_message, (e, d, n) in zip(encrypted_messages, rsa_params)]\n",
    "\n",
    "print(times_to_encrypt)\n",
    "print(times_to_decrypt)"
   ]
  },
  {
   "cell_type": "markdown",
   "metadata": {},
   "source": [
    "##### Plot the results"
   ]
  },
  {
   "cell_type": "code",
   "execution_count": 33,
   "metadata": {},
   "outputs": [
    {
     "data": {
      "image/png": "[encoded data removed]",
      "text/plain": [
       "<Figure size 1000x600 with 1 Axes>"
      ]
     },
     "metadata": {},
     "output_type": "display_data"
    }
   ],
   "source": [
    "plt.figure(figsize=(10, 6))\n",
    "plt.plot(key_lengths, times_to_encrypt, marker='o', label='Encryption Time')\n",
    "plt.plot(key_lengths, times_to_decrypt, marker='o', label='Decryption Time')\n",
    "plt.xlabel(\"Key Length (bits)\")\n",
    "plt.ylabel(\"Time (msec)\")\n",
    "plt.title(\"Encryption and Decryption Times for Different Key Lengths\")\n",
    "plt.xticks(key_lengths)\n",
    "plt.legend()\n",
    "plt.grid(True)\n",
    "plt.show()"
   ]
  },
  {
   "cell_type": "markdown",
   "metadata": {},
   "source": [
    "The data shows that as the length of the cryptographic key becomes larger, the time required for the encryption process increases exponentially. Additionally, consistent with the previous graph, we observe that the times taken for encryption and decryption operations are equivalent."
   ]
  },
  {
   "cell_type": "markdown",
   "metadata": {},
   "source": [
    "##### Functional tests with the new encrypt/decrypt functions"
   ]
  },
  {
   "cell_type": "markdown",
   "metadata": {},
   "source": [
    "After modifying the encryption and decryption functions to handle message segmentation into blocks, we need to execute the functional tests to verify that the whole RSA existing functionality still works as expected."
   ]
  },
  {
   "cell_type": "code",
   "execution_count": 34,
   "metadata": {},
   "outputs": [
    {
     "name": "stdout",
     "output_type": "stream",
     "text": [
      "\u001b[32m ✅ All tests passed \u001b[0m\n"
     ]
    }
   ],
   "source": [
    "encrypt_message_to_cipher = message_to_encrypted_blocks\n",
    "decrypt_cipher_to_message = encrypted_blocks_to_message\n",
    "all_functional_tests()"
   ]
  },
  {
   "cell_type": "markdown",
   "metadata": {
    "id": "Q95kkpI3UWWw"
   },
   "source": [
    "## 6 Real-World Applications: Discuss real-world applications of RSA"
   ]
  },
  {
   "cell_type": "markdown",
   "metadata": {
    "id": "S41kzi8lOV7N"
   },
   "source": []
  }
 ],
 "metadata": {
  "colab": {
   "authorship_tag": "ABX9TyPi3VOCCRKhkIveACfJ33Ym",
   "collapsed_sections": [
    "cgIDZYA_-IOS",
    "bHf_98pU_bSI",
    "YarDcNM-_dzv"
   ],
   "provenance": []
  },
  "kernelspec": {
   "display_name": "Python 3 (ipykernel)",
   "language": "python",
   "name": "python3"
  },
  "language_info": {
   "codemirror_mode": {
    "name": "ipython",
    "version": 3
   },
   "file_extension": ".py",
   "mimetype": "text/x-python",
   "name": "python",
   "nbconvert_exporter": "python",
   "pygments_lexer": "ipython3",
   "version": "3.12.3"
  }
 },
 "nbformat": 4,
 "nbformat_minor": 4
}
