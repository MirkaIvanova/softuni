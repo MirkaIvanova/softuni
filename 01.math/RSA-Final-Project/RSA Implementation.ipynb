{
 "cells": [
  {
   "cell_type": "code",
   "execution_count": null,
   "metadata": {
    "editable": true,
    "id": "GMJuYqFczNL6",
    "slideshow": {
     "slide_type": ""
    },
    "tags": []
   },
   "outputs": [],
   "source": [
    "import random\n",
    "import math\n",
    "import requests\n",
    "import numpy as np\n",
    "import matplotlib.pyplot as plt\n",
    "from pathlib import Path\n",
    "\n",
    "%run \"source/RSA Helper Functions.ipynb\""
   ]
  },
  {
   "cell_type": "markdown",
   "metadata": {
    "id": "0js_g3xOJ5nQ"
   },
   "source": [
    "To better understand the practical application of the theoretical principles we've discussed, let's walk through the key generation, encryption, and decryption processes involved in the RSA algorithm.\n",
    "\n",
    "At first, we'll implement a very basic, straightforward algorithm using small numbers. We will then evaluate this algorithm to identify any parts that are causing performance issues or acting as bottlenecks that slow down execution. Based on the testing results and analysis, we'll attempt to optimize and enhance the underperforming sections of the algorithm to improve its overall efficiency."
   ]
  },
  {
   "cell_type": "markdown",
   "metadata": {
    "id": "-TLcDZv9QLDV"
   },
   "source": [
    "### 5.1 Trivial Implementation"
   ]
  },
  {
   "cell_type": "markdown",
   "metadata": {
    "id": "4bycs5grQXb7"
   },
   "source": [
    "First let's prepare the functions that will be needed to perform the 5 steps of the key generation process."
   ]
  },
  {
   "cell_type": "markdown",
   "metadata": {
    "id": "JgE5HbuTzSVs"
   },
   "source": [
    "#### 5.1.1 Generate prime numbers"
   ]
  },
  {
   "cell_type": "code",
   "execution_count": null,
   "metadata": {
    "id": "9L20RynHzQUM"
   },
   "outputs": [],
   "source": [
    "def is_prime (number):\n",
    "    if number < 2:\n",
    "        return False\n",
    "    for i in range (2, number // 2 + 1):\n",
    "        if number % i == 0:\n",
    "            return False\n",
    "    return True\n",
    "\n",
    "def get_random_number(n_bits):\n",
    "    \"\"\"Generates a random number n_bits long\"\"\"\n",
    "    return random.randrange(2**(n_bits-1) + 1, 2**n_bits - 1)\n",
    "\n",
    "def generate_prime(n_bits):\n",
    "    \"\"\"Generates a random prime number n_bits long\"\"\"\n",
    "    while True:\n",
    "        prime = get_random_number(n_bits)\n",
    "        if is_prime(prime):\n",
    "            return prime"
   ]
  },
  {
   "cell_type": "markdown",
   "metadata": {
    "id": "E_kRG5gmzof2"
   },
   "source": [
    "#### 5.2.2 Generate $\\varphi(n)$"
   ]
  },
  {
   "cell_type": "code",
   "execution_count": null,
   "metadata": {
    "id": "s9DVzMmmzvJQ"
   },
   "outputs": [],
   "source": [
    "def eulers_totient(p, q):\n",
    "    return (p-1) * (q-1)"
   ]
  },
  {
   "cell_type": "markdown",
   "metadata": {
    "id": "vMWkQMgTzfBL"
   },
   "source": [
    "#### 5.2.3 Generate public exponent $e$"
   ]
  },
  {
   "cell_type": "code",
   "execution_count": null,
   "metadata": {
    "id": "DIz9e9-52r4i"
   },
   "outputs": [],
   "source": [
    "def generate_public_exponent(phi_n):\n",
    "    \"\"\"\n",
    "    Generates a public exponent 'e' for RSA encryption that is coprime with phi_n.\n",
    "    Args:\n",
    "        phi_n (int): The totient of the product of two prime numbers (phi_n = (p-1)*(q-1)).\n",
    "    Returns:\n",
    "        int: A public exponent 'e' that is coprime with phi_n.\n",
    "    \"\"\"\n",
    "    e = random.randint (3, phi_n-1)\n",
    "    while math.gcd(e, phi_n) != 1:\n",
    "        e = random.randint (3, phi_n - 1)\n",
    "\n",
    "    return e"
   ]
  },
  {
   "cell_type": "markdown",
   "metadata": {
    "id": "77ccviUg21vz"
   },
   "source": [
    "#### 5.2.4 Calculate the modular inverse $d$"
   ]
  },
  {
   "cell_type": "code",
   "execution_count": null,
   "metadata": {
    "id": "oniFaoydPkJX"
   },
   "outputs": [],
   "source": [
    "def mod_inverse(e, phi):\n",
    "    \"\"\"\n",
    "    Calculates the modular inverse of 'e' modulo 'phi' using brute force.\n",
    "    Args:\n",
    "        e (int): The number for which to find the modular inverse.\n",
    "        phi (int): The modulus.\n",
    "    Returns:\n",
    "        int: The modular inverse of 'e' modulo 'phi'.\n",
    "    \"\"\"\n",
    "    for d in range (3, phi):\n",
    "        if (d * e) % phi == 1:\n",
    "            return d\n",
    "    raise ValueError (f\"mod_inverse of ({e}, {phi}) does not exist!\")"
   ]
  },
  {
   "cell_type": "markdown",
   "metadata": {
    "id": "uZRhy8JU_vLF"
   },
   "source": [
    "#### 5.2.5 Generate keys"
   ]
  },
  {
   "cell_type": "markdown",
   "metadata": {
    "id": "_5eckNWuQswW"
   },
   "source": [
    "Now let's combine the above functions to generate the public and private keys. The function `generate_keys()` will also return $n$, which will be used in subsequent encryption/decryption."
   ]
  },
  {
   "cell_type": "code",
   "execution_count": null,
   "metadata": {
    "id": "Pj9Zlq3x_xk8"
   },
   "outputs": [],
   "source": [
    "def generate_keys(p = None, q = None, e = None, prime_length_bits = 8):\n",
    "    \"\"\"\n",
    "    Generates RSA public and private keys.\n",
    "    Args:\n",
    "        p (int, optional): The first prime number. If not provided, it will be generated.\n",
    "        q (int, optional): The second prime number. If not provided, it will be generated.\n",
    "        e (int, optional): The public exponent. If not provided, it will be generated.\n",
    "        prime_length_bits (int, optional): The bit length for generating prime numbers. Default is 256.\n",
    "    Returns:\n",
    "        tuple: A tuple containing the public exponent 'e', the private exponent 'd', and the modulus 'n'.\n",
    "    \"\"\"\n",
    "    # Step 1: Generate primes\n",
    "    if ((not p) or (not q)):\n",
    "        p, q = generate_prime(prime_length_bits), generate_prime (prime_length_bits)\n",
    "        if p == q:\n",
    "            q = generate_prime(prime_length_bits)\n",
    "    else:\n",
    "        if (not is_prime(p) or not is_prime(q)):\n",
    "            raise ValueError (f\"p and q must be prime.\")\n",
    "\n",
    "    # Step 2: Generate the product of the primes\n",
    "    n = p * q\n",
    "\n",
    "    # Step 3: Generate φ(n)\n",
    "    phi_n = eulers_totient(p, q)\n",
    "\n",
    "    # Step 4: Generate the public exponent e\n",
    "    if (not e):\n",
    "        e = generate_public_exponent(phi_n)\n",
    "\n",
    "    # Step 5: Calculate the modular inverse d\n",
    "    d = mod_inverse(e, phi_n)\n",
    "\n",
    "    return e, d, n"
   ]
  },
  {
   "cell_type": "markdown",
   "metadata": {
    "id": "6dLoq26y_QR3"
   },
   "source": [
    "#### 5.2.6 Encrypt/Decrypt the message"
   ]
  },
  {
   "cell_type": "code",
   "execution_count": null,
   "metadata": {
    "id": "1FrzjJAE2AOx"
   },
   "outputs": [],
   "source": [
    "def encrypt_message_to_cipher(M, e, n):\n",
    "    \"\"\"\n",
    "    Encrypts a string message using the RSA encryption algorith.\n",
    "    Args:\n",
    "        M (str): The plaintext message to be encrypted.\n",
    "        e (int): The public exponent used for encryption.\n",
    "        n (int): The modulus used for encryption.\n",
    "    Returns:\n",
    "        list: A list of integers representing the encrypted message.\n",
    "    \"\"\"\n",
    "    M_ascii_encoded = [ord(ch) for ch in M]\n",
    "    cipher = [pow(ch, e, n) for ch in M_ascii_encoded]\n",
    "\n",
    "    return cipher\n",
    "\n",
    "def decrypt_cipher_to_message(C, d, n):\n",
    "    \"\"\"\n",
    "    Decrypts an encrypted message using the RSA decryption algorithm.\n",
    "    Args:\n",
    "        C (list): The encrypted message represented as a list of integers.\n",
    "        d (int): The private exponent used for decryption.\n",
    "        n (int): The modulus used for decryption.\n",
    "    Returns:\n",
    "        str: The decrypted plaintext message.\n",
    "    \"\"\"\n",
    "    C_ascii_encoded = [pow(ch, d, n) for ch in C]\n",
    "    M = \"\".join (chr(ch) for ch in C_ascii_encoded)\n",
    "\n",
    "    return M"
   ]
  },
  {
   "cell_type": "markdown",
   "metadata": {
    "id": "GxajZ8QK_YF5"
   },
   "source": [
    "#### 5.2.7 Combining all components"
   ]
  },
  {
   "cell_type": "code",
   "execution_count": null,
   "metadata": {
    "colab": {
     "base_uri": "https://localhost:8080/"
    },
    "executionInfo": {
     "elapsed": 2164,
     "status": "ok",
     "timestamp": 1717946470479,
     "user": {
      "displayName": "Miroslava Ivanova",
      "userId": "04041431527474936486"
     },
     "user_tz": -180
    },
    "id": "ZzUflwhb5bU7",
    "outputId": "3ac6bd90-79e8-4a3e-ea8f-ab5a38d75d76"
   },
   "outputs": [],
   "source": [
    "e, d, n = generate_keys()\n",
    "\n",
    "message = \"A\"\n",
    "encrypted = encrypt_message_to_cipher(message, e, n)\n",
    "decrypted = decrypt_cipher_to_message(encrypted, d, n)\n",
    "\n",
    "print(\"Public Key:  \", e)\n",
    "print(\"Private Key: \", d)\n",
    "print(\"n:           \", n)\n",
    "print(\"Original message:  \", message)\n",
    "print(\"Encrypted by RSA   \", encrypted)\n",
    "print(\"Decrypted message: \", decrypted)"
   ]
  },
  {
   "cell_type": "markdown",
   "metadata": {},
   "source": [
    "#### 5.2.8 Functional tests"
   ]
  },
  {
   "cell_type": "markdown",
   "metadata": {
    "id": "IFOnOgN61IXO"
   },
   "source": [
    "Now is a good time to write some tests so that we know we haven't broken our implementation with future changes of the code."
   ]
  },
  {
   "cell_type": "code",
   "execution_count": null,
   "metadata": {
    "id": "RuVtVPK-1Hqi"
   },
   "outputs": [],
   "source": [
    "def test_decrypting(message):\n",
    "    e, d, n = generate_keys()\n",
    "    encrypted = encrypt_message_to_cipher(message, e, n)\n",
    "    decrypted = decrypt_cipher_to_message(encrypted, d, n)\n",
    "    assert decrypted == message, \"The decrypted message is not the same as the original message!\"\n",
    "\n",
    "def all_functional_tests():\n",
    "    text = Path(\"test_data/file_6000_chars.txt\").read_text()\n",
    "    messages = [\"A\", \"z\", \"AB\", \"abc\", text[:100], text[:200], text[:500]]\n",
    "    for message in messages:\n",
    "        test_decrypting(message)\n",
    "\n",
    "    print(\"\\033[32m ✅ All tests passed \\033[0m\")"
   ]
  },
  {
   "cell_type": "code",
   "execution_count": null,
   "metadata": {
    "colab": {
     "base_uri": "https://localhost:8080/"
    },
    "executionInfo": {
     "elapsed": 3891,
     "status": "ok",
     "timestamp": 1717961529927,
     "user": {
      "displayName": "Miroslava Ivanova",
      "userId": "04041431527474936486"
     },
     "user_tz": -180
    },
    "id": "90dqH__1VeD3",
    "outputId": "839cb2db-fc4f-49ba-f50a-87b1c7a93777"
   },
   "outputs": [],
   "source": [
    "all_functional_tests()"
   ]
  },
  {
   "cell_type": "markdown",
   "metadata": {
    "editable": true,
    "id": "jnDBhClMVdlo",
    "slideshow": {
     "slide_type": ""
    },
    "tags": []
   },
   "source": [
    "### 5.2 Analyzing the Algorithm"
   ]
  },
  {
   "cell_type": "markdown",
   "metadata": {
    "editable": true,
    "id": "1SFvalx6h2gG",
    "slideshow": {
     "slide_type": ""
    },
    "tags": []
   },
   "source": [
    "In this section, we will explore the impact of modifying various parameters involved in the RSA algorithm, particularly focusing on how these changes affect its performance."
   ]
  },
  {
   "cell_type": "markdown",
   "metadata": {
    "editable": true,
    "id": "linaDQXwadXd",
    "slideshow": {
     "slide_type": ""
    },
    "tags": []
   },
   "source": [
    "#### 5.2.1 How the size of $p$ and $q$ affects the time for their generation?"
   ]
  },
  {
   "cell_type": "markdown",
   "metadata": {},
   "source": [
    "##### Explore the time to generate prime numbers of varying lengths using brute force prime generation"
   ]
  },
  {
   "cell_type": "markdown",
   "metadata": {
    "id": "cHo4yCMIpJan"
   },
   "source": [
    "Let's explore the time required to generate prime numbers of varying lengths. We will generate specific primes by constraining the range to the desired prime. The current algorithm in function `generate_prime()` we created above (🔴link to section ) employs a brute-force approach, generating a random number within a specified range and then checking its primality using a brute-force method."
   ]
  },
  {
   "cell_type": "code",
   "execution_count": null,
   "metadata": {},
   "outputs": [],
   "source": [
    "# function `mean_time_msec` is defined in the companion notebook RSA Helper Functions.ipynb\n",
    "def test_prime_generation_performance(n_bits_list, fn_generate_prime):\n",
    "    return [mean_time_msec(5)(fn_generate_prime)(n_bits) for n_bits in n_bits_list]"
   ]
  },
  {
   "attachments": {},
   "cell_type": "markdown",
   "metadata": {
    "id": "4wh55FesmfcD"
   },
   "source": [
    "<div class=\"alert alert-block alert-warning\" style=\"font-size:1.2em\">\n",
    "⚠️The below cell will run for $≈$3 min. If you want to run it set the flag to True. Otherwise you can inspect the output in the screenshot below the cell.\n",
    "</div>"
   ]
  },
  {
   "cell_type": "code",
   "execution_count": null,
   "metadata": {
    "id": "A0q28VoAVu9_"
   },
   "outputs": [],
   "source": [
    "I_UNDERSTAND_THE_CELL_WILL_RUN_LONG_TIME = False\n",
    "\n",
    "if I_UNDERSTAND_THE_CELL_WILL_RUN_LONG_TIME:\n",
    "    n_bits_list = [5, 10, 20, 25, 27, 30]\n",
    "    print(test_prime_generation_performance(n_bits_list, generate_prime))"
   ]
  },
  {
   "attachments": {},
   "cell_type": "markdown",
   "metadata": {
    "id": "LkmNU3W5kthb"
   },
   "source": [
    "Output of the above cell:\n",
    "\n",
    "![generate_primes_brute_force.png](images/generate_primes_brute_force.png)"
   ]
  },
  {
   "cell_type": "markdown",
   "metadata": {
    "id": "Albm0cYNqP_C"
   },
   "source": [
    "Generating a 30 bit prime number using the brute-force method took $≈$ 33 seconds. Clearly a performance hog! Let's try to improve the performance by using another algorithm like the Sieve of Eratosthenes."
   ]
  },
  {
   "cell_type": "markdown",
   "metadata": {},
   "source": [
    "##### Try to improve prime generation by using the Sieve of Eratosthenes"
   ]
  },
  {
   "cell_type": "code",
   "execution_count": null,
   "metadata": {
    "id": "A0q28VoAVu9_"
   },
   "outputs": [],
   "source": [
    "I_UNDERSTAND_THE_CELL_WILL_RUN_LONG_TIME = False\n",
    "\n",
    "# functions `generate_prime_sieve_eratosthenes` and `mean_time_msec` are\n",
    "# defined in the companion notebook RSA Helper Functions.ipynb\n",
    "if I_UNDERSTAND_THE_CELL_WILL_RUN_LONG_TIME:\n",
    "    n_bits_list = [5, 10, 20, 25, 27, 30]\n",
    "    print(test_prime_generation_performance(n_bits_list, generate_prime_sieve_eratosthenes))"
   ]
  },
  {
   "attachments": {},
   "cell_type": "markdown",
   "metadata": {},
   "source": [
    "Output of the above cell:\n",
    "![generate_primes_sieve_er.png](images/generate_primes_sieve_er.png)"
   ]
  },
  {
   "cell_type": "markdown",
   "metadata": {
    "editable": true,
    "slideshow": {
     "slide_type": ""
    },
    "tags": []
   },
   "source": [
    "Generating a 30-bit prime number using the Sieve of Eratosthenes took 221 seconds. This is much worse performance. However, this is expected because the Sieve of Eratosthenes is designed to generate a list of all prime numbers up to a given limit, whereas in this case we only needed one prime number of a specific length. As a result, the algorithm performed more work than was necessary to achieve the desired outcome, leading to the longer execution time."
   ]
  },
  {
   "cell_type": "markdown",
   "metadata": {},
   "source": [
    "##### Another improvement attempt by using the Miller-Rabin Primality test"
   ]
  },
  {
   "cell_type": "markdown",
   "metadata": {
    "editable": true,
    "slideshow": {
     "slide_type": ""
    },
    "tags": []
   },
   "source": [
    "Let's make another attempt to improve the prime generation by using the Miller-Rabin primality test instead of the brute force `is_prime()`. This algorithm can produce false positives that is why it is executed multiple times to increase the probability of a correct result."
   ]
  },
  {
   "cell_type": "code",
   "execution_count": null,
   "metadata": {
    "colab": {
     "base_uri": "https://localhost:8080/"
    },
    "editable": true,
    "executionInfo": {
     "elapsed": 264,
     "status": "ok",
     "timestamp": 1717966683073,
     "user": {
      "displayName": "Miroslava Ivanova",
      "userId": "04041431527474936486"
     },
     "user_tz": -180
    },
    "id": "c6mxNQVTxpJg",
    "outputId": "3ba521fc-1fb9-4c95-f16e-49d8939caca2",
    "slideshow": {
     "slide_type": ""
    },
    "tags": []
   },
   "outputs": [],
   "source": [
    "def generate_prime_miller_rabin(n_bits):\n",
    "    \"\"\"\n",
    "    Generates a prime number of the specified bit length using the Miller-Rabin primality test.\n",
    "    Args:\n",
    "        n_bits (int): The bit length for the prime number to be generated.\n",
    "    Returns:\n",
    "        int: A prime number of the specified bit length.\n",
    "    \"\"\"\n",
    "    while True:\n",
    "        prime = get_random_number(n_bits)\n",
    "        if is_prime_miller_rabin(prime, k=5):\n",
    "            return prime"
   ]
  },
  {
   "cell_type": "code",
   "execution_count": null,
   "metadata": {},
   "outputs": [],
   "source": [
    "I_UNDERSTAND_THE_CELL_WILL_RUN_LONG_TIME = False\n",
    "\n",
    "if I_UNDERSTAND_THE_CELL_WILL_RUN_LONG_TIME:\n",
    "    n_bits_list = [256, 516, 1024, 2048, 4096]\n",
    "    print(test_prime_generation_performance(n_bits_list, generate_prime_miller_rabin))"
   ]
  },
  {
   "attachments": {},
   "cell_type": "markdown",
   "metadata": {},
   "source": [
    "Output of the above cell:\n",
    "![generate_primes_miller_rabin.png](images/generate_primes_miller_rabin.png)"
   ]
  },
  {
   "cell_type": "markdown",
   "metadata": {},
   "source": [
    "We see that even though we saw good times for generation of small and mid-sized primes, even the Miller-Rabin algorithm fails in terms of performance for 2048-bit and larger primes. Let's make one more attempt at improving performance by combining the Sieve or Eratosthenes and the Rabin-Miller primality test. The idea is to generate less prime candidates by first excluding some of the non-primes using the sieve."
   ]
  },
  {
   "cell_type": "markdown",
   "metadata": {},
   "source": [
    "##### Yet another attempt to improve performance by combining the Sieve of Eratosthenes and the Rabin-Miller primality test"
   ]
  },
  {
   "cell_type": "code",
   "execution_count": null,
   "metadata": {},
   "outputs": [],
   "source": [
    "# function `is_prime_miller_rabin` is defined in the companion notebook RSA Helper Functions.ipynb\n",
    "def generate_prime_miller_rabin_sieve_er (n_bits):\n",
    "    \"\"\"\n",
    "    Generates a prime number of the specified bit length using the Sieve of Eratosthenes\n",
    "    for choosing a prime candidate and the Miller-Rabin primality test.\n",
    "    Args:\n",
    "        n_bits (int): The bit length for the prime number to be generated.\n",
    "    Returns:\n",
    "        int: A prime number of the specified bit length.\n",
    "    \"\"\"\n",
    "    while True:\n",
    "        prime_candidate = get_random_number_sieved(n_bits)\n",
    "        if not is_prime_miller_rabin(prime_candidate, k=5):\n",
    "            continue\n",
    "        else:\n",
    "            return prime_candidate"
   ]
  },
  {
   "cell_type": "code",
   "execution_count": null,
   "metadata": {
    "editable": true,
    "slideshow": {
     "slide_type": ""
    },
    "tags": []
   },
   "outputs": [],
   "source": [
    "I_UNDERSTAND_THE_CELL_WILL_RUN_LONG_TIME = False\n",
    "# function `is_prime_miller_rabin_sieve_er` is defined in the companion notebook RSA Helper Functions.ipynb\n",
    "\n",
    "if I_UNDERSTAND_THE_CELL_WILL_RUN_LONG_TIME:\n",
    "    n_bits_list = [256, 516, 1024, 2048, 4096]\n",
    "    print(test_prime_generation_performance(n_bits_list, generate_prime_miller_rabin_sieve_er))"
   ]
  },
  {
   "attachments": {},
   "cell_type": "markdown",
   "metadata": {},
   "source": [
    "Output of the above cell:\n",
    "![generate_primes_rabin_miller_sieve_er.png](images/generate_primes_rabin_miller_sieve_er.png)\n"
   ]
  },
  {
   "cell_type": "markdown",
   "metadata": {},
   "source": [
    "Finally, we have enough information to compare the time for generating prime numbers of different lengths using two algorithms:"
   ]
  },
  {
   "cell_type": "code",
   "execution_count": null,
   "metadata": {},
   "outputs": [],
   "source": [
    "n_bits_list = [256, 516, 1024, 2048, 4096]\n",
    "times_to_generate_prime_mr = [23.704800001723925, 59.54100000235485, 2779.947099999845, 9221.19549999843, 266755.3584999987]\n",
    "times_to_generate_prime_mr_sieve = [17.45451996102929, 61.99582004919648, 398.5925999470055, 4936.42343999818, 27441.254119947553]\n",
    "\n",
    "plt.figure(figsize=(7, 4))\n",
    "plt.plot(n_bits_list, times_to_generate_prime_mr, marker=\"o\", label=\"Rabin-Miller\")\n",
    "plt.plot(n_bits_list, times_to_generate_prime_mr_sieve, marker='o', label=\"Sieve of Eratosthenes and Rabin-Miller\")\n",
    "plt.xlabel(\"Prime Number Length (bits)\")\n",
    "plt.ylabel(\"Time (msec)\")\n",
    "plt.title(\"Generation of Prime Numbers of Different Lengths Using Two Algorithms\")\n",
    "plt.xticks(n_bits_list)\n",
    "plt.legend()\n",
    "plt.grid(True)\n",
    "plt.show()"
   ]
  },
  {
   "cell_type": "markdown",
   "metadata": {},
   "source": [
    "##### Run functional tests with the new generate_prime"
   ]
  },
  {
   "cell_type": "markdown",
   "metadata": {},
   "source": [
    "Now that we've enhanced the efficiency of generating a prime number, let's execute the functional tests again to verify that the core functionality remains \n",
    " uncompromised."
   ]
  },
  {
   "cell_type": "code",
   "execution_count": null,
   "metadata": {},
   "outputs": [],
   "source": [
    "generate_prime = generate_prime_miller_rabin_sieve_er\n",
    "all_functional_tests()"
   ]
  },
  {
   "cell_type": "markdown",
   "metadata": {},
   "source": [
    "#### 5.2.2 What is the effect of RSA key length on the private exponent $d$ generation time?"
   ]
  },
  {
   "cell_type": "markdown",
   "metadata": {},
   "source": [
    "In RSA cryptography, the term \"key size\" refers to the length in bits of the modulus $n$. For instance, if we want a 2048-bit key size, we would need to generate two prime numbers, each approximately 1024 bits long, and then multiply them to obtain the modulus $n$.\n",
    "\n",
    "However, the actual RSA keys used for encryption and decryption are the public exponent $e$ and the private exponent $d$, respectively. The key size (i.e., the bit length of $n$) determines the difficulty of factoring $n$ to derive the private key $d$ from the public key $e$.\n",
    "\n",
    "Now, let's explore how the time required to generate the public/private key pair scales with the key size."
   ]
  },
  {
   "cell_type": "markdown",
   "metadata": {},
   "source": [
    "##### Explore the time to calculate the modular inverse using brute force"
   ]
  },
  {
   "cell_type": "code",
   "execution_count": null,
   "metadata": {},
   "outputs": [],
   "source": [
    "# function `mean_time_msec` is defined in the companion notebook RSA Helper Functions.ipynb\n",
    "def get_time_to_calculate_d(e, key_length, fn_mod_inverse):\n",
    "    \"\"\"\n",
    "    Calculates the time required to compute the modular inverse 'd'\n",
    "    for a given public exponent 'e' and key length.\n",
    "    Args:\n",
    "        e (int): The public exponent 'e'.\n",
    "        key_length (int): The total length of the RSA key.\n",
    "        fn_mod_inverse (function): The function to calculate the modular inverse 'd'.\n",
    "    Returns:\n",
    "        float: The time in milliseconds taken to compute 'd'.\n",
    "    \"\"\"\n",
    "    prime_length = key_length // 2\n",
    "    attempt = 0\n",
    "    time_to_calculate_d = 1\n",
    "    # sometimes the random primes lead to no modular inverse of e so we keep trying with other primes\n",
    "    while attempt < 5:\n",
    "        try:\n",
    "            p, q = generate_prime_miller_rabin_sieve_er(prime_length), generate_prime_miller_rabin_sieve_er(prime_length)\n",
    "            phi_n = eulers_totient(p, q)\n",
    "            time_to_calculate_d = mean_time_msec(5)(fn_mod_inverse)(e, phi_n)\n",
    "            break\n",
    "        except Exception as exception:\n",
    "            attempt += 1\n",
    "            print(exception)\n",
    "    if (attempt >= 5):\n",
    "        raise Exception(\"After 5 tries did not find mod_inverse of {e}\")\n",
    "\n",
    "    return time_to_calculate_d"
   ]
  },
  {
   "cell_type": "code",
   "execution_count": null,
   "metadata": {},
   "outputs": [],
   "source": [
    "e = 65537\n",
    "key_lengths = [16, 18, 20, 22, 24, 26, 28]\n",
    "\n",
    "times_to_calculate_d = [get_time_to_calculate_d(e, key_length, mod_inverse) for key_length in key_lengths]\n",
    "print(*[f\"Key size: {key_bits}, time to calculate d: {round(time_d, 2)} msec\" for key_bits, time_d in zip(key_lengths, times_to_calculate_d)], sep='\\n')"
   ]
  },
  {
   "cell_type": "markdown",
   "metadata": {},
   "source": [
    "When we examine the times required to calculate the inverse, it becomes evident that there is an issue. For a key size of 28 bits, the calculation of the private exponents already takes 10+ seconds. This approach is not scalable for key sizes of 1024 and 2048 bits. \n",
    "The reason behind this poor performance is that in the section \"5.1 Trivial Implementation\" (🔴LINK) we implemented the calculation of the modular inverse using a brute-force method. Let's explore whether utilizing the Extended Euclidean Algorithm can enhance the performance."
   ]
  },
  {
   "cell_type": "markdown",
   "metadata": {},
   "source": [
    "##### Try to improve the calculation of modular inverse by using the Extended Euclidean Algorithm"
   ]
  },
  {
   "cell_type": "code",
   "execution_count": null,
   "metadata": {},
   "outputs": [],
   "source": [
    "def extended_gcd(a, b):\n",
    "    \"\"\"The extended Euclidean algorithm.\"\"\"\n",
    "    if a == 0:\n",
    "        return b, 0, 1\n",
    "    else:\n",
    "        gcd, x1, y1 = extended_gcd(b % a, a)\n",
    "        x = y1 - (b // a) * x1\n",
    "        y = x1\n",
    "        return gcd, x, y\n",
    "\n",
    "def mod_inverse_extended_euclidean(e, phi):\n",
    "    \"\"\"Compute the modular inverse of e modulo phi.\"\"\"\n",
    "    gcd, x, y = extended_gcd(e, phi)\n",
    "    if gcd != 1:\n",
    "        raise ValueError(f\"No modular inverse for e={e} and phi={phi}\")\n",
    "    else:\n",
    "        return x % phi\n"
   ]
  },
  {
   "cell_type": "code",
   "execution_count": null,
   "metadata": {},
   "outputs": [],
   "source": [
    "key_lengths = [16, 18, 20, 22, 24, 26, 28]\n",
    "times_to_calculate_d = [get_time_to_calculate_d(e, key_length, mod_inverse_extended_euclidean) for key_length in key_lengths]\n",
    "print(*[f\"Key size: {key_bits}, time to calculate d: {round(time_d, 4)} msec\" for key_bits, time_d in zip(key_lengths, times_to_calculate_d)], sep='\\n')"
   ]
  },
  {
   "cell_type": "markdown",
   "metadata": {},
   "source": [
    "With notable progress achieved, we can now explore the utilization of more extended key lengths."
   ]
  },
  {
   "cell_type": "code",
   "execution_count": null,
   "metadata": {},
   "outputs": [],
   "source": [
    "e = 65537\n",
    "key_lengths = [256, 512, 1024, 2048, 3072, 4096]\n",
    "times_to_calculate_d = [get_time_to_calculate_d(e, key_length, mod_inverse_extended_euclidean) for key_length in key_lengths]\n",
    "print(*[f\"Key size: {key_bits}, time to calculate d: {round(time_d, 4)} msec\" for key_bits, time_d in zip(key_lengths, times_to_calculate_d)], sep='\\n')"
   ]
  },
  {
   "cell_type": "markdown",
   "metadata": {},
   "source": [
    "From the output we see that while the key size increases by a factor of 16, the time to calculate $d$ increases sub-linearly only by a factor of 2. Furthermore, $d$ calculation times of a microseconds shows that the Extended Euclidean algorithm is very efficient."
   ]
  },
  {
   "cell_type": "markdown",
   "metadata": {},
   "source": [
    "##### Run functional tests with the new mod_inverse"
   ]
  },
  {
   "cell_type": "code",
   "execution_count": null,
   "metadata": {},
   "outputs": [],
   "source": [
    "mod_inverse = mod_inverse_extended_euclidean\n",
    "all_functional_tests()"
   ]
  },
  {
   "cell_type": "markdown",
   "metadata": {},
   "source": [
    "#### 5.2.3 What is the impact of $e$'s length on $d$'s generation time?"
   ]
  },
  {
   "cell_type": "markdown",
   "metadata": {},
   "source": [
    "Now that we know the modular inverse calculation is very fast even for 4096 bit keys we can run a combined performance test for various lengths of the public exponent $e$ and RSA key lengths. "
   ]
  },
  {
   "cell_type": "markdown",
   "metadata": {},
   "source": [
    "##### Performance test for various lengths of $e$"
   ]
  },
  {
   "cell_type": "markdown",
   "metadata": {},
   "source": [
    "The value of $e$ needs to satisfy two conditions: it must be greater than 1 and less than $\\varphi(n)$, and it must be coprime with $\\varphi(n)$, meaning their greatest common divisor is 1. By choosing the maximum length for $e$ to be equal to that of $p$, we ensure that these conditions are met. For the performance test let's choose 4 values of $e$ depending on the prime number length (which is about one half of the RSA key length): a quarter the length of the prime, one half, tree quarters and the length of the prime."
   ]
  },
  {
   "cell_type": "code",
   "execution_count": null,
   "metadata": {},
   "outputs": [],
   "source": [
    "# this cell runs for ~ 55 seconds\n",
    "key_lengths = [1024, 2048, 3072, 4096]\n",
    "\n",
    "def generate_exponents(bit_length, fn_generate_prime):\n",
    "    \"\"\"\n",
    "    Generate 🔴three prime numbers of sizes approximately 1/3, 2/3, and the full bit length of the prime.\n",
    "    Args:\n",
    "        bit_size (int): The desired bit size of the largest prime number.\n",
    "    Returns:\n",
    "        tuple: A tuple containing three prime numbers of sizes approximately 1/3, 2/3, and the full bit size.\n",
    "    \"\"\"\n",
    "\n",
    "    prime1 = fn_generate_prime(bit_length // 4)      # 1/4\n",
    "    prime2 = fn_generate_prime(bit_length // 2)      # 1/2\n",
    "    prime3 = fn_generate_prime(3*(bit_length // 4))  # 3/4\n",
    "    prime4 = fn_generate_prime(bit_length)           # 1\n",
    "\n",
    "    return prime1, prime2, prime3, prime4\n",
    "\n",
    "performance_per_key_length = []\n",
    "for key_length in key_lengths:\n",
    "    prime_length = key_length//2\n",
    "    exponent_length_bits = [prime_length // 4, prime_length // 2, 3*(prime_length // 4), prime_length]\n",
    "    exponents = generate_exponents(prime_length, generate_prime_miller_rabin_sieve_er)\n",
    "\n",
    "    times_to_calculate_d = [get_time_to_calculate_d(e, key_length, mod_inverse_extended_euclidean) for e in exponents]\n",
    "    performance_per_key_length.append(times_to_calculate_d)"
   ]
  },
  {
   "cell_type": "markdown",
   "metadata": {},
   "source": [
    "##### Plot the results"
   ]
  },
  {
   "cell_type": "code",
   "execution_count": null,
   "metadata": {},
   "outputs": [],
   "source": [
    "e_lengths = [1/4, 1/2, 3/4, 1]\n",
    "\n",
    "plt.figure(figsize=(10, 6))\n",
    "plt.plot(e_lengths, performance_per_key_length[0], marker='o', color=\"green\", label=f'Key Length=1024')\n",
    "plt.plot(e_lengths, performance_per_key_length[1], marker='o', color=\"orange\", label=f'Key Length=2048')\n",
    "plt.plot(e_lengths, performance_per_key_length[2], marker='o', color = \"blue\", label=f'Key Length=3072')\n",
    "plt.plot(e_lengths, performance_per_key_length[3], marker='o', color = \"purple\", label=f'Key Length=4096')\n",
    "plt.xlabel(\"Length of $e$ as fraction of key length (bits)\")\n",
    "plt.ylabel(\"Time to calculate $d$ (msec)\")\n",
    "plt.title('Time to Calculate $d$ for Different Key Lengths')\n",
    "plt.xticks(e_lengths, [\"1/4 key_length\", \"1/2 key_length\", \"3/4 key_length\", \"key_length\"])\n",
    "plt.legend()\n",
    "plt.grid(True)\n",
    "plt.show()"
   ]
  },
  {
   "cell_type": "markdown",
   "metadata": {},
   "source": [
    "#### 5.2.4 How does the message block length affect the performance of RSA encryption and decryption?"
   ]
  },
  {
   "cell_type": "markdown",
   "metadata": {},
   "source": [
    "Previously, we discussed that RSA encryption operates on block chunks (🔴LINK TO SECTION), and the size of these blocks depends on the length of $n$. However, in the trivial implementation (🔴LINK TO SECTION) we provided earlier, we divided the message into individual characters. Let's now explore how dividing the message into larger chunks would impact the time required for encryption and decryption."
   ]
  },
  {
   "cell_type": "markdown",
   "metadata": {},
   "source": [
    "##### Divide message into blocks before encrypting"
   ]
  },
  {
   "cell_type": "code",
   "execution_count": null,
   "metadata": {},
   "outputs": [],
   "source": [
    "def string_to_ascii_number(string):\n",
    "    \"\"\"\n",
    "    ASCII encode each character of a string\n",
    "    Args:\n",
    "        string (str): The string to be converted.\n",
    "    Returns:\n",
    "        number: The ASCII representation of the input string as a single large number.\n",
    "    \"\"\"\n",
    "    ascii_nums = [ord(char) for char in string]\n",
    "    # Convert each number to a string with leading zeros if it's a 2-digit number\n",
    "    ascii_strings = [f\"{num:03d}\" if num < 100 else str(num) for num in ascii_nums]\n",
    "    number_as_string = \"\".join(ascii_strings)\n",
    "    return int(number_as_string)\n",
    "\n",
    "def ascii_number_to_string(number):\n",
    "    \"\"\"\n",
    "    Divide a number into tripples of digits and treat each tripple as an ASCII encoded character\n",
    "    Args:\n",
    "        number (int): The number to be converted.\n",
    "    Returns:\n",
    "        str: The corresponding string representation of the number.\n",
    "    \"\"\"\n",
    "    number_as_string = str(number)\n",
    "    if (len(number_as_string) % 3 != 0):\n",
    "        number_as_string = \"0\" + number_as_string\n",
    "    # Split number_as_string into groups of 3 characters\n",
    "    ascii_chars = [number_as_string[i:i+3] for i in range(0, len(number_as_string), 3)]\n",
    "    chars = [chr(int(char)) for char in ascii_chars]\n",
    "    return \"\".join(chars)\n",
    "\n",
    "def number_of_bytes(n):\n",
    "    \"\"\"Calculates the number of bytes required to represent an integer `n`\"\"\"\n",
    "    if n == 0:\n",
    "        return 1  # Even 0 takes up one byte\n",
    "    bit_length = n.bit_length()\n",
    "    byte_length = (bit_length + 7) // 8  # Divide by 8 and round up\n",
    "    return byte_length\n",
    "\n",
    "def message_to_blocks(message, block_length):\n",
    "    \"\"\"Split a string into blocks of specified length\"\"\"\n",
    "    return [message[i:i + block_length] for i in range(0, len(message), block_length)]\n",
    "\n",
    "def encrypt_block(block, e, n):\n",
    "    \"\"\"Encrypts a single block of text using RSA encryption\"\"\"\n",
    "    ascii_block = string_to_ascii_number(block)\n",
    "    return pow(ascii_block, e, n)\n",
    "\n",
    "def decrypt_block(encrypted_block, d, n):\n",
    "    \"\"\"Decrypts a single block of text using RSA encryption\"\"\"\n",
    "    ascii_block = pow(encrypted_block, d, n)\n",
    "    return ascii_number_to_string(ascii_block)\n",
    "\n",
    "def message_to_encrypted_blocks(message, e, n):\n",
    "    \"\"\"\n",
    "    Encrypts a message by splitting it into blocks and encrypting\n",
    "    each block using RSA encryption.\n",
    "    Args:\n",
    "        message (str): The message to be encrypted.\n",
    "        e (int): The public exponent used for encryption.\n",
    "        n (int): The modulus used for encryption.\n",
    "    Returns:\n",
    "        list: A list of encrypted blocks (integers).\n",
    "    \"\"\"\n",
    "    block_length_bytes = number_of_bytes(n) // 2\n",
    "    blocks = message_to_blocks(message, block_length_bytes)\n",
    "    encrypted_blocks = [encrypt_block(block, e, n) for block in blocks]\n",
    "    return encrypted_blocks\n",
    "\n",
    "def encrypted_blocks_to_message(encrypted_blocks, d, n):\n",
    "    \"\"\"\n",
    "    Decrypts encrypted blocks using RSA decryption and concatenates\n",
    "    them into the original message.\n",
    "    Args:\n",
    "        encrypted_blocks (list): A list of encrypted blocks (integers).\n",
    "        d (int): The private exponent used for decryption.\n",
    "        n (int): The modulus used for decryption.\n",
    "    Returns:\n",
    "        str: The decrypted original message.\n",
    "    \"\"\"\n",
    "    decrypted_blocks = [decrypt_block(block, d, n) for block in encrypted_blocks]\n",
    "    decrypted_message = \"\".join(decrypted_blocks)\n",
    "    return decrypted_message"
   ]
  },
  {
   "cell_type": "code",
   "execution_count": null,
   "metadata": {},
   "outputs": [],
   "source": [
    "long_text = Path(\"test_data/a_tale_of_two_cities_760000_chars.txt\").read_text()\n",
    "message = long_text[:10000]\n",
    "\n",
    "e, d, n = generate_keys(prime_length_bits = 1024)\n",
    "encrypted_message = message_to_encrypted_blocks(message, e, n)\n",
    "decrypted_message = encrypted_blocks_to_message(encrypted_message, d, n)\n",
    "\n",
    "assert(message == decrypted_message)"
   ]
  },
  {
   "cell_type": "markdown",
   "metadata": {},
   "source": [
    "##### Performance test for encrypting/decrypting messages of various lengths"
   ]
  },
  {
   "cell_type": "code",
   "execution_count": null,
   "metadata": {
    "colab": {
     "base_uri": "https://localhost:8080/",
     "height": 619
    },
    "executionInfo": {
     "elapsed": 141428,
     "status": "ok",
     "timestamp": 1717953393859,
     "user": {
      "displayName": "Miroslava Ivanova",
      "userId": "04041431527474936486"
     },
     "user_tz": -180
    },
    "id": "deeXE6YzbJm3",
    "outputId": "af01a1b0-ffbf-49b5-ff3e-9b8485b0316b"
   },
   "outputs": [],
   "source": [
    "# this cell runs for ~1min\n",
    "long_text = Path(\"test_data/a_tale_of_two_cities_760000_chars.txt\").read_text()\n",
    "e, d, n = generate_keys(prime_length_bits = 1024)\n",
    "message_lengths = [1000, 2000, 3000, 5000, 10000, 20000]\n",
    "input_messages = [long_text[:n] for n in message_lengths]\n",
    "encrypted_messages = [message_to_encrypted_blocks(message, e, n) for message in input_messages]\n",
    "\n",
    "times_to_encrypt = [mean_time_msec(3)(message_to_encrypted_blocks)(message, e, n) for message in input_messages]\n",
    "times_to_decrypt = [mean_time_msec(3)(encrypted_blocks_to_message)(encrypted_message, d, n) for encrypted_message in encrypted_messages]\n",
    "\n",
    "print(times_to_encrypt)\n",
    "print(times_to_decrypt)"
   ]
  },
  {
   "cell_type": "markdown",
   "metadata": {},
   "source": [
    "##### Plot the results"
   ]
  },
  {
   "cell_type": "code",
   "execution_count": null,
   "metadata": {
    "colab": {
     "base_uri": "https://localhost:8080/",
     "height": 619
    },
    "executionInfo": {
     "elapsed": 141428,
     "status": "ok",
     "timestamp": 1717953393859,
     "user": {
      "displayName": "Miroslava Ivanova",
      "userId": "04041431527474936486"
     },
     "user_tz": -180
    },
    "id": "deeXE6YzbJm3",
    "outputId": "af01a1b0-ffbf-49b5-ff3e-9b8485b0316b"
   },
   "outputs": [],
   "source": [
    "plt.figure(figsize=(10, 6))\n",
    "plt.plot(message_lengths, times_to_encrypt, marker='o', label='Encryption Time')\n",
    "plt.plot(message_lengths, times_to_decrypt, marker='o', label='Decryption Time')\n",
    "\n",
    "plt.xlabel(\"Message Length (characters)\")\n",
    "plt.ylabel(\"Time (msec)\")\n",
    "plt.title(\"Encryption and Decryption Times for Different Message Lengths\")\n",
    "plt.xticks(message_lengths)\n",
    "plt.legend()\n",
    "plt.grid(True)\n",
    "plt.show()"
   ]
  },
  {
   "cell_type": "markdown",
   "metadata": {},
   "source": [
    "The graph illustrates that the time required for encryption and decryption does not differ. Additionally, the plot shows a linear increase in the time taken as the length of the input message increases. Moving forward, we can incorporate the size of the cryptographic key as an additional variable in the performance testing to analyze how it impacts the encryption and decryption times."
   ]
  },
  {
   "cell_type": "markdown",
   "metadata": {},
   "source": [
    "#### 5.2.5 How does key size impact encryption and decryption times?"
   ]
  },
  {
   "cell_type": "markdown",
   "metadata": {},
   "source": [
    "##### Performance test"
   ]
  },
  {
   "cell_type": "code",
   "execution_count": null,
   "metadata": {},
   "outputs": [],
   "source": [
    "message = long_text[:10000]\n",
    "key_lengths = [256, 512, 1024, 2048]\n",
    "\n",
    "# list of tuples (e, d, n)\n",
    "rsa_params = [generate_keys(prime_length_bits = key_length // 2) for key_length in key_lengths]\n",
    "encrypted_messages = [message_to_encrypted_blocks(message, e, n) for (e, d, n) in rsa_params]\n",
    "times_to_encrypt = [mean_time_msec(1)(message_to_encrypted_blocks)(message, e, n) for (e, d, n) in rsa_params]\n",
    "times_to_decrypt = [mean_time_msec(1)(encrypted_blocks_to_message)(encrypted_message, d, n) for encrypted_message, (e, d, n) in zip(encrypted_messages, rsa_params)]\n",
    "\n",
    "print(times_to_encrypt)\n",
    "print(times_to_decrypt)"
   ]
  },
  {
   "cell_type": "markdown",
   "metadata": {},
   "source": [
    "##### Plot the results"
   ]
  },
  {
   "cell_type": "code",
   "execution_count": null,
   "metadata": {},
   "outputs": [],
   "source": [
    "plt.figure(figsize=(10, 6))\n",
    "plt.plot(key_lengths, times_to_encrypt, marker='o', label='Encryption Time')\n",
    "plt.plot(key_lengths, times_to_decrypt, marker='o', label='Decryption Time')\n",
    "plt.xlabel(\"Key Length (bits)\")\n",
    "plt.ylabel(\"Time (msec)\")\n",
    "plt.title(\"Encryption and Decryption Times for Different Key Lengths\")\n",
    "plt.xticks(key_lengths)\n",
    "plt.legend()\n",
    "plt.grid(True)\n",
    "plt.show()"
   ]
  },
  {
   "cell_type": "markdown",
   "metadata": {},
   "source": [
    "The data shows that as the length of the cryptographic key becomes larger, the time required for the encryption process increases exponentially. Additionally, consistent with the previous graph, we observe that the times taken for encryption and decryption operations are equivalent."
   ]
  },
  {
   "cell_type": "markdown",
   "metadata": {},
   "source": [
    "##### Functional tests with the new encrypt/decrypt functions"
   ]
  },
  {
   "cell_type": "markdown",
   "metadata": {},
   "source": [
    "After modifying the encryption and decryption functions to handle message segmentation into blocks, we need to execute the functional tests to verify that the whole RSA existing functionality still works as expected."
   ]
  },
  {
   "cell_type": "code",
   "execution_count": null,
   "metadata": {},
   "outputs": [],
   "source": [
    "encrypt_message_to_cipher = message_to_encrypted_blocks\n",
    "decrypt_cipher_to_message = encrypted_blocks_to_message\n",
    "all_functional_tests()"
   ]
  }
 ],
 "metadata": {
  "colab": {
   "authorship_tag": "ABX9TyO3+6s4+YPmWbuSP0wmSXP2",
   "provenance": [],
   "toc_visible": true
  },
  "jpcodetoc-autonumbering": false,
  "jpcodetoc-showcode": false,
  "jpcodetoc-showmarkdowntxt": false,
  "jpcodetoc-showtags": false,
  "kernelspec": {
   "display_name": "Python 3 (ipykernel)",
   "language": "python",
   "name": "python3"
  },
  "language_info": {
   "codemirror_mode": {
    "name": "ipython",
    "version": 3
   },
   "file_extension": ".py",
   "mimetype": "text/x-python",
   "name": "python",
   "nbconvert_exporter": "python",
   "pygments_lexer": "ipython3",
   "version": "3.12.3"
  }
 },
 "nbformat": 4,
 "nbformat_minor": 4
}
