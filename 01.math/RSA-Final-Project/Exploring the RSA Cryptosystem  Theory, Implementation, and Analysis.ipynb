{
 "cells": [
  {
   "cell_type": "markdown",
   "metadata": {
    "id": "Ixk57pni91Y0"
   },
   "source": [
    "# Exploring the RSA Cryptosystem: Theory, Implementation, and Analysis"
   ]
  },
  {
   "cell_type": "markdown",
   "metadata": {
    "colab_type": "toc",
    "id": "y9hJPihYN8jb"
   },
   "source": [
    ">[Exploring the RSA Cryptosystem: Theory, Implementation, and Analysis](#scrollTo=Ixk57pni91Y0)\n",
    "\n",
    ">>[1 Introduction to RSA](#scrollTo=cgIDZYA_-IOS)\n",
    "\n",
    ">>>[1.1 Background and Historical Context](#scrollTo=8Rb148BY_0xY)\n",
    "\n",
    ">>>>[1.1.1 Brief overview of cryptography and its importance](#scrollTo=8Rb148BY_0xY)\n",
    "\n",
    ">>>>[1.1.2 The development of public-key cryptography](#scrollTo=8Rb148BY_0xY)\n",
    "\n",
    ">>>[1.2 RSA: The Seminal Public-Key Cryptosystem](#scrollTo=8Rb148BY_0xY)\n",
    "\n",
    ">>>>[1.2.1 Development and Significance of RSA (Rivest-Shamir-Adleman)](#scrollTo=8Rb148BY_0xY)\n",
    "\n",
    ">>>>[1.2.2 The fundamental principles of RSA](#scrollTo=8Rb148BY_0xY)\n",
    "\n",
    ">>>[1.3 Key Concepts in RSA](#scrollTo=8Rb148BY_0xY)\n",
    "\n",
    ">>>>[1.3.1 Asymmetric Cryptography](#scrollTo=8Rb148BY_0xY)\n",
    "\n",
    ">>>>[1.3.2 Public-key and private-key pairs](#scrollTo=8Rb148BY_0xY)\n",
    "\n",
    ">>>>[1.3.3 The role of prime numbers and modular arithmetic](#scrollTo=8Rb148BY_0xY)\n",
    "\n",
    ">>[2 Overview of the Mathematical Concepts Behind RSA](#scrollTo=bHf_98pU_bSI)\n",
    "\n",
    ">>>[2.1 Prime and Coprime Numbers](#scrollTo=8df5h2mBKMAE)\n",
    "\n",
    ">>>[2.2 Euler's Totient Function](#scrollTo=Sp2Vqut15SRv)\n",
    "\n",
    ">>>[2.3 Extended Euclidean Algorithm](#scrollTo=8T8DqS176APa)\n",
    "\n",
    ">>>[2.4 Modular Arithmetic](#scrollTo=QqCVb8eM6Ecx)\n",
    "\n",
    ">>>[2.5 Fermat's Little Theorem](#scrollTo=8r_JZoF_6Hl_)\n",
    "\n",
    ">>>[2.6 Chinese Remainder Theorem](#scrollTo=Py24ttB56JGw)\n",
    "\n",
    ">>[3 In-Depth Look at the RSA Algorithm](#scrollTo=EeE4gyz-_dgV)\n",
    "\n",
    ">>>[3.1. Key Generation Process](#scrollTo=xGPrMyFDJz6z)\n",
    "\n",
    ">>>>[Step 1: Choose two random large, prime, distinct numbers (p and q)](#scrollTo=3dZ2aGlEyI87)\n",
    "\n",
    ">>>>[Step 2: Calculate the product n = pq 🍎MATH🍎](#scrollTo=79io4MQbyI6a)\n",
    "\n",
    ">>>>[Step 3: Calculate the totient of n: φ(n) = (p-1)(q-1)](#scrollTo=3iWtjaY4yI35)\n",
    "\n",
    ">>>>[Step 4: Choose the Public Exponent (e) 🍎choose e not coprime?🍎](#scrollTo=2sS2swaCyI1R)\n",
    "\n",
    ">>>>[Step 5: Determine the Private Exponent (d)](#scrollTo=B1EQVkL5yIyr)\n",
    "\n",
    ">>>[3.2 Encryption and Decryption Process](#scrollTo=QBluKI3QhDvC)\n",
    "\n",
    ">>>>[3.2.1 Encryption](#scrollTo=G4rOb5OfhDbL)\n",
    "\n",
    ">>>>>[Step 1: Convert the original message to number representation](#scrollTo=5jQy5zL5hDQ6)\n",
    "\n",
    ">>>>>[Step 2: Split the message to blocks](#scrollTo=rHLn_DWhkMUE)\n",
    "\n",
    ">>>>>[Step 3: Apply a padding scheme](#scrollTo=yTv4XmahkMNP)\n",
    "\n",
    ">>>>>>[PKCS#1 v1.5 Padding](#scrollTo=k3fHigiMz5OV)\n",
    "\n",
    ">>>>>>[Optimal Asymmetric Encryption Padding (OAEP)](#scrollTo=f-aY4EPf0eaw)\n",
    "\n",
    ">>>>>[Step 5: Encode each block](#scrollTo=CLKdV8NPkMEH)\n",
    "\n",
    ">>>>[3.2.2 Decryption](#scrollTo=L9zy192_hC8-)\n",
    "\n",
    ">>>[3.3 Example](#scrollTo=hxV1aOFEhOi8)\n",
    "\n",
    ">>[4 Mathematical Proof of RSA Correctness](#scrollTo=YarDcNM-_dzv)\n",
    "\n",
    ">>>[4.1 Given RSA data](#scrollTo=h2zaB3_iS79J)\n",
    "\n",
    ">>>[4.2 Tools](#scrollTo=WpJFTZITTUqI)\n",
    "\n",
    ">>>[4.3 Proof](#scrollTo=1bDLuYDQTRii)\n",
    "\n",
    ">>[5 Implementing the RSA Algorithm In Python](#scrollTo=7wafw7jGN3-B)\n",
    "\n",
    ">>[6 Exploring the Security of RSA](#scrollTo=qWbfmJoN_eB8)\n",
    "\n",
    ">>[7 Known Vulnerabilities and Attacks](#scrollTo=yP_0_ZQh_eSB)\n",
    "\n",
    ">>[8 Try To Attack the Cryptosystem](#scrollTo=V1aLYubw_nxJ)\n",
    "\n",
    ">>[9 Mitigation Tactics](#scrollTo=rs5iEJu5_oPH)\n",
    "\n",
    ">>[10 Evaluate the Performance of RSA. Discuss factors like encryption/decryption speed, memory usage, and the impact of key length on performance](#scrollTo=xqKyvrd2_ocu)\n",
    "\n",
    ">>[11 Real-World Applications: Discuss real-world applications of RSA](#scrollTo=Q95kkpI3UWWw)\n",
    "\n"
   ]
  },
  {
   "cell_type": "markdown",
   "metadata": {
    "id": "cgIDZYA_-IOS"
   },
   "source": [
    "## 1 Introduction to RSA"
   ]
  },
  {
   "cell_type": "markdown",
   "metadata": {
    "id": "8Rb148BY_0xY"
   },
   "source": [
    "### 1.1 Background and Historical Context\n",
    "#### 1.1.1 Brief overview of cryptography and its importance\n",
    "#### 1.1.2 The development of public-key cryptography\n",
    "\n",
    "### 1.2 RSA: The Seminal Public-Key Cryptosystem\n",
    "#### 1.2.1 Development and Significance of RSA (Rivest-Shamir-Adleman)\n",
    "#### 1.2.2 The fundamental principles of RSA\n",
    "\n",
    "### 1.3 Key Concepts in RSA\n",
    "#### 1.3.1 Asymmetric Cryptography\n",
    "#### 1.3.2 Public-key and private-key pairs\n",
    "#### 1.3.3 The role of prime numbers and modular arithmetic\n",
    "\n",
    "\n",
    "\n",
    "\n",
    "\n",
    "\n",
    "\n"
   ]
  },
  {
   "cell_type": "markdown",
   "metadata": {
    "id": "bHf_98pU_bSI"
   },
   "source": [
    "## 2 Overview of the Mathematical Concepts Behind RSA"
   ]
  },
  {
   "cell_type": "markdown",
   "metadata": {
    "id": "InWPOl-9483F"
   },
   "source": [
    "This section will provide a brief overview of the mathematical concepts that are essential to understand before delving into the details of the RSA algorithm. These concepts will be examined individually now, but they will be referenced later, particularly when discussing the calculation of various numbers involved in the RSA algorithm and proving its correctness.\n",
    "\n",
    "* **Prime and coprime numbers:** Central to the security of RSA.\n",
    "* **Euler's totient function:** Used to determine the private exponent during key generation.\n",
    "* **Extended Euclidean algorithm:** Part of the key generation process to find the decryption exponent **d** 🍎.\n",
    "* **Modular arithmetic:** Essential for proving the correctness of RSA.\n",
    "* **Fermat's little theorem:** Useful for proving the correctness of RSA.\n",
    "* **Chinese Remainder theorem:** Also useful for proving the correctness of RSA."
   ]
  },
  {
   "cell_type": "markdown",
   "metadata": {
    "id": "8df5h2mBKMAE"
   },
   "source": [
    "### 2.1 Prime and Coprime Numbers\n",
    "\n",
    "\n",
    "\n",
    "\n",
    "\n",
    "\n",
    "\n"
   ]
  },
  {
   "cell_type": "markdown",
   "metadata": {
    "id": "ZpvFNrD25Tli"
   },
   "source": [
    "**Prime numbers** are defined as integers greater than 1 that can only be divided by 1 and themselves. Their significance in cryptography, particularly in the RSA algorithm, stems from their special properties. When two large prime numbers are multiplied, the product has a key feature: it is incredibly hard to factor back into the original primes. This difficulty, called **integer factorization**, is computationally demanding and is the foundation of RSA's security, ensuring that encrypted messages remain secure without the correct key.🔴SRC: https://en.wikipedia.org/wiki/Integer_factorization\n",
    "\n",
    "Additionally, a pair of numbers are considered **coprime** if the largest number that exactly divides both of them is 1. These numbers themselves don't have to be prime. For example, 8 and 9 are coprime, but 8 and 10 are not, because they are both divisible by 2."
   ]
  },
  {
   "cell_type": "markdown",
   "metadata": {
    "id": "Sp2Vqut15SRv"
   },
   "source": [
    "### 2.2 Euler's Totient Function\n",
    "\n",
    "\n"
   ]
  },
  {
   "cell_type": "markdown",
   "metadata": {
    "id": "YbPEd4xL6Kc5"
   },
   "source": [
    "🍎 Euler's totient function, denoted as $\\varphi(n)$, counts the number of integers up to $n$ that are relatively prime to $n$. For RSA, ϕ(n) is used in key generation and is calculated as $\\varphi(pq)=(p-1)(q-1)$, where $p$ and $q$ are prime numbers.\n",
    "\n",
    "The totient function has several important properties:\n",
    "\n",
    "* If $p$ is a prime number, $\\varphi(p) = p - 1$.\n",
    "* If $p$ and $q$ are distinct prime numbers, $\\varphi(pq) = (p - 1)(q - 1)$.\n",
    "* If $a$ and $b$ are coprime (i.e., $gcd(a, b) = 1$), then $\\varphi(ab) = \\varphi(a) \\varphi(b)$."
   ]
  },
  {
   "attachments": {},
   "cell_type": "markdown",
   "metadata": {
    "id": "8T8DqS176APa"
   },
   "source": [
    "### 2.3 Extended Euclidean Algorithm\n",
    "🍎\n",
    "The **Euclidean Algorithm** is used to find the greatest common divisor between two numbers $a$ and $b$.\n",
    "\n",
    "The **Extended Euclidean Algorithm** builds upon the Euclidean algorithm to also express the greatest common divisor as an integer linear combination of the original two numbers: $gcd(a, b) = ax+by$, where $a, b, x, y \\in \\mathbb{Z}$.\n",
    "\n",
    "Let's first explain the **Euclidean algorithm**. To determine the greatest common divisor (GCD) of two numbers, we can use the principle that the GCD of two numbers also divides their difference. The process involves dividing the larger number by the smaller number, then replacing the larger number with the remainder. This step is repeated until the remainder is zero. The last non-zero remainder in this sequence is the GCD.\n",
    "\n",
    "Here is an example:\\\n",
    "To find the $gcd(222, 97)$:\n",
    "\n",
    "**Step 1:** $222 = 2.(97) + (28)$ \\\n",
    "**Step 2:** $97 = 3.(28) + (13)$ \\\n",
    "**Step 3:** $28 = 2.(13) + (2)$ \\\n",
    "**Step 4:** $13 = 6.(2) + (1)$ \\\n",
    "**Step 5:** $2 = 1.(2) + 0$\n",
    "\n",
    "At Step 5 we reached 0, so the greatest common divisor must the remainder on the previous row, namely 1.\n",
    "\n",
    "Now, we can show the **Extended Euclidean Algorithm** to build upon the above logic to also express the remainder 1 as a linear combination of 222 and 97:\n",
    "\n",
    "$222x+97y = 1$\n",
    "\n",
    "We can this by starting from the step at which we found the GCD and going backwards, repeatedly replace each quotient with the number and quotient from the previous step.\n",
    "\n",
    "**Back substitute in step 4:** Replace $(2)$ with its representation from Step 3:\n",
    "\n",
    "$ \\begin{align*}\n",
    "1 &= (13) - 6(2) \\\\\n",
    "  &= (13) - 6[(28) - 2(13)] \n",
    "\\end{align*} $\n",
    "\n",
    "then we simplify the expression with respect to $(13)$ and $(28)$:\n",
    "\n",
    "$ \\begin{align*}\n",
    "  &= (13) - 6(28) + 12(13) \\\\\n",
    "  &= 13(13) - 6(28)\n",
    "\\end{align*} $\n",
    "\n",
    "**Back substitute in step 3:** Replace $(13)$ with its representation from Step 2:\n",
    "\n",
    "$ \\begin{align*}\n",
    "1 &= 13(13) - 6(28) \\\\\n",
    "  &= 13[(97) - 3(28)] - 6(28)\n",
    "\\end{align*} $\n",
    "\n",
    "then simplify with respect to $(28)$ and $(97)$:\n",
    "\n",
    "$ \\begin{align*}\n",
    "  &= 13(97) - 39(28) - 6(28) \\\\\n",
    "  &= 13(97) - 45(28)\n",
    "\\end{align*} $\n",
    "\n",
    "**Back substitute in step 2:** Replace $(28)$ with its representation from Step 1:\n",
    "\n",
    "$ \\begin{align*}\n",
    "1 &= 13(97) - 45(28) \\\\\n",
    "  &= 13(97) - 45[(222) - 2(97)]\n",
    "\\end{align*} $\n",
    "\n",
    "then simplify with respect to $(97)$ and $(222)$:\n",
    "\n",
    "$ \\begin{align*}\n",
    "  &= 13(97) - 45(222) + 90(97) \\\\\n",
    "  &= 103(97) - 45(222)\n",
    "\\end{align*} $\n",
    "\n",
    "\n",
    "Therefore, $x = 103, y = -45$."
   ]
  },
  {
   "cell_type": "markdown",
   "metadata": {
    "id": "QqCVb8eM6Ecx"
   },
   "source": [
    "### 2.4 Modular Arithmetic"
   ]
  },
  {
   "cell_type": "markdown",
   "metadata": {
    "id": "LCDiIQfY6M1h"
   },
   "source": [
    "🍎 Modular arithmetic is a branch of mathematics that focuses on integers and the remainders left over after division. These remainders are represented using the congruence relation symbol \"$\\equiv$\". For instance, consider a modulus of 5: in this case, $7 \\equiv 2 \\pmod 5$ because when 7 is divided by 5, the remainder is 2.\n",
    "\n",
    "In addition to dealing with remainders, modular arithmetic also encompasses the concept of additive and multiplicative inverses. In the RSA encryption and decryption algorithm, the multiplicative inverse plays a crucial role. The additive inverse of an integer $a$ modulo $n$ is another integer $b$ such that when $a$ and $b$ are added together, the result is congruent to 0 modulo $n$: $a + b \\equiv 0 \\pmod n$. Similarly, the multiplicative inverse of $a$ modulo $n$, often termed as the modular inverse, is an integer $b$ such that the product of $a$ and $b$ yields a remainder of 1 when divided by $n$: $ ab \\equiv 1 \\pmod n $."
   ]
  },
  {
   "cell_type": "markdown",
   "metadata": {
    "id": "8r_JZoF_6Hl_"
   },
   "source": [
    "### 2.5 Fermat's Little Theorem"
   ]
  },
  {
   "cell_type": "markdown",
   "metadata": {
    "id": "oxMsh4Wg6MFf"
   },
   "source": [
    "Fermat's Little Theorem 🔴SOURCE   https://en.wikipedia.org/wiki/Fermat%27s_little_theorem🔴states that if $p$ is a prime number and $a$ is an integer not divisible by $p$, then $a^{p-1} \\equiv 1 \\pmod p$. This theorem is fundamental in the RSA algorithm because it helps in proving why RSA works, particularly in the context of modular exponentiation."
   ]
  },
  {
   "cell_type": "markdown",
   "metadata": {
    "id": "Py24ttB56JGw"
   },
   "source": [
    "### 2.6 Chinese Remainder Theorem"
   ]
  },
  {
   "cell_type": "markdown",
   "metadata": {
    "id": "VAodEqEx6N9S"
   },
   "source": [
    "**Given:**\n",
    "\n",
    "$ \\begin{align*}\n",
    "X &\\equiv a_1 \\pmod{m_1} \\\\\n",
    "X &\\equiv a_2 \\pmod{m_2} \\\\\n",
    "&\\vdots \\\\\n",
    "X &\\equiv a_n \\pmod{m_n}\n",
    "\\end{align*} $\n",
    "\n",
    "**and** $\\gcd(m_1, m_2 \\dots m_n) = 1$, \\\n",
    "**then** there exists a unique solution modulo $m_1m_2$\n",
    "\n",
    "$X = (a_1M_1M_1^{-1} + a_2M_2M_2^{-1} + \\dots + a_nM_nM_n^{-1}) mod(M)$\n",
    "\n",
    "**where**\n",
    "\n",
    "$ \\begin{align*}\n",
    "M  &= a_1 a_2 \\dots a_n \\\\\n",
    "M_1 &= \\frac {M} {m_1} \\\\\n",
    "M_2 &= \\frac{M}{m_2} \\\\\n",
    "&\\vdots \\\\\n",
    "M_n &= \\frac{M}{m_n}\n",
    "\\end{align*} $\n",
    "\n",
    "\n",
    "\n",
    "**and** $M_1^{-1}, M_2^{-1} \\dots M_n^{-1}$ are the modular multiplicative inverses of $M_1, M_2 \\dots M_n$, \\\n",
    "**such that**\n",
    "\n",
    "$ \\begin{align*}\n",
    "&M_1M_1^{-1} \\equiv 1\\pmod{m_1} \\\\\n",
    "&M_2M_2^{-1} \\equiv 1\\pmod{m_2} \\\\\n",
    "&\\vdots \\\\\n",
    "&M_nM_n^{-1} \\equiv 1\\pmod{m_n}\n",
    "\\end{align*} $\n",
    "\n",
    "**Example:**\n",
    "\n",
    "$ \\begin{align*}\n",
    "X ≡ 2 \\pmod{3} \\\\\n",
    "X ≡ 3 \\pmod{5} \\\\\n",
    "X ≡ 2 \\pmod{7} \n",
    "\\end{align*} $\n",
    "\n",
    "$M = a_1 . a_2 . a_3 = 3 . 5 . 7 = 105$\n",
    "\n",
    "$ \\begin{align*}\n",
    "M_1 = \\frac {105}{3} = 35 \\\\\n",
    "M_2 = \\frac {105}{5} = 21 \\\\\n",
    "M_3 = \\frac {105}{7} = 15\n",
    "\\end{align*} $\n",
    "\n",
    "$ \\begin{align*} \n",
    "&M_1M_1^{-1} = 1 \\pmod{m_1} \\\\\n",
    "&35M_1^{-1} = 1 \\pmod{3}\n",
    "\\end{align*} $\n",
    "\n",
    "To solve for $M_1^{-1}$, either start testing with values 1, 2, 3, etc, or for large values use the Extended Euclidean Algorithm. 🔴\n",
    "\n",
    "Using simple substitution and testing: \\\n",
    "$35 . 1 = 1 \\pmod{3}$ - is the remainder of 35 when divided by 3 = 1? No \\\n",
    "$35 . 2 = 1 \\pmod{3}$ - is the remainder of 35 when divided by 3 = 1? Yes\n",
    "\n",
    "So $M_1^{-1} = 2$.\n",
    "\n",
    "Analogically,\n",
    "\n",
    "$ \\begin{align*}\n",
    "&M_2^{-1} = 1 \\\\\n",
    "&M_3^{-1} = 1 \\\\\n",
    "\\\\\n",
    "&X = (a_1M_1M_1^{-1} + a_2M_2M_2^{-1} + \\dots + a_nM_nM_n^{-1}) \\mod(M) \\\\\n",
    "&X = (2 . 35 . 2 + 3 . 21. 1 + \\dots + 2 . 15 . 1) \\mod(105) \\\\\n",
    "&X = (72 + 63 + 31) \\mod(105) \\\\\n",
    "&X = 233 \\mod(105) = 23\n",
    "\\end{align*} $"
   ]
  },
  {
   "cell_type": "markdown",
   "metadata": {
    "id": "EeE4gyz-_dgV"
   },
   "source": [
    "## 3 In-Depth Look at the RSA Algorithm"
   ]
  },
  {
   "cell_type": "markdown",
   "metadata": {
    "id": "xGPrMyFDJz6z"
   },
   "source": [
    "### 3.1. Key Generation Process"
   ]
  },
  {
   "cell_type": "markdown",
   "metadata": {
    "id": "6kRMEK68hqjg"
   },
   "source": [
    "Here we'll explore how the RSA algorithm chooses the public and private key pair."
   ]
  },
  {
   "cell_type": "markdown",
   "metadata": {
    "editable": true,
    "id": "3dZ2aGlEyI87",
    "slideshow": {
     "slide_type": ""
    },
    "tags": []
   },
   "source": [
    "#### Step 1: Choose two random large, prime, distinct numbers $p$ and $q$\n",
    "\n",
    "🍎Why prime? How large?\n",
    "\n",
    "The first step in RSA key generation is to choose two distinct large prime numbers, $p$ and $q$. While the primes must be distinct, this requirement is not explicitly mentioned in the original authors' paper. 🍎SOURCE\n",
    "\n",
    "There are multiple ways to choose a random number. Some of them are quite complex and could be a subject of a paper by themselves. Here, we will quickly outline some commonly used algorithms: 🍎SOURCE🍎\n",
    "\n",
    "**Trial Division:** A basic method that tests divisibility of a number by all smaller prime numbers up to its square root. It is inefficient for large numbers due to the extensive number of divisions required.\n",
    "\n",
    "**Sieve of Eratosthenes:** Efficient for finding all prime numbers up to a given limit but not suitable for generating very large primes directly. However, it is useful for finding smaller primes to use in other algorithms.\n",
    "\n",
    "**Fermat's Primality Test**: A probabilistic test based on Fermat's Little Theorem: if $a^{p-1} \\equiv 1 \\pmod{p}$ for some random $a$, $p$ is likely prime. It can produce false positives (Carmichael numbers).\n",
    "\n",
    "**Miller-Rabin Primality Test:** A probabilistic test that improves upon Fermat's test by checking multiple bases. If a number passes several rounds of this test, it is highly likely to be prime. It is widely used due to its balance of efficiency and accuracy.\n",
    "\n",
    "**Elliptic Curve Primality Proving (ECPP):** A probabilistic algorithm that uses properties of elliptic curves. It is efficient and provides a certificate of primality, making it suitable for generating large prime numbers.\n",
    "\n",
    "🔴Note: Two of those algorithms are explored further in a later section."
   ]
  },
  {
   "cell_type": "markdown",
   "metadata": {
    "id": "79io4MQbyI6a"
   },
   "source": [
    "#### Step 2: Calculate the product $n = pq$\n",
    "Calculate $n$ by multiplying $p$ and q. The number n is part of both the public and private keys and serves as the modulus for both encryption and decryption."
   ]
  },
  {
   "cell_type": "markdown",
   "metadata": {
    "id": "3iWtjaY4yI35"
   },
   "source": [
    "#### Step 3: Calculate the totient of n: $\\varphi(n) = (p-1)(q-1)$\n",
    "\n",
    "The totient of n, denoted as $\\varphi(n)$, is calculated as $(p - 1)(q - 1)$. This value is kept secret and is used to determine the private exponent during key generation."
   ]
  },
  {
   "cell_type": "markdown",
   "metadata": {
    "id": "2sS2swaCyI1R"
   },
   "source": [
    "#### Step 4: Choose the Public Exponent $e$ 🍎choose e not coprime?🍎\n",
    "\n",
    "The public exponent e is chosen next. This value must be an integer such that $ 1 < e < \\varphi(n)$ and $gcd(e, \\varphi(n)) = 1$, meaning $e$ and $\\varphi(n)$ are coprime. Common values for e, like 3, 17, or 65537, are often used because they provide a good balance between encryption efficiency and security. These values are chosen to be small relative to $\\varphi(n)$ to speed up the encryption process. 🍎SOURCE🍎"
   ]
  },
  {
   "cell_type": "markdown",
   "metadata": {
    "id": "B1EQVkL5yIyr"
   },
   "source": [
    "#### Step 5: Determine the Private Exponent $d$\n",
    "\n",
    "The private exponent $d$ is calculated using the Extended Euclidean algorithm, such that $(ed) mod (\\varphi(n)) = 1$. This value is part of the private key and is used for decryption."
   ]
  },
  {
   "cell_type": "markdown",
   "metadata": {
    "id": "QBluKI3QhDvC"
   },
   "source": [
    "### 3.2 Encryption and Decryption Process"
   ]
  },
  {
   "cell_type": "markdown",
   "metadata": {
    "id": "1Rub3WNThDnA"
   },
   "source": [
    "In RSA encryption, the plaintext message M is transformed into ciphertext C by applying the recipient's public key and a mathematical function. The decryption process reverses this operation, converting the ciphertext back into plaintext using the recipient's private key. This method guarantees that only the intended recipient can decipher the encrypted message, ensuring confidentiality and security of the communication."
   ]
  },
  {
   "cell_type": "markdown",
   "metadata": {
    "id": "G4rOb5OfhDbL"
   },
   "source": [
    "#### 3.2.1 Encryption\n"
   ]
  },
  {
   "cell_type": "markdown",
   "metadata": {
    "id": "5jQy5zL5hDQ6"
   },
   "source": [
    "##### Step 1: Convert the original message to number representation\n"
   ]
  },
  {
   "cell_type": "markdown",
   "metadata": {
    "id": "9QrOlmytkh4E"
   },
   "source": [
    "The RSA algorithm operates on numerical values rather than directly on text data. Therefore, any textual input needs to be converted into a numerical representation. This conversion process is typically accomplished by employing a standardized encoding scheme, such as ASCII (American Standard Code for Information Interchange).\n",
    "\n",
    "**Example:** Let\"s consider the word \"hello\" as the input text. To apply the RSA algorithm to this text, we first need to convert it into a numerical representation using the ASCII encoding scheme.\n",
    "\n",
    "In ASCII, each character is assigned a unique numerical value between 0 and 127. The character \"h\" has the ASCII value of 104, \"e\" is 101, \"l\" is 108, and \"o\" is 111.\n",
    "\n",
    "So, the word \"hello\" would be converted into the sequence of numbers: 104, 101, 108, 108, 111.\n",
    "\n",
    "After the encryption or decryption process is complete, the resulting numerical values can be converted back into text form using the same ASCII encoding scheme."
   ]
  },
  {
   "cell_type": "markdown",
   "metadata": {
    "id": "rHLn_DWhkMUE"
   },
   "source": [
    "##### Step 2: Split the message to blocks"
   ]
  },
  {
   "cell_type": "markdown",
   "metadata": {
    "id": "WiTUs3Ask85y"
   },
   "source": [
    "When encrypting a message longer than $n$, it must be divided into smaller blocks to ensure each block is a number less than $n$.\n",
    "\n",
    "* Determine block length - the size of each block, in bits, should be at least one bit less than the bit length of $n$. For example, if $n$ is a 1024-bit number, each block can be up to 1023 bits long.\n",
    "\n",
    "* Convert the message to a binary or numerical representation.\n",
    "\n",
    "* Split this representation into chunks where each chunk's numerical value is less than $n$."
   ]
  },
  {
   "cell_type": "markdown",
   "metadata": {
    "id": "yTv4XmahkMNP"
   },
   "source": [
    "##### Step 3: Apply a padding scheme"
   ]
  },
  {
   "cell_type": "markdown",
   "metadata": {
    "id": "1x8g0PYdyqiB"
   },
   "source": [
    "Most of the time the chunk of data we're working with won't perfectly match the block size. Padding helps make sure each block has the right length. It also includes some randomness to boost security.\n",
    "\n",
    "🍎SOURCE🍎 https://medium.com/asecuritysite-when-bob-met-alice/so-how-does-padding-work-in-rsa-6b34a123ca1f\n",
    "\n",
    "RSA encryption uses several padding schemes, with two of the most popular being PKCS#1 v1.5 and Optimal Asymmetric Encryption Padding (OAEP)."
   ]
  },
  {
   "cell_type": "markdown",
   "metadata": {
    "id": "k3fHigiMz5OV"
   },
   "source": [
    "**PKCS#1 v1.5 Padding**"
   ]
  },
  {
   "cell_type": "markdown",
   "metadata": {
    "id": "hKb-JUQWz5q-"
   },
   "source": [
    "This is one of the most common padding methods for RSA encryption. Here's how it works:\n",
    "\n",
    "* Determine Block Size: For example, if $n$ is a 2048-bit number, the block size is 256 bytes (2048 bits / 8 bits per byte).\n",
    "\n",
    "* Format the Message:\n",
    "\n",
    "    * Start with the block type, which is 0x00 0x02 for encryption.\n",
    "\n",
    "    * Add a random padding string (non-zero bytes) so that the total length of the padding plus the message equals the block size.\n",
    "\n",
    "    * Append the original message.\n",
    "\n",
    "So, the format looks like this: \\\n",
    "`0x00 | 0x02 | text{padding string} | 0x00 | text{message}`\n",
    "\n",
    "\n",
    "For instance, if the message is \"HELLO\" (5 bytes), the padded message for a 256-byte block might look like this:\n",
    "\n",
    "`00 | 02 | text{random bytes} | 00 | 104 101 108 108 111 `  🔴todo: make the same with the other example🔴\n",
    "\n",
    "\n",
    "\n"
   ]
  },
  {
   "cell_type": "markdown",
   "metadata": {
    "id": "f-aY4EPf0eaw"
   },
   "source": [
    "**Optimal Asymmetric Encryption Padding (OAEP)**"
   ]
  },
  {
   "cell_type": "markdown",
   "metadata": {
    "id": "bQtfX83m0eSp"
   },
   "source": [
    "This is a more secure padding scheme that provides better protection against chosen plaintext attacks. Here's a basic rundown:\n",
    "\n",
    "**Encryption**:\n",
    "* Combine the original message $M$ with a padding string $PS$ to create a data block $DB$.\n",
    "* Generate a random seed.\n",
    "* Apply two hash functions to the seed and $DB$ to create masked values.\n",
    "* Combine the masked values to form the encoded message.\n",
    "\n",
    "🔴The OAEP encoded message has two parts:\n",
    "$ \\text{masked seed} \\ | \\ \\text{masked data block} $\n",
    "\n",
    "**Decryption**:\n",
    "* Split the encoded message back into the masked seed and masked data block.\n",
    "* Reverse the hash functions to retrieve the original message."
   ]
  },
  {
   "cell_type": "markdown",
   "metadata": {
    "id": "CLKdV8NPkMEH"
   },
   "source": [
    "##### Step 4: Encrypt each block"
   ]
  },
  {
   "cell_type": "markdown",
   "metadata": {
    "id": "kl56EkB85mTP"
   },
   "source": [
    "Each block is individually encrypted using the public key $ (e, n) $.\n",
    "\n",
    "The encryption process follows the formula\n",
    "$ C = M^e \\mod n $"
   ]
  },
  {
   "cell_type": "markdown",
   "metadata": {
    "id": "L9zy192_hC8-"
   },
   "source": [
    "#### 3.2.2 Decryption\n"
   ]
  },
  {
   "cell_type": "markdown",
   "metadata": {},
   "source": [
    "To decrypt and retrieve the original message $M$, use the formula:\n",
    "$ M = C^d \\mod n $. Refer to the section below🔴 for a mathematical proof explaining why this encryption and decryption process is effective."
   ]
  },
  {
   "cell_type": "markdown",
   "metadata": {
    "id": "hxV1aOFEhOi8"
   },
   "source": [
    "### 3.3 Example of the Whole RSA Process"
   ]
  },
  {
   "cell_type": "markdown",
   "metadata": {
    "id": "rYJ8J3Uj6gw9"
   },
   "source": [
    "For demonstration purposes the chosen numbers will be small but bear in mind that in reality these two prime numbers should be substantially large.\n",
    "\n",
    "**Step 1:** Choose two prime numbers $p$ and $q$:\n",
    "\n",
    "$ p = 7, q = 11 $ \n",
    "\n",
    "**Step 2:** Calculate the product of $p$ and $q$:\n",
    "\n",
    "$ \\begin{align*}\n",
    "n &= p * q  \\\\\n",
    "  &= 7 * 11 \\\\\n",
    "  &= 77      \n",
    "\\end{align*} $\n",
    "\n",
    "**Step 3:** Calculate the totient of n: <br>\n",
    "\n",
    "$ \\begin{align*}\n",
    "\\varphi(n) &= (p - 1) * (q - 1)  \\\\\n",
    "           &= (7 - 1) * (11 - 1) \\\\\n",
    "           &= 6 * 10             \\\\\n",
    "           &= 60                 \n",
    "\\end{align*} $ \n",
    "\n",
    "**Step 4:** Choose the Public Exponent:\n",
    "\n",
    "Choose $e$ such that $1 < e < \\varphi(n)$ and $gcd(e, \\varphi(n)) = 1$.\n",
    "Possible values of $e$: $7, 11, 13, 17, 19, 23, 29, 31, 37, 41, 43, 47, 49, 53, 59$.\n",
    "\n",
    "Let's choose $e = 53$.\n",
    "\n",
    "**Step 5:** Determine the Private Exponent $d$ such that $ed \\mod \\varphi(n) = 1$.\n",
    "\n",
    "Start with:\n",
    "$ed \\mod \\varphi(n) = 1$\n",
    "\n",
    "and replace the known variables: $53d \\mod 60 = 1$.\n",
    "\n",
    "Apply the Extended Euclidean Algorithm:\n",
    "\n",
    "$ \\begin{align*}\n",
    "& 53d = 60x + 1       \\\\\n",
    "& \\Rightarrow 60x + 53d = 1    \\\\\n",
    "& \\Rightarrow 60 = 1(53) + (7) \\\\\n",
    "& \\Rightarrow 53 = 7(7) + (4)  \\\\\n",
    "& \\Rightarrow 7 = 1(4) + (3)   \\\\\n",
    "& \\Rightarrow 4 = 1(3) + (1)   \\\\\n",
    "& \\Rightarrow 3 = 3(1) + 0     \n",
    "\\end{align*} $ \n",
    "\n",
    "Now perform back substitution:\n",
    "\n",
    "$ 1 = (4) - (3) $ \n",
    "\n",
    "Replace $(3)$:\n",
    "\n",
    "$ \\begin{align*}\n",
    "1 &= (4) - [(7) - (4)] \\\\\n",
    "  &= (4) - (7) + (4)   \\\\\n",
    "  &= 2(4) - (7)\n",
    "\\end{align*} $\n",
    "\n",
    "Replace $(4)$:\n",
    "\n",
    "$ \\begin{align*}\n",
    "1 &= 2[(53) - 7(7)] - (7) \\\\\n",
    "  &= 2(53) - 14(7) - (7)  \\\\\n",
    "  &= 2(53) - 15(7)\n",
    "\\end{align*} $ \n",
    "\n",
    "Replace $(7)$:\n",
    "\n",
    "$ \\begin{align*}\n",
    "1 &= 2(53) - 15[(60) - (53)] \\\\\n",
    "  &= 2(53) - 15(60) + 15(53) \\\\\n",
    "  &= 17(53) - 15(60)\n",
    "\\end{align*} $ \n",
    "\n",
    "Therefore, $d = 17$. And we can ignore the value of $x$ since it is not relevant for RSA (but in the name of completeness, it is $-15$)\n",
    "\n",
    "🔴 Also add example of encrypting and decrypting"
   ]
  },
  {
   "cell_type": "markdown",
   "metadata": {
    "id": "YarDcNM-_dzv"
   },
   "source": [
    "## 4 Mathematical Proof of RSA Correctness"
   ]
  },
  {
   "cell_type": "markdown",
   "metadata": {
    "id": "0pm1tKk7TdQj"
   },
   "source": [
    "RSA correctness means that given an original message, after encryption and subsequent decryption using RSA, we retrieve the same original message. Note that this is not a mathematical proof of the algorithm's security but of its data correctness. This is what we will prove in this section.\n",
    "\n",
    "To do that let's summarize the variables used by the algorithm and their properties, as well as some mathematical theorems and laws that will be helpful in our proof."
   ]
  },
  {
   "cell_type": "markdown",
   "metadata": {
    "id": "h2zaB3_iS79J"
   },
   "source": [
    "### 4.1 Given RSA data\n"
   ]
  },
  {
   "cell_type": "markdown",
   "metadata": {
    "id": "8PTO4XeJTZGY"
   },
   "source": [
    "Let:\n",
    "\n",
    "* $p, q$ are large prime numbers                 <span style=\"float: right;\">(1)</span>\n",
    "* $n = pq$                                       <span style=\"float: right;\">(2)</span>\n",
    "* The totient of $n$ $\\varphi(n) = (p-1)(q-1)$   <span style=\"float: right;\">(3)</span>\n",
    "* The public exponent $e$ is such that: $1 < e < \\varphi(n)$ and $gcd(e, \\varphi(n)) = 1$\n",
    "                                                 <span style=\"float: right;\">(4)</span>\n",
    "* The decryption exponent $d$ is the multiplicative inverse of $e$: $ed \\mod (\\varphi(n))=1$, equivalent to $ed \\equiv 1 \\pmod{\\varphi (n)}$\n",
    "                                                 <span style=\"float: right;\">(5)</span>\n",
    "* Encryption process: $M^e \\equiv C \\pmod n$     <span style=\"float: right;\">(6)</span>\n",
    "* Decryption process: $C^d \\equiv M \\pmod n$     <span style=\"float: right;\">(7)</span>"
   ]
  },
  {
   "cell_type": "markdown",
   "metadata": {
    "id": "WpJFTZITTUqI"
   },
   "source": [
    "### 4.2 Tools"
   ]
  },
  {
   "cell_type": "markdown",
   "metadata": {
    "id": "8Ue2ZEcKTZwn"
   },
   "source": [
    "**Properties of congruences in modular arithmetic**: 🍎**SOURCE**🍎 https://en.wikipedia.org/wiki/Modular_arithmetic\n",
    "\n",
    "* Reflexivity: \\\n",
    "    $a \\equiv a \\pmod m $               <span style=\"float: right;\">(8a)</span>\n",
    "* Symmetry:\\\n",
    "  If $a \\equiv b \\pmod m$, \\\n",
    "  then $ b \\equiv a \\pmod m $ <span style=\"float: right;\">(8b)</span>\n",
    "* Compatibility with exponentiation: \\\n",
    "  If $ a \\equiv b \\pmod m$, \\\n",
    "  then $a^k \\equiv b^k \\pmod m$ \\\n",
    "  where $x \\in \\mathbb{Z}_{\\geq 0}$      \n",
    "\n",
    "**Fermat's Little Theorem** 🍎**SOURCE**🍎 https://en.wikipedia.org/wiki/Fermat%27s_little_theorem\n",
    "\n",
    "If $p$ is prime \\\n",
    "and $a \\in \\mathbb{Z}$, \\\n",
    "then: $ a^p \\equiv a \\pmod{p} $\n",
    "\n",
    "and it's special case \\\n",
    "if $gcd(a, p) = 1$ \\\n",
    "then $a^{p-1} \\equiv 1 \\pmod p$ <span style=\"float: right;\">(8c)</span>\n",
    "\n",
    "\n",
    "**Chinese Remainder Theorem** 🍎**SOURCE**🍎 https://crypto.stanford.edu/pbc/notes/numbertheory/crt.html\n",
    "\n",
    "Let $p, q$ be coprime. Then the system of equations\n",
    "\n",
    "$ x = a \\pmod p $\\\n",
    "$ x = b \\pmod q $\n",
    "\n",
    "has a unique solution for $x$ modulo $pq$. <span style=\"float: right;\">(10)</span>"
   ]
  },
  {
   "cell_type": "markdown",
   "metadata": {
    "id": "1bDLuYDQTRii"
   },
   "source": [
    "### 4.3 Proof"
   ]
  },
  {
   "cell_type": "markdown",
   "metadata": {
    "id": "dry6xtW-Ta8f"
   },
   "source": [
    "Starting with the encryption formula from (6): \\\n",
    "$M^e \\equiv C \\pmod n$\n",
    "\n",
    "if we apply some modular arithmetic rules (8b) and (8c) we get: \\\n",
    "$M^{ed} \\equiv C^d \\equiv M \\pmod n$     <span style=\"float: right;\">(11)</span>\n",
    "\n",
    "So let's prove that claim \\\n",
    "$M^{ed} \\equiv M \\pmod n$.\n",
    "\n",
    "First, as an aside, if we consider the product of $e$ and $d$ that was defined in (5) as \\\n",
    "$ed \\equiv 1 \\pmod{\\varphi (n)}$,\n",
    "\n",
    "this essentially means that $ed$ divided by $\\varphi(n)$ gives a remainder of 1, or in other words,\\\n",
    "$ed = 1 + k(\\varphi(n)$ for $k \\in \\mathbb{Z}$ \\\n",
    "$\\Rightarrow$ from (3): $ed = 1 + k(p-1)(q-1)$         <span style=\"float: right;\">(12)</span>\n",
    "\n",
    "Going back to the main thought, if we take $ed$ from (12) and replace it in (11) we get:\\\n",
    "$M^{ed} \\equiv M^{1+k(p-1)(q-1)} $ \\\n",
    "$ \\Rightarrow M^{ed} \\equiv M^1 M^{k(p-1)(q-1)}$      <span style=\"float: right;\">(13)</span> \n",
    "\n",
    "We can apply the special case of Fermat's Little Theorem (9) to get \\\n",
    "$M^{ed} \\equiv M^{1}M^{k(q-1)} \\equiv M \\pmod p$ \\\n",
    "$ \\Rightarrow M^{ed} \\equiv M \\pmod p$                <span style=\"float: right;\">(14)</span>\n",
    "\n",
    "We can do the analogical calculation but doing it for $\\pmod q$:\\\n",
    "$M^{ed} \\equiv M^{1}M^{k(p-1)(q-1)} $ \\\n",
    "$ \\Rightarrow M^{ed} \\equiv M^{1}M^{k(p-1)} \\equiv M \\pmod q $ \\\n",
    "$ \\Rightarrow M^{ed} \\equiv M \\pmod p $               <span style=\"float: right;\">(15)</span>\n",
    "\n",
    "So from (14) and (15) we know, that $M^{ed}$ is a solution to the system of congruences \\\n",
    "$ X \\equiv M \\pmod p $ \\\n",
    "$ X \\equiv M \\pmod q $\n",
    "\n",
    "Also, according to the reflexivity property of congruences in modular arithmetic (8a) we know that \\\n",
    "$ M \\equiv M \\pmod p $                               <span style=\"float: right;\">(16)</span>\n",
    "\n",
    "From the Chinese Remainder Theorem, we know that a system of congruences where the moduli are coprime the solutions to this system are unique modulo the product of the primes. In other words, from (14), (15) and (16): \\\n",
    "$ M^{ed} \\equiv M \\pmod n $\n",
    "\n",
    "Which was exactly what we wanted to prove."
   ]
  },
  {
   "cell_type": "markdown",
   "metadata": {
    "id": "7wafw7jGN3-B"
   },
   "source": [
    "## 5 Implementing the RSA Algorithm In Python"
   ]
  },
  {
   "cell_type": "markdown",
   "metadata": {
    "id": "e0vbZg1mN9xr"
   },
   "source": [
    "Now let's see how the theoretical principles are applied in practice by demonstrating the RSA algorithm's key generation, encryption and decryption processes.\n",
    "\n",
    "As with the mathematical example, we will start with small numbers in order to let our brains grasp the algorithm itself, because the brain cannot deal with large numbers."
   ]
  },
  {
   "cell_type": "markdown",
   "metadata": {
    "id": "Q95kkpI3UWWw"
   },
   "source": [
    "## 6 Real-World Applications: Discuss real-world applications of RSA"
   ]
  },
  {
   "cell_type": "markdown",
   "metadata": {
    "id": "S41kzi8lOV7N"
   },
   "source": []
  }
 ],
 "metadata": {
  "colab": {
   "authorship_tag": "ABX9TyPi3VOCCRKhkIveACfJ33Ym",
   "collapsed_sections": [
    "cgIDZYA_-IOS",
    "bHf_98pU_bSI",
    "YarDcNM-_dzv"
   ],
   "provenance": []
  },
  "kernelspec": {
   "display_name": "Python 3 (ipykernel)",
   "language": "python",
   "name": "python3"
  },
  "language_info": {
   "codemirror_mode": {
    "name": "ipython",
    "version": 3
   },
   "file_extension": ".py",
   "mimetype": "text/x-python",
   "name": "python",
   "nbconvert_exporter": "python",
   "pygments_lexer": "ipython3",
   "version": "3.12.3"
  }
 },
 "nbformat": 4,
 "nbformat_minor": 4
}
