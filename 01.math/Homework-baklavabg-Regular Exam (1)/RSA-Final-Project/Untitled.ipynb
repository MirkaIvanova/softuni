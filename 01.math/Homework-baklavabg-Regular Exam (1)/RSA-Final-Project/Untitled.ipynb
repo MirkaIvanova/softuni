{
 "cells": [
  {
   "cell_type": "code",
   "execution_count": 1,
   "id": "8fdb7f53-fcea-42b0-b108-ea4d4af445e7",
   "metadata": {},
   "outputs": [
    {
     "name": "stdout",
     "output_type": "stream",
     "text": [
      "The probability that in a group of 25 people, at least 3 share a birthday is approximately 1.000000\n"
     ]
    }
   ],
   "source": [
    "from math import factorial\n",
    "\n",
    "def prob_three_same_birthday(n):\n",
    "    # Probability of all different birthdays\n",
    "    p_all_diff = factorial(365) // factorial(365 - n) // 365**n\n",
    "\n",
    "    # Probability of exactly one pair\n",
    "    p_one_pair = (\n",
    "        factorial(n) // (factorial(2) * factorial(n - 2))  # C(n,2)\n",
    "        * 365  # choose the day for the pair\n",
    "        * factorial(364) // factorial(364 - (n-2))  # remaining (n-2) people all different\n",
    "        // 365**n\n",
    "    )\n",
    "\n",
    "    # Probability of at least three people sharing a birthday\n",
    "    p_at_least_three = 1 - (p_all_diff + p_one_pair)\n",
    "\n",
    "    return p_at_least_three\n",
    "\n",
    "# Calculate for 25 people\n",
    "result = prob_three_same_birthday(25)\n",
    "print(f\"The probability that in a group of 25 people, at least 3 share a birthday is approximately {result:.6f}\")"
   ]
  }
 ],
 "metadata": {
  "kernelspec": {
   "display_name": "Python 3 (ipykernel)",
   "language": "python",
   "name": "python3"
  },
  "language_info": {
   "codemirror_mode": {
    "name": "ipython",
    "version": 3
   },
   "file_extension": ".py",
   "mimetype": "text/x-python",
   "name": "python",
   "nbconvert_exporter": "python",
   "pygments_lexer": "ipython3",
   "version": "3.12.3"
  }
 },
 "nbformat": 4,
 "nbformat_minor": 5
}
