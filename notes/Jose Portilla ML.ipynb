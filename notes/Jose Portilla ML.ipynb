{
 "cells": [
  {
   "cell_type": "markdown",
   "metadata": {
    "id": "VF2i_4A0Q-FU"
   },
   "source": [
    "# Google Colab in VSCode"
   ]
  },
  {
   "cell_type": "markdown",
   "metadata": {
    "id": "wQoFs8TZVk8j"
   },
   "source": [
    "# Numpy"
   ]
  },
  {
   "cell_type": "code",
   "execution_count": null,
   "metadata": {
    "id": "ExMqT4WdVi38"
   },
   "outputs": [],
   "source": [
    "import numpy as np"
   ]
  },
  {
   "cell_type": "code",
   "execution_count": null,
   "metadata": {
    "colab": {
     "base_uri": "https://localhost:8080/"
    },
    "executionInfo": {
     "elapsed": 267,
     "status": "ok",
     "timestamp": 1710611090611,
     "user": {
      "displayName": "Miroslava Ivanova",
      "userId": "04041431527474936486"
     },
     "user_tz": -120
    },
    "id": "tH8q1_RaWRdN",
    "outputId": "7eba575e-1936-493c-a265-ae7f8276500f"
   },
   "outputs": [
    {
     "name": "stdout",
     "output_type": "stream",
     "text": [
      "<class 'numpy.ndarray'>\n",
      "[1 2 3]\n"
     ]
    },
    {
     "data": {
      "text/plain": [
       "array([1, 2, 3])"
      ]
     },
     "execution_count": 14,
     "metadata": {},
     "output_type": "execute_result"
    }
   ],
   "source": [
    "# create numpy array from a list\n",
    "mylist = [1,2,3]\n",
    "nparray1 = np.array(mylist)\n",
    "\n",
    "print(type(nparray1))\n",
    "print(nparray1)\n",
    "nparray1"
   ]
  },
  {
   "cell_type": "code",
   "execution_count": null,
   "metadata": {
    "id": "wCG_9Q-HW11a"
   },
   "outputs": [],
   "source": [
    "# create numpy array from a list of lists\n",
    "my_matrix = [[1,2,3], [4,5,6], [7,8,9]]\n",
    "nparray2 = np.array(my_matrix)\n",
    "\n",
    "print(type(my_matrix))\n",
    "print(my_matrix)\n",
    "print(type(nparray2))\n",
    "print(nparray2)"
   ]
  },
  {
   "cell_type": "code",
   "execution_count": null,
   "metadata": {
    "colab": {
     "base_uri": "https://localhost:8080/"
    },
    "executionInfo": {
     "elapsed": 396,
     "status": "ok",
     "timestamp": 1710662555647,
     "user": {
      "displayName": "Miroslava Ivanova",
      "userId": "04041431527474936486"
     },
     "user_tz": -120
    },
    "id": "QKrfHuRoXBnd",
    "outputId": "aafdbf93-6248-48eb-b352-f92b3b824603"
   },
   "outputs": [
    {
     "data": {
      "text/plain": [
       "array([2, 4, 4])"
      ]
     },
     "execution_count": 9,
     "metadata": {},
     "output_type": "execute_result"
    }
   ],
   "source": [
    "# built in functons for creating arrays\n",
    "np.arange(0, 10)     # from 0 to 10\n",
    "np.arange(0, 101, 2) # from 0 to 101, stepsize 2\n",
    "np.zeros(5)          # create 1-dimensional array of 5 zeros(as floating point)\n",
    "np.zeros((4,6))      # create a 2-dimensional array 2x6 of zeros\n",
    "np.ones((4,5))\n",
    "np.linspace(0, 40, 11) # returns evenly (linearly) spaced numbers, start=0, end=40, num=11\n",
    "np.eye(5)              # creates identity matrix (square marix) of size 5\n",
    "np.random.rand()       # args: d0, d1, ..., dn Random values in a given shape\n",
    "np.random.randint(2, 6, 3) # return 3 numbers in range [2-6)"
   ]
  },
  {
   "cell_type": "code",
   "execution_count": null,
   "metadata": {
    "id": "9ziQZvJkcaYS"
   },
   "outputs": [],
   "source": [
    "# array methods\n",
    "arr = np.arange(0, 24) # 1d array\n",
    "\n",
    "arr.reshape(3,8)       # 2d array\n",
    "arr.dtype              # data-type of the array's elements\n",
    "arr.shape              # tuple of array dimensions"
   ]
  },
  {
   "cell_type": "code",
   "execution_count": null,
   "metadata": {
    "colab": {
     "base_uri": "https://localhost:8080/"
    },
    "executionInfo": {
     "elapsed": 3,
     "status": "ok",
     "timestamp": 1710665540366,
     "user": {
      "displayName": "Miroslava Ivanova",
      "userId": "04041431527474936486"
     },
     "user_tz": -120
    },
    "id": "0QyeJD6IggAK",
    "outputId": "b560322d-6dfb-4903-b9b3-ff6d8069b840"
   },
   "outputs": [
    {
     "data": {
      "text/plain": [
       "array([ 7,  8,  9, 10])"
      ]
     },
     "execution_count": 50,
     "metadata": {},
     "output_type": "execute_result"
    }
   ],
   "source": [
    "# indexing and selection\n",
    "arr = np.arange(0,11)\n",
    "arr[0:5]                  # from index 0 to 5\n",
    "arr[:5]                   # from index 0 to 5\n",
    "arr[1:]                   # from index 1 to end\n",
    "arr[:]                    # the whole array\n",
    "arr[0:5] = 100            # broadcast value 100 to a part of the array\n",
    "\n",
    "arr = np.arange(0,11)\n",
    "slice_of_arr = arr[0:5]   # edit of slice will affect the original array\n",
    "arr_copy = arr.copy()     # copy array\n",
    "\n",
    "arr2d = np.array([[5, 10, 15], [20, 25, 20], [35, 30, 45]])\n",
    "arr2d[:2, 1:]             # take rows [0,2) UNION columns [1:]\n",
    "\n",
    "arr = np.arange(0,11)                # [ 0,  1,  2,  3,  4,  5,  6,  7,  8,  9, 10]\n",
    "arr_bool = arr > 4                   # [False, False, False, False, False,  True,  True,  True,  True,  True,  True]\n",
    "arr[arr_bool]                        # [ 5,  6,  7,  8,  9, 10]\n",
    "arr[arr > 6]                         # [ 7,  8,  9, 10]"
   ]
  },
  {
   "cell_type": "code",
   "execution_count": null,
   "metadata": {
    "colab": {
     "base_uri": "https://localhost:8080/"
    },
    "executionInfo": {
     "elapsed": 3,
     "status": "ok",
     "timestamp": 1710666285750,
     "user": {
      "displayName": "Miroslava Ivanova",
      "userId": "04041431527474936486"
     },
     "user_tz": -120
    },
    "id": "ipHhoQMendVZ",
    "outputId": "62160508-9bd9-4444-b3b0-40d9f284d9dc"
   },
   "outputs": [
    {
     "data": {
      "text/plain": [
       "array([ 10,  35,  60,  85, 110])"
      ]
     },
     "execution_count": 65,
     "metadata": {},
     "output_type": "execute_result"
    }
   ],
   "source": [
    "# numpy arithmetic/statistical operations\n",
    "arr1 = np.arange(0,10)    # [0, 1, 2, 3, 4, 5, 6, 7, 8, 9]\n",
    "arr1 + 5                  # [ 5,  6,  7,  8,  9, 10, 11, 12, 13, 14]\n",
    "arr1 + arr1               # [ 0,  2,  4,  6,  8, 10, 12, 14, 16, 18]\n",
    "arr1 - 2                  # [-2, -1,  0,  1,  2,  3,  4,  5,  6,  7]\n",
    "\n",
    "np.sqrt(arr1)              # [sqrt(el)]\n",
    "np.sin(arr1)               # [sin(el)]\n",
    "\n",
    "arr2d = np.arange(0,25).reshape(5,5)\n",
    "arr.sum()                  # sums all elements\n",
    "arr.var()                  #\n",
    "arr.std()                  #\n",
    "arr2d.sum()                # sums all elements\n",
    "arr2d.sum(axis=0)          # 0: across y, 1: across x"
   ]
  },
  {
   "cell_type": "markdown",
   "metadata": {
    "id": "pifRuJqlPu58"
   },
   "source": []
  },
  {
   "cell_type": "markdown",
   "metadata": {
    "id": "EmriEawgPwWK"
   },
   "source": [
    "# Pandas"
   ]
  },
  {
   "cell_type": "code",
   "execution_count": null,
   "metadata": {
    "id": "XV9n31BwP9M-"
   },
   "outputs": [],
   "source": [
    "import numpy as np\n",
    "import pandas as pd\n",
    "\n",
    "data_csv_path = '/content/drive/MyDrive/Colab Notebooks/Jose Portilla/tips.csv'\n",
    "df = pd.read_csv(data_csv_path)"
   ]
  },
  {
   "cell_type": "markdown",
   "metadata": {
    "id": "0y_IgXyvujzG"
   },
   "source": [
    "## Series"
   ]
  },
  {
   "cell_type": "code",
   "execution_count": null,
   "metadata": {
    "id": "wH2eQPSeS1U1"
   },
   "outputs": [],
   "source": [
    "# create series from lists\n",
    "myindex = ['USA', 'Canada', 'Mexico']\n",
    "mydata = [1776, 1867, 1821]\n",
    "myuser1 = pd.Series(data=mydata)\n",
    "myuser2 = pd.Series(data=mydata, index=myindex)\n",
    "myuser3 = pd.Series(mydata, myindex)\n",
    "\n",
    "# create series from dictionary\n",
    "agesDict = {\"Sam\": 5, \"Frank\": 10, \"Spike\": 7}\n",
    "agesSeries1 = pd.Series(agesDict)\n",
    "agesSeries2 = pd.Series(agesDict, index=['Frank', 'Spike', 'Sam'])\n",
    "\n",
    "agesSeries2.keys() #---\n",
    "\n",
    "# series operations\n",
    "q1 = {'Japan': 80, 'China': 450, 'India': 200, 'USA': 250}\n",
    "q2 = {'Brazil': 100, 'China': 500, 'India': 210, 'USA': 260}\n",
    "sales_q1 = pd.Series(q1)\n",
    "sales_q2 = pd.Series(q2)\n",
    "\n",
    "sales_q1 * 2        #---\n",
    "sales_q1 + sales_q2 #--- NaN\n",
    "sales_q1.add(sales_q2, fill_value=0) # fill in for missing values"
   ]
  },
  {
   "cell_type": "code",
   "execution_count": null,
   "metadata": {
    "id": "Fe8oLB2HTNxk"
   },
   "outputs": [],
   "source": [
    "# CTRL + SHIFT + ENTER\n",
    "myuser1        #---\n",
    "myuser2        #---\n",
    "type(myuser2)  #---\n",
    "myuser2[0]     #---\n",
    "myuser2['USA'] #---\n",
    "agesSeries1    #---\n",
    "agesSeries2    #---\n"
   ]
  },
  {
   "cell_type": "markdown",
   "metadata": {
    "id": "Phu_Y1jDumKF"
   },
   "source": [
    "## DataFrame"
   ]
  },
  {
   "cell_type": "markdown",
   "metadata": {
    "id": "T1YRLwGvpz57"
   },
   "source": [
    "### create dataframe from multidimensional array"
   ]
  },
  {
   "cell_type": "code",
   "execution_count": null,
   "metadata": {
    "id": "4P8VIhb2upLt"
   },
   "outputs": [],
   "source": [
    "# create dataframe from multidimensional array\n",
    "\n",
    "np.random.seed(101)\n",
    "mydata = np.random.randint(0, 101, (4, 3)) # 4 rows x 3 cols\n",
    "index_row = ['CA', 'NY', 'AZ', 'TX']\n",
    "index_col = ['Jan', 'Feb', 'Mar']\n",
    "df1 = pd.DataFrame(mydata)                  # automatic row/col index\n",
    "df2 = pd.DataFrame(mydata, index=index_row) # automatic col index\n",
    "df3 = pd.DataFrame(mydata, index=index_row, columns=index_col)\n",
    "\n",
    "df3.info()"
   ]
  },
  {
   "cell_type": "markdown",
   "metadata": {
    "id": "l3UZ4LF1p-1Y"
   },
   "source": [
    "### dataframe from csv\n"
   ]
  },
  {
   "cell_type": "code",
   "execution_count": null,
   "metadata": {
    "id": "x52Q6s5HzkkJ"
   },
   "outputs": [],
   "source": [
    "# dataframe from csv\n",
    "data_csv_path = '/content/drive/MyDrive/Colab Notebooks/Jose Portilla/tips.csv'\n",
    "df = pd.read_csv(data_csv_path)"
   ]
  },
  {
   "cell_type": "markdown",
   "metadata": {
    "id": "fjY6eP8T7Cb9"
   },
   "source": [
    "### dataframe properties, columns, rows"
   ]
  },
  {
   "cell_type": "code",
   "execution_count": null,
   "metadata": {
    "id": "e1DBL4jWm4KW"
   },
   "outputs": [],
   "source": [
    "# dataframes properties\n",
    "df.columns    #---\n",
    "df.index      # returns the primary key column\n",
    "df.head       #---\n",
    "df.info()     #---\n",
    "df.describe() #---\n",
    "df.describe().transpose() #--"
   ]
  },
  {
   "cell_type": "code",
   "execution_count": null,
   "metadata": {
    "id": "fy6KVSxjphev"
   },
   "outputs": [],
   "source": [
    "# get columns\n",
    "df['total_bill']          # get one column\n",
    "\n",
    "columns_list = ['total_bill', 'tip']\n",
    "df[columns_list]          # get multiple columns\n",
    "df[['total_bill', 'tip']] # get multiple columns"
   ]
  },
  {
   "cell_type": "code",
   "execution_count": null,
   "metadata": {
    "id": "rY02r6yC7Pyw"
   },
   "outputs": [],
   "source": [
    "# get rows\n",
    "df.index                         # returns the primary key column\n",
    "df1 = df.set_index('Payment ID') # not inplace\n",
    "df.reset_index()                 # takes the current index and makes it a column; not inplace\n",
    "\n",
    "df.iloc[0]                       # get the first row\n",
    "df1.loc['Sun2959']               # 'Payment ID' must be set as index\n",
    "\n",
    "df.iloc[0:4]                     # get multiple rows\n",
    "df1.loc[['Sun2959', 'Sun5260']]  # get multiple rows by string label"
   ]
  },
  {
   "cell_type": "code",
   "execution_count": null,
   "metadata": {
    "id": "VNan3tdg4p-f"
   },
   "outputs": [],
   "source": [
    "# add rows/columns\n",
    "tip_percentage = 100 * df['tip'] / df['total_bill']\n",
    "df['tip_percentage'] = tip_percentage # add column\n",
    "\n",
    "one_row = df.iloc[0]\n",
    "df.append(one_row)                    # add row; not inplace"
   ]
  },
  {
   "cell_type": "code",
   "execution_count": null,
   "metadata": {
    "id": "9IicqOjt5o9D"
   },
   "outputs": [],
   "source": [
    "# remove rows/columms\n",
    "df.drop(5)                        # drop row with index 5\n",
    "df1.drop('Sun2959')\n",
    "\n",
    "df.drop('tip_percentage', axis=1) # drop column; by default axis=0 (rows); not inplace"
   ]
  },
  {
   "cell_type": "markdown",
   "metadata": {
    "id": "WcDIWQ-Y_UtE"
   },
   "source": [
    "### conditional filtering\n",
    "select rows based on a condition on a column"
   ]
  },
  {
   "cell_type": "code",
   "execution_count": null,
   "metadata": {
    "colab": {
     "base_uri": "https://localhost:8080/",
     "height": 424
    },
    "executionInfo": {
     "elapsed": 437,
     "status": "ok",
     "timestamp": 1712237856259,
     "user": {
      "displayName": "Miroslava Ivanova",
      "userId": "04041431527474936486"
     },
     "user_tz": -180
    },
    "id": "i-QcaJKK_UUS",
    "outputId": "e24b4570-f9c8-4bd4-bd23-70d0029889e0"
   },
   "outputs": [
    {
     "data": {
      "application/vnd.google.colaboratory.intrinsic+json": {
       "repr_error": "type object 'relativedelta' has no attribute 'relativedelta'",
       "type": "dataframe"
      },
      "text/html": [
       "\n",
       "  <div id=\"df-b4670148-98ce-4ce9-9b64-400f88c53018\" class=\"colab-df-container\">\n",
       "    <div>\n",
       "<style scoped>\n",
       "    .dataframe tbody tr th:only-of-type {\n",
       "        vertical-align: middle;\n",
       "    }\n",
       "\n",
       "    .dataframe tbody tr th {\n",
       "        vertical-align: top;\n",
       "    }\n",
       "\n",
       "    .dataframe thead th {\n",
       "        text-align: right;\n",
       "    }\n",
       "</style>\n",
       "<table border=\"1\" class=\"dataframe\">\n",
       "  <thead>\n",
       "    <tr style=\"text-align: right;\">\n",
       "      <th></th>\n",
       "      <th>total_bill</th>\n",
       "      <th>tip</th>\n",
       "      <th>sex</th>\n",
       "      <th>smoker</th>\n",
       "      <th>day</th>\n",
       "      <th>time</th>\n",
       "      <th>size</th>\n",
       "      <th>price_per_person</th>\n",
       "      <th>Payer Name</th>\n",
       "      <th>CC Number</th>\n",
       "      <th>Payment ID</th>\n",
       "    </tr>\n",
       "  </thead>\n",
       "  <tbody>\n",
       "    <tr>\n",
       "      <th>0</th>\n",
       "      <td>16.99</td>\n",
       "      <td>1.01</td>\n",
       "      <td>Female</td>\n",
       "      <td>No</td>\n",
       "      <td>Sun</td>\n",
       "      <td>Dinner</td>\n",
       "      <td>2</td>\n",
       "      <td>8.49</td>\n",
       "      <td>Christy Cunningham</td>\n",
       "      <td>3560325168603410</td>\n",
       "      <td>Sun2959</td>\n",
       "    </tr>\n",
       "    <tr>\n",
       "      <th>1</th>\n",
       "      <td>10.34</td>\n",
       "      <td>1.66</td>\n",
       "      <td>Male</td>\n",
       "      <td>No</td>\n",
       "      <td>Sun</td>\n",
       "      <td>Dinner</td>\n",
       "      <td>3</td>\n",
       "      <td>3.45</td>\n",
       "      <td>Douglas Tucker</td>\n",
       "      <td>4478071379779230</td>\n",
       "      <td>Sun4608</td>\n",
       "    </tr>\n",
       "    <tr>\n",
       "      <th>2</th>\n",
       "      <td>21.01</td>\n",
       "      <td>3.50</td>\n",
       "      <td>Male</td>\n",
       "      <td>No</td>\n",
       "      <td>Sun</td>\n",
       "      <td>Dinner</td>\n",
       "      <td>3</td>\n",
       "      <td>7.00</td>\n",
       "      <td>Travis Walters</td>\n",
       "      <td>6011812112971322</td>\n",
       "      <td>Sun4458</td>\n",
       "    </tr>\n",
       "    <tr>\n",
       "      <th>3</th>\n",
       "      <td>23.68</td>\n",
       "      <td>3.31</td>\n",
       "      <td>Male</td>\n",
       "      <td>No</td>\n",
       "      <td>Sun</td>\n",
       "      <td>Dinner</td>\n",
       "      <td>2</td>\n",
       "      <td>11.84</td>\n",
       "      <td>Nathaniel Harris</td>\n",
       "      <td>4676137647685994</td>\n",
       "      <td>Sun5260</td>\n",
       "    </tr>\n",
       "    <tr>\n",
       "      <th>4</th>\n",
       "      <td>24.59</td>\n",
       "      <td>3.61</td>\n",
       "      <td>Female</td>\n",
       "      <td>No</td>\n",
       "      <td>Sun</td>\n",
       "      <td>Dinner</td>\n",
       "      <td>4</td>\n",
       "      <td>6.15</td>\n",
       "      <td>Tonya Carter</td>\n",
       "      <td>4832732618637221</td>\n",
       "      <td>Sun2251</td>\n",
       "    </tr>\n",
       "    <tr>\n",
       "      <th>...</th>\n",
       "      <td>...</td>\n",
       "      <td>...</td>\n",
       "      <td>...</td>\n",
       "      <td>...</td>\n",
       "      <td>...</td>\n",
       "      <td>...</td>\n",
       "      <td>...</td>\n",
       "      <td>...</td>\n",
       "      <td>...</td>\n",
       "      <td>...</td>\n",
       "      <td>...</td>\n",
       "    </tr>\n",
       "    <tr>\n",
       "      <th>238</th>\n",
       "      <td>35.83</td>\n",
       "      <td>4.67</td>\n",
       "      <td>Female</td>\n",
       "      <td>No</td>\n",
       "      <td>Sat</td>\n",
       "      <td>Dinner</td>\n",
       "      <td>3</td>\n",
       "      <td>11.94</td>\n",
       "      <td>Kimberly Crane</td>\n",
       "      <td>676184013727</td>\n",
       "      <td>Sat9777</td>\n",
       "    </tr>\n",
       "    <tr>\n",
       "      <th>239</th>\n",
       "      <td>29.03</td>\n",
       "      <td>5.92</td>\n",
       "      <td>Male</td>\n",
       "      <td>No</td>\n",
       "      <td>Sat</td>\n",
       "      <td>Dinner</td>\n",
       "      <td>3</td>\n",
       "      <td>9.68</td>\n",
       "      <td>Michael Avila</td>\n",
       "      <td>5296068606052842</td>\n",
       "      <td>Sat2657</td>\n",
       "    </tr>\n",
       "    <tr>\n",
       "      <th>240</th>\n",
       "      <td>27.18</td>\n",
       "      <td>2.00</td>\n",
       "      <td>Female</td>\n",
       "      <td>Yes</td>\n",
       "      <td>Sat</td>\n",
       "      <td>Dinner</td>\n",
       "      <td>2</td>\n",
       "      <td>13.59</td>\n",
       "      <td>Monica Sanders</td>\n",
       "      <td>3506806155565404</td>\n",
       "      <td>Sat1766</td>\n",
       "    </tr>\n",
       "    <tr>\n",
       "      <th>241</th>\n",
       "      <td>22.67</td>\n",
       "      <td>2.00</td>\n",
       "      <td>Male</td>\n",
       "      <td>Yes</td>\n",
       "      <td>Sat</td>\n",
       "      <td>Dinner</td>\n",
       "      <td>2</td>\n",
       "      <td>11.34</td>\n",
       "      <td>Keith Wong</td>\n",
       "      <td>6011891618747196</td>\n",
       "      <td>Sat3880</td>\n",
       "    </tr>\n",
       "    <tr>\n",
       "      <th>242</th>\n",
       "      <td>17.82</td>\n",
       "      <td>1.75</td>\n",
       "      <td>Male</td>\n",
       "      <td>No</td>\n",
       "      <td>Sat</td>\n",
       "      <td>Dinner</td>\n",
       "      <td>2</td>\n",
       "      <td>8.91</td>\n",
       "      <td>Dennis Dixon</td>\n",
       "      <td>4375220550950</td>\n",
       "      <td>Sat17</td>\n",
       "    </tr>\n",
       "  </tbody>\n",
       "</table>\n",
       "<p>163 rows × 11 columns</p>\n",
       "</div>\n",
       "    <div class=\"colab-df-buttons\">\n",
       "\n",
       "  <div class=\"colab-df-container\">\n",
       "    <button class=\"colab-df-convert\" onclick=\"convertToInteractive('df-b4670148-98ce-4ce9-9b64-400f88c53018')\"\n",
       "            title=\"Convert this dataframe to an interactive table.\"\n",
       "            style=\"display:none;\">\n",
       "\n",
       "  <svg xmlns=\"http://www.w3.org/2000/svg\" height=\"24px\" viewBox=\"0 -960 960 960\">\n",
       "    <path d=\"M120-120v-720h720v720H120Zm60-500h600v-160H180v160Zm220 220h160v-160H400v160Zm0 220h160v-160H400v160ZM180-400h160v-160H180v160Zm440 0h160v-160H620v160ZM180-180h160v-160H180v160Zm440 0h160v-160H620v160Z\"/>\n",
       "  </svg>\n",
       "    </button>\n",
       "\n",
       "  <style>\n",
       "    .colab-df-container {\n",
       "      display:flex;\n",
       "      gap: 12px;\n",
       "    }\n",
       "\n",
       "    .colab-df-convert {\n",
       "      background-color: #E8F0FE;\n",
       "      border: none;\n",
       "      border-radius: 50%;\n",
       "      cursor: pointer;\n",
       "      display: none;\n",
       "      fill: #1967D2;\n",
       "      height: 32px;\n",
       "      padding: 0 0 0 0;\n",
       "      width: 32px;\n",
       "    }\n",
       "\n",
       "    .colab-df-convert:hover {\n",
       "      background-color: #E2EBFA;\n",
       "      box-shadow: 0px 1px 2px rgba(60, 64, 67, 0.3), 0px 1px 3px 1px rgba(60, 64, 67, 0.15);\n",
       "      fill: #174EA6;\n",
       "    }\n",
       "\n",
       "    .colab-df-buttons div {\n",
       "      margin-bottom: 4px;\n",
       "    }\n",
       "\n",
       "    [theme=dark] .colab-df-convert {\n",
       "      background-color: #3B4455;\n",
       "      fill: #D2E3FC;\n",
       "    }\n",
       "\n",
       "    [theme=dark] .colab-df-convert:hover {\n",
       "      background-color: #434B5C;\n",
       "      box-shadow: 0px 1px 3px 1px rgba(0, 0, 0, 0.15);\n",
       "      filter: drop-shadow(0px 1px 2px rgba(0, 0, 0, 0.3));\n",
       "      fill: #FFFFFF;\n",
       "    }\n",
       "  </style>\n",
       "\n",
       "    <script>\n",
       "      const buttonEl =\n",
       "        document.querySelector('#df-b4670148-98ce-4ce9-9b64-400f88c53018 button.colab-df-convert');\n",
       "      buttonEl.style.display =\n",
       "        google.colab.kernel.accessAllowed ? 'block' : 'none';\n",
       "\n",
       "      async function convertToInteractive(key) {\n",
       "        const element = document.querySelector('#df-b4670148-98ce-4ce9-9b64-400f88c53018');\n",
       "        const dataTable =\n",
       "          await google.colab.kernel.invokeFunction('convertToInteractive',\n",
       "                                                    [key], {});\n",
       "        if (!dataTable) return;\n",
       "\n",
       "        const docLinkHtml = 'Like what you see? Visit the ' +\n",
       "          '<a target=\"_blank\" href=https://colab.research.google.com/notebooks/data_table.ipynb>data table notebook</a>'\n",
       "          + ' to learn more about interactive tables.';\n",
       "        element.innerHTML = '';\n",
       "        dataTable['output_type'] = 'display_data';\n",
       "        await google.colab.output.renderOutput(dataTable, element);\n",
       "        const docLink = document.createElement('div');\n",
       "        docLink.innerHTML = docLinkHtml;\n",
       "        element.appendChild(docLink);\n",
       "      }\n",
       "    </script>\n",
       "  </div>\n",
       "\n",
       "\n",
       "<div id=\"df-7a746781-a84f-4dcc-a3fc-d005efe42a22\">\n",
       "  <button class=\"colab-df-quickchart\" onclick=\"quickchart('df-7a746781-a84f-4dcc-a3fc-d005efe42a22')\"\n",
       "            title=\"Suggest charts\"\n",
       "            style=\"display:none;\">\n",
       "\n",
       "<svg xmlns=\"http://www.w3.org/2000/svg\" height=\"24px\"viewBox=\"0 0 24 24\"\n",
       "     width=\"24px\">\n",
       "    <g>\n",
       "        <path d=\"M19 3H5c-1.1 0-2 .9-2 2v14c0 1.1.9 2 2 2h14c1.1 0 2-.9 2-2V5c0-1.1-.9-2-2-2zM9 17H7v-7h2v7zm4 0h-2V7h2v10zm4 0h-2v-4h2v4z\"/>\n",
       "    </g>\n",
       "</svg>\n",
       "  </button>\n",
       "\n",
       "<style>\n",
       "  .colab-df-quickchart {\n",
       "      --bg-color: #E8F0FE;\n",
       "      --fill-color: #1967D2;\n",
       "      --hover-bg-color: #E2EBFA;\n",
       "      --hover-fill-color: #174EA6;\n",
       "      --disabled-fill-color: #AAA;\n",
       "      --disabled-bg-color: #DDD;\n",
       "  }\n",
       "\n",
       "  [theme=dark] .colab-df-quickchart {\n",
       "      --bg-color: #3B4455;\n",
       "      --fill-color: #D2E3FC;\n",
       "      --hover-bg-color: #434B5C;\n",
       "      --hover-fill-color: #FFFFFF;\n",
       "      --disabled-bg-color: #3B4455;\n",
       "      --disabled-fill-color: #666;\n",
       "  }\n",
       "\n",
       "  .colab-df-quickchart {\n",
       "    background-color: var(--bg-color);\n",
       "    border: none;\n",
       "    border-radius: 50%;\n",
       "    cursor: pointer;\n",
       "    display: none;\n",
       "    fill: var(--fill-color);\n",
       "    height: 32px;\n",
       "    padding: 0;\n",
       "    width: 32px;\n",
       "  }\n",
       "\n",
       "  .colab-df-quickchart:hover {\n",
       "    background-color: var(--hover-bg-color);\n",
       "    box-shadow: 0 1px 2px rgba(60, 64, 67, 0.3), 0 1px 3px 1px rgba(60, 64, 67, 0.15);\n",
       "    fill: var(--button-hover-fill-color);\n",
       "  }\n",
       "\n",
       "  .colab-df-quickchart-complete:disabled,\n",
       "  .colab-df-quickchart-complete:disabled:hover {\n",
       "    background-color: var(--disabled-bg-color);\n",
       "    fill: var(--disabled-fill-color);\n",
       "    box-shadow: none;\n",
       "  }\n",
       "\n",
       "  .colab-df-spinner {\n",
       "    border: 2px solid var(--fill-color);\n",
       "    border-color: transparent;\n",
       "    border-bottom-color: var(--fill-color);\n",
       "    animation:\n",
       "      spin 1s steps(1) infinite;\n",
       "  }\n",
       "\n",
       "  @keyframes spin {\n",
       "    0% {\n",
       "      border-color: transparent;\n",
       "      border-bottom-color: var(--fill-color);\n",
       "      border-left-color: var(--fill-color);\n",
       "    }\n",
       "    20% {\n",
       "      border-color: transparent;\n",
       "      border-left-color: var(--fill-color);\n",
       "      border-top-color: var(--fill-color);\n",
       "    }\n",
       "    30% {\n",
       "      border-color: transparent;\n",
       "      border-left-color: var(--fill-color);\n",
       "      border-top-color: var(--fill-color);\n",
       "      border-right-color: var(--fill-color);\n",
       "    }\n",
       "    40% {\n",
       "      border-color: transparent;\n",
       "      border-right-color: var(--fill-color);\n",
       "      border-top-color: var(--fill-color);\n",
       "    }\n",
       "    60% {\n",
       "      border-color: transparent;\n",
       "      border-right-color: var(--fill-color);\n",
       "    }\n",
       "    80% {\n",
       "      border-color: transparent;\n",
       "      border-right-color: var(--fill-color);\n",
       "      border-bottom-color: var(--fill-color);\n",
       "    }\n",
       "    90% {\n",
       "      border-color: transparent;\n",
       "      border-bottom-color: var(--fill-color);\n",
       "    }\n",
       "  }\n",
       "</style>\n",
       "\n",
       "  <script>\n",
       "    async function quickchart(key) {\n",
       "      const quickchartButtonEl =\n",
       "        document.querySelector('#' + key + ' button');\n",
       "      quickchartButtonEl.disabled = true;  // To prevent multiple clicks.\n",
       "      quickchartButtonEl.classList.add('colab-df-spinner');\n",
       "      try {\n",
       "        const charts = await google.colab.kernel.invokeFunction(\n",
       "            'suggestCharts', [key], {});\n",
       "      } catch (error) {\n",
       "        console.error('Error during call to suggestCharts:', error);\n",
       "      }\n",
       "      quickchartButtonEl.classList.remove('colab-df-spinner');\n",
       "      quickchartButtonEl.classList.add('colab-df-quickchart-complete');\n",
       "    }\n",
       "    (() => {\n",
       "      let quickchartButtonEl =\n",
       "        document.querySelector('#df-7a746781-a84f-4dcc-a3fc-d005efe42a22 button');\n",
       "      quickchartButtonEl.style.display =\n",
       "        google.colab.kernel.accessAllowed ? 'block' : 'none';\n",
       "    })();\n",
       "  </script>\n",
       "</div>\n",
       "    </div>\n",
       "  </div>\n"
      ],
      "text/plain": [
       "     total_bill   tip     sex smoker  day    time  size  price_per_person  \\\n",
       "0         16.99  1.01  Female     No  Sun  Dinner     2              8.49   \n",
       "1         10.34  1.66    Male     No  Sun  Dinner     3              3.45   \n",
       "2         21.01  3.50    Male     No  Sun  Dinner     3              7.00   \n",
       "3         23.68  3.31    Male     No  Sun  Dinner     2             11.84   \n",
       "4         24.59  3.61  Female     No  Sun  Dinner     4              6.15   \n",
       "..          ...   ...     ...    ...  ...     ...   ...               ...   \n",
       "238       35.83  4.67  Female     No  Sat  Dinner     3             11.94   \n",
       "239       29.03  5.92    Male     No  Sat  Dinner     3              9.68   \n",
       "240       27.18  2.00  Female    Yes  Sat  Dinner     2             13.59   \n",
       "241       22.67  2.00    Male    Yes  Sat  Dinner     2             11.34   \n",
       "242       17.82  1.75    Male     No  Sat  Dinner     2              8.91   \n",
       "\n",
       "             Payer Name         CC Number Payment ID  \n",
       "0    Christy Cunningham  3560325168603410    Sun2959  \n",
       "1        Douglas Tucker  4478071379779230    Sun4608  \n",
       "2        Travis Walters  6011812112971322    Sun4458  \n",
       "3      Nathaniel Harris  4676137647685994    Sun5260  \n",
       "4          Tonya Carter  4832732618637221    Sun2251  \n",
       "..                  ...               ...        ...  \n",
       "238      Kimberly Crane      676184013727    Sat9777  \n",
       "239       Michael Avila  5296068606052842    Sat2657  \n",
       "240      Monica Sanders  3506806155565404    Sat1766  \n",
       "241          Keith Wong  6011891618747196    Sat3880  \n",
       "242        Dennis Dixon     4375220550950      Sat17  \n",
       "\n",
       "[163 rows x 11 columns]"
      ]
     },
     "execution_count": 11,
     "metadata": {},
     "output_type": "execute_result"
    }
   ],
   "source": [
    "df[df['total_bill'] > 40] #return all rows where total_bill > 40\n",
    "df[df['sex'] == 'Male']   #return all rows where sex==Male\n",
    "df[(df['total_bill'] > 30) & (df['sex'] == 'Male')] # &/| in pandas, and/or in python\n",
    "df[df['day'].isin(['Sat', 'Sun'])]"
   ]
  },
  {
   "cell_type": "markdown",
   "metadata": {
    "id": "ALaZcasNVab2"
   },
   "source": [
    "### useful methods\n",
    "apply() - apply a function to each row"
   ]
  },
  {
   "cell_type": "code",
   "execution_count": null,
   "metadata": {
    "colab": {
     "base_uri": "https://localhost:8080/",
     "height": 206
    },
    "executionInfo": {
     "elapsed": 260,
     "status": "ok",
     "timestamp": 1712244218661,
     "user": {
      "displayName": "Miroslava Ivanova",
      "userId": "04041431527474936486"
     },
     "user_tz": -180
    },
    "id": "957ZCGx69awk",
    "outputId": "60f436ae-bcd6-4411-e51b-83a13d38de8a"
   },
   "outputs": [
    {
     "data": {
      "application/vnd.google.colaboratory.intrinsic+json": {
       "repr_error": "type object 'relativedelta' has no attribute 'relativedelta'",
       "type": "dataframe"
      },
      "text/html": [
       "\n",
       "  <div id=\"df-487e157c-4d32-4a35-8c29-f6c04f037040\" class=\"colab-df-container\">\n",
       "    <div>\n",
       "<style scoped>\n",
       "    .dataframe tbody tr th:only-of-type {\n",
       "        vertical-align: middle;\n",
       "    }\n",
       "\n",
       "    .dataframe tbody tr th {\n",
       "        vertical-align: top;\n",
       "    }\n",
       "\n",
       "    .dataframe thead th {\n",
       "        text-align: right;\n",
       "    }\n",
       "</style>\n",
       "<table border=\"1\" class=\"dataframe\">\n",
       "  <thead>\n",
       "    <tr style=\"text-align: right;\">\n",
       "      <th></th>\n",
       "      <th>total_bill</th>\n",
       "      <th>tip</th>\n",
       "      <th>sex</th>\n",
       "      <th>smoker</th>\n",
       "      <th>day</th>\n",
       "      <th>time</th>\n",
       "      <th>size</th>\n",
       "      <th>price_per_person</th>\n",
       "      <th>Payer Name</th>\n",
       "      <th>CC Number</th>\n",
       "      <th>Payment ID</th>\n",
       "      <th>last_four</th>\n",
       "    </tr>\n",
       "  </thead>\n",
       "  <tbody>\n",
       "    <tr>\n",
       "      <th>170</th>\n",
       "      <td>50.81</td>\n",
       "      <td>10.00</td>\n",
       "      <td>Male</td>\n",
       "      <td>Yes</td>\n",
       "      <td>Sat</td>\n",
       "      <td>Dinner</td>\n",
       "      <td>3</td>\n",
       "      <td>16.94</td>\n",
       "      <td>Gregory Clark</td>\n",
       "      <td>5473850968388236</td>\n",
       "      <td>Sat1954</td>\n",
       "      <td>8236</td>\n",
       "    </tr>\n",
       "    <tr>\n",
       "      <th>212</th>\n",
       "      <td>48.33</td>\n",
       "      <td>9.00</td>\n",
       "      <td>Male</td>\n",
       "      <td>No</td>\n",
       "      <td>Sat</td>\n",
       "      <td>Dinner</td>\n",
       "      <td>4</td>\n",
       "      <td>12.08</td>\n",
       "      <td>Alex Williamson</td>\n",
       "      <td>676218815212</td>\n",
       "      <td>Sat4590</td>\n",
       "      <td>5212</td>\n",
       "    </tr>\n",
       "    <tr>\n",
       "      <th>23</th>\n",
       "      <td>39.42</td>\n",
       "      <td>7.58</td>\n",
       "      <td>Male</td>\n",
       "      <td>No</td>\n",
       "      <td>Sat</td>\n",
       "      <td>Dinner</td>\n",
       "      <td>4</td>\n",
       "      <td>9.86</td>\n",
       "      <td>Lance Peterson</td>\n",
       "      <td>3542584061609808</td>\n",
       "      <td>Sat239</td>\n",
       "      <td>9808</td>\n",
       "    </tr>\n",
       "    <tr>\n",
       "      <th>59</th>\n",
       "      <td>48.27</td>\n",
       "      <td>6.73</td>\n",
       "      <td>Male</td>\n",
       "      <td>No</td>\n",
       "      <td>Sat</td>\n",
       "      <td>Dinner</td>\n",
       "      <td>4</td>\n",
       "      <td>12.07</td>\n",
       "      <td>Brian Ortiz</td>\n",
       "      <td>6596453823950595</td>\n",
       "      <td>Sat8139</td>\n",
       "      <td>0595</td>\n",
       "    </tr>\n",
       "    <tr>\n",
       "      <th>141</th>\n",
       "      <td>34.30</td>\n",
       "      <td>6.70</td>\n",
       "      <td>Male</td>\n",
       "      <td>No</td>\n",
       "      <td>Thur</td>\n",
       "      <td>Lunch</td>\n",
       "      <td>6</td>\n",
       "      <td>5.72</td>\n",
       "      <td>Steven Carlson</td>\n",
       "      <td>3526515703718508</td>\n",
       "      <td>Thur1025</td>\n",
       "      <td>8508</td>\n",
       "    </tr>\n",
       "  </tbody>\n",
       "</table>\n",
       "</div>\n",
       "    <div class=\"colab-df-buttons\">\n",
       "\n",
       "  <div class=\"colab-df-container\">\n",
       "    <button class=\"colab-df-convert\" onclick=\"convertToInteractive('df-487e157c-4d32-4a35-8c29-f6c04f037040')\"\n",
       "            title=\"Convert this dataframe to an interactive table.\"\n",
       "            style=\"display:none;\">\n",
       "\n",
       "  <svg xmlns=\"http://www.w3.org/2000/svg\" height=\"24px\" viewBox=\"0 -960 960 960\">\n",
       "    <path d=\"M120-120v-720h720v720H120Zm60-500h600v-160H180v160Zm220 220h160v-160H400v160Zm0 220h160v-160H400v160ZM180-400h160v-160H180v160Zm440 0h160v-160H620v160ZM180-180h160v-160H180v160Zm440 0h160v-160H620v160Z\"/>\n",
       "  </svg>\n",
       "    </button>\n",
       "\n",
       "  <style>\n",
       "    .colab-df-container {\n",
       "      display:flex;\n",
       "      gap: 12px;\n",
       "    }\n",
       "\n",
       "    .colab-df-convert {\n",
       "      background-color: #E8F0FE;\n",
       "      border: none;\n",
       "      border-radius: 50%;\n",
       "      cursor: pointer;\n",
       "      display: none;\n",
       "      fill: #1967D2;\n",
       "      height: 32px;\n",
       "      padding: 0 0 0 0;\n",
       "      width: 32px;\n",
       "    }\n",
       "\n",
       "    .colab-df-convert:hover {\n",
       "      background-color: #E2EBFA;\n",
       "      box-shadow: 0px 1px 2px rgba(60, 64, 67, 0.3), 0px 1px 3px 1px rgba(60, 64, 67, 0.15);\n",
       "      fill: #174EA6;\n",
       "    }\n",
       "\n",
       "    .colab-df-buttons div {\n",
       "      margin-bottom: 4px;\n",
       "    }\n",
       "\n",
       "    [theme=dark] .colab-df-convert {\n",
       "      background-color: #3B4455;\n",
       "      fill: #D2E3FC;\n",
       "    }\n",
       "\n",
       "    [theme=dark] .colab-df-convert:hover {\n",
       "      background-color: #434B5C;\n",
       "      box-shadow: 0px 1px 3px 1px rgba(0, 0, 0, 0.15);\n",
       "      filter: drop-shadow(0px 1px 2px rgba(0, 0, 0, 0.3));\n",
       "      fill: #FFFFFF;\n",
       "    }\n",
       "  </style>\n",
       "\n",
       "    <script>\n",
       "      const buttonEl =\n",
       "        document.querySelector('#df-487e157c-4d32-4a35-8c29-f6c04f037040 button.colab-df-convert');\n",
       "      buttonEl.style.display =\n",
       "        google.colab.kernel.accessAllowed ? 'block' : 'none';\n",
       "\n",
       "      async function convertToInteractive(key) {\n",
       "        const element = document.querySelector('#df-487e157c-4d32-4a35-8c29-f6c04f037040');\n",
       "        const dataTable =\n",
       "          await google.colab.kernel.invokeFunction('convertToInteractive',\n",
       "                                                    [key], {});\n",
       "        if (!dataTable) return;\n",
       "\n",
       "        const docLinkHtml = 'Like what you see? Visit the ' +\n",
       "          '<a target=\"_blank\" href=https://colab.research.google.com/notebooks/data_table.ipynb>data table notebook</a>'\n",
       "          + ' to learn more about interactive tables.';\n",
       "        element.innerHTML = '';\n",
       "        dataTable['output_type'] = 'display_data';\n",
       "        await google.colab.output.renderOutput(dataTable, element);\n",
       "        const docLink = document.createElement('div');\n",
       "        docLink.innerHTML = docLinkHtml;\n",
       "        element.appendChild(docLink);\n",
       "      }\n",
       "    </script>\n",
       "  </div>\n",
       "\n",
       "\n",
       "<div id=\"df-722672c8-ebc2-411c-82fd-0f701c49913a\">\n",
       "  <button class=\"colab-df-quickchart\" onclick=\"quickchart('df-722672c8-ebc2-411c-82fd-0f701c49913a')\"\n",
       "            title=\"Suggest charts\"\n",
       "            style=\"display:none;\">\n",
       "\n",
       "<svg xmlns=\"http://www.w3.org/2000/svg\" height=\"24px\"viewBox=\"0 0 24 24\"\n",
       "     width=\"24px\">\n",
       "    <g>\n",
       "        <path d=\"M19 3H5c-1.1 0-2 .9-2 2v14c0 1.1.9 2 2 2h14c1.1 0 2-.9 2-2V5c0-1.1-.9-2-2-2zM9 17H7v-7h2v7zm4 0h-2V7h2v10zm4 0h-2v-4h2v4z\"/>\n",
       "    </g>\n",
       "</svg>\n",
       "  </button>\n",
       "\n",
       "<style>\n",
       "  .colab-df-quickchart {\n",
       "      --bg-color: #E8F0FE;\n",
       "      --fill-color: #1967D2;\n",
       "      --hover-bg-color: #E2EBFA;\n",
       "      --hover-fill-color: #174EA6;\n",
       "      --disabled-fill-color: #AAA;\n",
       "      --disabled-bg-color: #DDD;\n",
       "  }\n",
       "\n",
       "  [theme=dark] .colab-df-quickchart {\n",
       "      --bg-color: #3B4455;\n",
       "      --fill-color: #D2E3FC;\n",
       "      --hover-bg-color: #434B5C;\n",
       "      --hover-fill-color: #FFFFFF;\n",
       "      --disabled-bg-color: #3B4455;\n",
       "      --disabled-fill-color: #666;\n",
       "  }\n",
       "\n",
       "  .colab-df-quickchart {\n",
       "    background-color: var(--bg-color);\n",
       "    border: none;\n",
       "    border-radius: 50%;\n",
       "    cursor: pointer;\n",
       "    display: none;\n",
       "    fill: var(--fill-color);\n",
       "    height: 32px;\n",
       "    padding: 0;\n",
       "    width: 32px;\n",
       "  }\n",
       "\n",
       "  .colab-df-quickchart:hover {\n",
       "    background-color: var(--hover-bg-color);\n",
       "    box-shadow: 0 1px 2px rgba(60, 64, 67, 0.3), 0 1px 3px 1px rgba(60, 64, 67, 0.15);\n",
       "    fill: var(--button-hover-fill-color);\n",
       "  }\n",
       "\n",
       "  .colab-df-quickchart-complete:disabled,\n",
       "  .colab-df-quickchart-complete:disabled:hover {\n",
       "    background-color: var(--disabled-bg-color);\n",
       "    fill: var(--disabled-fill-color);\n",
       "    box-shadow: none;\n",
       "  }\n",
       "\n",
       "  .colab-df-spinner {\n",
       "    border: 2px solid var(--fill-color);\n",
       "    border-color: transparent;\n",
       "    border-bottom-color: var(--fill-color);\n",
       "    animation:\n",
       "      spin 1s steps(1) infinite;\n",
       "  }\n",
       "\n",
       "  @keyframes spin {\n",
       "    0% {\n",
       "      border-color: transparent;\n",
       "      border-bottom-color: var(--fill-color);\n",
       "      border-left-color: var(--fill-color);\n",
       "    }\n",
       "    20% {\n",
       "      border-color: transparent;\n",
       "      border-left-color: var(--fill-color);\n",
       "      border-top-color: var(--fill-color);\n",
       "    }\n",
       "    30% {\n",
       "      border-color: transparent;\n",
       "      border-left-color: var(--fill-color);\n",
       "      border-top-color: var(--fill-color);\n",
       "      border-right-color: var(--fill-color);\n",
       "    }\n",
       "    40% {\n",
       "      border-color: transparent;\n",
       "      border-right-color: var(--fill-color);\n",
       "      border-top-color: var(--fill-color);\n",
       "    }\n",
       "    60% {\n",
       "      border-color: transparent;\n",
       "      border-right-color: var(--fill-color);\n",
       "    }\n",
       "    80% {\n",
       "      border-color: transparent;\n",
       "      border-right-color: var(--fill-color);\n",
       "      border-bottom-color: var(--fill-color);\n",
       "    }\n",
       "    90% {\n",
       "      border-color: transparent;\n",
       "      border-bottom-color: var(--fill-color);\n",
       "    }\n",
       "  }\n",
       "</style>\n",
       "\n",
       "  <script>\n",
       "    async function quickchart(key) {\n",
       "      const quickchartButtonEl =\n",
       "        document.querySelector('#' + key + ' button');\n",
       "      quickchartButtonEl.disabled = true;  // To prevent multiple clicks.\n",
       "      quickchartButtonEl.classList.add('colab-df-spinner');\n",
       "      try {\n",
       "        const charts = await google.colab.kernel.invokeFunction(\n",
       "            'suggestCharts', [key], {});\n",
       "      } catch (error) {\n",
       "        console.error('Error during call to suggestCharts:', error);\n",
       "      }\n",
       "      quickchartButtonEl.classList.remove('colab-df-spinner');\n",
       "      quickchartButtonEl.classList.add('colab-df-quickchart-complete');\n",
       "    }\n",
       "    (() => {\n",
       "      let quickchartButtonEl =\n",
       "        document.querySelector('#df-722672c8-ebc2-411c-82fd-0f701c49913a button');\n",
       "      quickchartButtonEl.style.display =\n",
       "        google.colab.kernel.accessAllowed ? 'block' : 'none';\n",
       "    })();\n",
       "  </script>\n",
       "</div>\n",
       "    </div>\n",
       "  </div>\n"
      ],
      "text/plain": [
       "     total_bill    tip   sex smoker   day    time  size  price_per_person  \\\n",
       "170       50.81  10.00  Male    Yes   Sat  Dinner     3             16.94   \n",
       "212       48.33   9.00  Male     No   Sat  Dinner     4             12.08   \n",
       "23        39.42   7.58  Male     No   Sat  Dinner     4              9.86   \n",
       "59        48.27   6.73  Male     No   Sat  Dinner     4             12.07   \n",
       "141       34.30   6.70  Male     No  Thur   Lunch     6              5.72   \n",
       "\n",
       "          Payer Name         CC Number Payment ID last_four  \n",
       "170    Gregory Clark  5473850968388236    Sat1954      8236  \n",
       "212  Alex Williamson      676218815212    Sat4590      5212  \n",
       "23    Lance Peterson  3542584061609808     Sat239      9808  \n",
       "59       Brian Ortiz  6596453823950595    Sat8139      0595  \n",
       "141   Steven Carlson  3526515703718508   Thur1025      8508  "
      ]
     },
     "execution_count": 45,
     "metadata": {},
     "output_type": "execute_result"
    }
   ],
   "source": [
    "# apply()\n",
    "df['CC Number'].apply(lambda x: str(x)[-4:])                   # get last four digits of CC\n",
    "df['last_four'] = df['CC Number'].apply(lambda x: str(x)[-4:]) # ...and add as new column\n",
    "\n",
    "def quality(total_bill, tip):\n",
    "  if tip/total_bill > 0.25:\n",
    "    return \"Generous\"\n",
    "  else:\n",
    "    return \"Other\"\n",
    "\n",
    "df[['total_bill', 'tip']].apply(lambda d: quality(d['total_bill'], d['tip']), axis=1) #apply on multiple columns\n",
    "np.vectorize(quality)(df['total_bill'], df['tip'])                                    #apply on multiple columns #2\n",
    "\n",
    "# statistical information and sorting\n",
    "df.describe()                    # statistical methods: count, mean, std, min, max, etc\n",
    "df.describe().transpose()\n",
    "df.sort_values('tip')            # sort by one columns, not inplace\n",
    "df.sort_values(['tip', 'size'] ) # sort by multiple columns\n",
    "df['total_bill'].max()           # get max value of a column\n",
    "df['total_bill'].idxmax()        # get index of the max value of a column\n",
    "df['sex'].value_counts()         # counts categories\n",
    "df['day'].unique()               # show unique values\n",
    "df['sex'].replace('Female', 'F')                  #replace 1 value\n",
    "df['sex'].replace(['Female', 'Male'], ['f', 'm']) #replace multiple values\n",
    "df['sex'].map({'Female':'F', 'Male':'M'})         #replace multiple values #2\n",
    "df.duplicated()                  # returns true for the first instance of a duplicated row\n",
    "df.drop_duplicates()             # removes duplicated rows\n",
    "df[df['total_bill'].between(10,20,inclusive='both')] #get a value between X and Y\n",
    "df.nlargest(5, 'tip')            # get the top 5 largest values for column 'tip'\n",
    "\n"
   ]
  },
  {
   "cell_type": "markdown",
   "metadata": {
    "id": "ARJG28aitWDW"
   },
   "source": []
  },
  {
   "cell_type": "markdown",
   "metadata": {
    "id": "oTt4lkxytX_u"
   },
   "source": [
    "# Matplotlib"
   ]
  },
  {
   "cell_type": "markdown",
   "metadata": {
    "id": "4DqDMfvzvCIU"
   },
   "source": [
    "- in .py files need to call `plt.show()`"
   ]
  },
  {
   "cell_type": "markdown",
   "metadata": {
    "id": "bw-b_xykuJNq"
   },
   "source": [
    "## Matplotlib Basics and Functions"
   ]
  },
  {
   "cell_type": "markdown",
   "metadata": {
    "id": "mkK76iaCuPFn"
   },
   "source": [
    "### Functional methods"
   ]
  },
  {
   "cell_type": "code",
   "execution_count": null,
   "metadata": {
    "id": "_yNhM-6KtZ4N"
   },
   "outputs": [],
   "source": [
    "%matplotlib inline\n",
    "import matplotlib.pyplot as plt\n",
    "import numpy as np\n",
    "\n",
    "x = np.arange(0,10)\n",
    "y = 2*x\n",
    "\n",
    "print(x)\n",
    "print(y)"
   ]
  },
  {
   "cell_type": "code",
   "execution_count": 14,
   "metadata": {
    "colab": {
     "base_uri": "https://localhost:8080/",
     "height": 472
    },
    "executionInfo": {
     "elapsed": 747,
     "status": "ok",
     "timestamp": 1714241839767,
     "user": {
      "displayName": "Miroslava Ivanova",
      "userId": "04041431527474936486"
     },
     "user_tz": -180
    },
    "id": "nldf9fGSv3J4",
    "outputId": "55e217ce-74d0-4e99-99af-9853f07b9c71"
   },
   "outputs": [
    {
     "data": {
      "image/png": "[encoded data removed]",
      "text/plain": [
       "<Figure size 640x480 with 1 Axes>"
      ]
     },
     "metadata": {},
     "output_type": "display_data"
    }
   ],
   "source": [
    "plt.plot(x, y)\n",
    "plt.title(\"Title\")            # title\n",
    "\n",
    "plt.xlabel(\"X Axis\")          # axes\n",
    "plt.ylabel(\"Y Axis\")\n",
    "\n",
    "plt.xlim(0, 6)                # limit x and y\n",
    "plt.ylim(-1, 15)\n",
    "\n",
    "plt.savefig(\"myplot.png\")     # save to file\n",
    "plt.show()"
   ]
  },
  {
   "cell_type": "markdown",
   "metadata": {
    "id": "Xf_jN4SYx09y"
   },
   "source": [
    "### OOP methods (fig and subplots)"
   ]
  },
  {
   "cell_type": "markdown",
   "metadata": {
    "id": "FB7ghuy20UST"
   },
   "source": [
    "#### Basics"
   ]
  },
  {
   "cell_type": "code",
   "execution_count": 17,
   "metadata": {
    "colab": {
     "base_uri": "https://localhost:8080/",
     "height": 69
    },
    "executionInfo": {
     "elapsed": 6,
     "status": "ok",
     "timestamp": 1714242076162,
     "user": {
      "displayName": "Miroslava Ivanova",
      "userId": "04041431527474936486"
     },
     "user_tz": -180
    },
    "id": "OVF4rRZWx6Gj",
    "outputId": "35f2aada-9601-49f1-b1a4-2bd712d4bc88"
   },
   "outputs": [
    {
     "data": {
      "text/plain": [
       "<Figure size 1000x1000 with 0 Axes>"
      ]
     },
     "execution_count": 17,
     "metadata": {},
     "output_type": "execute_result"
    },
    {
     "data": {
      "text/plain": [
       "<Figure size 640x480 with 0 Axes>"
      ]
     },
     "metadata": {},
     "output_type": "display_data"
    },
    {
     "data": {
      "text/plain": [
       "<Figure size 1000x1000 with 0 Axes>"
      ]
     },
     "metadata": {},
     "output_type": "display_data"
    }
   ],
   "source": [
    "plt.figure()"
   ]
  },
  {
   "cell_type": "code",
   "execution_count": 25,
   "metadata": {
    "colab": {
     "base_uri": "https://localhost:8080/",
     "height": 460
    },
    "executionInfo": {
     "elapsed": 645,
     "status": "ok",
     "timestamp": 1714242524130,
     "user": {
      "displayName": "Miroslava Ivanova",
      "userId": "04041431527474936486"
     },
     "user_tz": -180
    },
    "id": "u2igx7Skyksb",
    "outputId": "6f6ed28a-6f17-4359-aa79-f01d25ed1f2f"
   },
   "outputs": [
    {
     "data": {
      "image/png": "[encoded data removed]",
      "text/plain": [
       "<Figure size 400x400 with 1 Axes>"
      ]
     },
     "metadata": {},
     "output_type": "display_data"
    }
   ],
   "source": [
    "fig = plt.figure(figsize=(4,4))\n",
    "ax = fig.add_axes([0,0,1,1]) # x/y of the bottom left of axis in relation to fig, width/height of axis (1=100% of fig)\n",
    "ax.plot(x, y)\n",
    "fig.show()"
   ]
  },
  {
   "cell_type": "markdown",
   "metadata": {
    "id": "XAwK2WTz0WZS"
   },
   "source": [
    "#### Figure parameters"
   ]
  },
  {
   "cell_type": "code",
   "execution_count": 75,
   "metadata": {
    "executionInfo": {
     "elapsed": 394,
     "status": "ok",
     "timestamp": 1714243862611,
     "user": {
      "displayName": "Miroslava Ivanova",
      "userId": "04041431527474936486"
     },
     "user_tz": -180
    },
    "id": "WhJ83uzAySM9"
   },
   "outputs": [],
   "source": [
    "#define data\n",
    "a = np.linspace(0, 10, 11); b = a**4\n",
    "x = np.arange(0, 10); y = 2 * x"
   ]
  },
  {
   "cell_type": "code",
   "execution_count": 82,
   "metadata": {
    "colab": {
     "base_uri": "https://localhost:8080/",
     "height": 360
    },
    "executionInfo": {
     "elapsed": 823,
     "status": "ok",
     "timestamp": 1714243986252,
     "user": {
      "displayName": "Miroslava Ivanova",
      "userId": "04041431527474936486"
     },
     "user_tz": -180
    },
    "id": "zelzpm0j5aWn",
    "outputId": "2a60c4b1-8646-45fb-e7dd-18a955373a94"
   },
   "outputs": [
    {
     "data": {
      "image/png": "[encoded data removed]",
      "text/plain": [
       "<Figure size 300x300 with 1 Axes>"
      ]
     },
     "metadata": {},
     "output_type": "display_data"
    }
   ],
   "source": [
    "fig = plt.figure(figsize=(3, 3), dpi=100) # figsize in inches, dpi - make less blurry\n",
    "ax1 = fig.add_axes([0, 0, 1, 1])\n",
    "ax1.plot(a, b);\n",
    "fig.savefig(\"myfigure.png\", bbox_inches=\"tight\")  # save to disk, include the x/y ticks"
   ]
  },
  {
   "cell_type": "markdown",
   "metadata": {
    "id": "EuSb0jbR2N1m"
   },
   "source": [
    "##### Figure with 1 subplot"
   ]
  },
  {
   "cell_type": "code",
   "execution_count": 56,
   "metadata": {
    "colab": {
     "base_uri": "https://localhost:8080/",
     "height": 360
    },
    "executionInfo": {
     "elapsed": 418,
     "status": "ok",
     "timestamp": 1714243410479,
     "user": {
      "displayName": "Miroslava Ivanova",
      "userId": "04041431527474936486"
     },
     "user_tz": -180
    },
    "id": "1dwd3_vN0ePX",
    "outputId": "541746d4-1965-4e55-92ea-a46183a2365a"
   },
   "outputs": [
    {
     "data": {
      "image/png": "[encoded data removed]",
      "text/plain": [
       "<Figure size 300x300 with 1 Axes>"
      ]
     },
     "metadata": {},
     "output_type": "display_data"
    }
   ],
   "source": [
    "fig1 = plt.figure(figsize=(3,3))\n",
    "axes = fig1.add_axes([0, 0, 1, 1])\n",
    "axes.plot(a, b);"
   ]
  },
  {
   "cell_type": "markdown",
   "metadata": {
    "id": "ST_XZ6Em3KTV"
   },
   "source": [
    "##### Figure with subplot in a subplot"
   ]
  },
  {
   "cell_type": "code",
   "execution_count": 55,
   "metadata": {
    "colab": {
     "base_uri": "https://localhost:8080/",
     "height": 360
    },
    "executionInfo": {
     "elapsed": 885,
     "status": "ok",
     "timestamp": 1714243398939,
     "user": {
      "displayName": "Miroslava Ivanova",
      "userId": "04041431527474936486"
     },
     "user_tz": -180
    },
    "id": "GJu_2hEZ1hcL",
    "outputId": "44772fb8-cba4-40b7-8337-1e4c8854d865"
   },
   "outputs": [
    {
     "data": {
      "image/png": "[encoded data removed]",
      "text/plain": [
       "<Figure size 300x300 with 2 Axes>"
      ]
     },
     "metadata": {},
     "output_type": "display_data"
    }
   ],
   "source": [
    "fig2 = plt.figure(figsize=(3, 3))\n",
    "ax1 = fig2.add_axes([0, 0, 1, 1])\n",
    "ax1.plot(a, b)\n",
    "\n",
    "ax_inside = fig2.add_axes([0.05, 0.65, 0.3, 0.3])\n",
    "ax_inside.plot(x, y)\n",
    "plt.show()"
   ]
  },
  {
   "cell_type": "markdown",
   "metadata": {
    "id": "rYhKET3I3vjk"
   },
   "source": [
    "##### Zoomed in subplot"
   ]
  },
  {
   "cell_type": "code",
   "execution_count": 74,
   "metadata": {
    "colab": {
     "base_uri": "https://localhost:8080/",
     "height": 402
    },
    "executionInfo": {
     "elapsed": 733,
     "status": "ok",
     "timestamp": 1714243754709,
     "user": {
      "displayName": "Miroslava Ivanova",
      "userId": "04041431527474936486"
     },
     "user_tz": -180
    },
    "id": "Ey_oNH8Q3xwI",
    "outputId": "3e1811a2-e85c-4f05-d7c8-948b3c506d58"
   },
   "outputs": [
    {
     "data": {
      "image/png": "[encoded data removed]",
      "text/plain": [
       "<Figure size 300x300 with 2 Axes>"
      ]
     },
     "metadata": {},
     "output_type": "display_data"
    }
   ],
   "source": [
    "fig3 = plt.figure(figsize=(3, 3))\n",
    "\n",
    "ax1 = fig3.add_axes([0, 0, 1, 1])\n",
    "ax1.plot(a, b)\n",
    "ax1.set_xlim(0, 8)\n",
    "ax1.set_ylim(0, 8000)\n",
    "ax1.set_xlabel(\"A\")\n",
    "ax1.set_ylabel(\"B\")\n",
    "ax1.set_title(\"Big title\")\n",
    "\n",
    "ax_inside = fig3.add_axes([0.17, 0.6, 0.3, 0.3])\n",
    "\n",
    "ax_inside.plot(a, b)\n",
    "ax_inside.set_xlim(1, 2)\n",
    "ax_inside.set_ylim(0, 50)\n",
    "ax_inside.set_xlabel(\"A\")\n",
    "ax_inside.set_ylabel(\"B\")\n",
    "ax_inside.set_title(\"Zoomed in\")\n",
    "\n",
    "plt.show()"
   ]
  },
  {
   "cell_type": "markdown",
   "metadata": {
    "id": "m46JI2yk7h8H"
   },
   "source": [
    "#### 2 Subplots"
   ]
  },
  {
   "cell_type": "code",
   "execution_count": 91,
   "metadata": {
    "colab": {
     "base_uri": "https://localhost:8080/",
     "height": 447
    },
    "executionInfo": {
     "elapsed": 1305,
     "status": "ok",
     "timestamp": 1714247479645,
     "user": {
      "displayName": "Miroslava Ivanova",
      "userId": "04041431527474936486"
     },
     "user_tz": -180
    },
    "id": "03ZLwEfo49Va",
    "outputId": "28282dd7-7f03-4745-ee6b-7bde58cba829"
   },
   "outputs": [
    {
     "data": {
      "text/plain": [
       "[<matplotlib.lines.Line2D at 0x7f230e8aca30>]"
      ]
     },
     "execution_count": 91,
     "metadata": {},
     "output_type": "execute_result"
    },
    {
     "data": {
      "image/png": "[encoded data removed]",
      "text/plain": [
       "<Figure size 640x480 with 2 Axes>"
      ]
     },
     "metadata": {},
     "output_type": "display_data"
    }
   ],
   "source": [
    "a = np.linspace(0, 10, 11); b = a**4\n",
    "x = np.arange(0, 10); y = 2 * x\n",
    "\n",
    "fig1, axes = plt.subplots(nrows=1, ncols=2)\n",
    "axes[0].plot(x, y)\n",
    "axes[1].plot(a, b)"
   ]
  },
  {
   "cell_type": "markdown",
   "metadata": {
    "id": "DW5J-LDUHRYd"
   },
   "source": [
    "#### 4 Subplots"
   ]
  },
  {
   "cell_type": "code",
   "execution_count": 109,
   "metadata": {
    "colab": {
     "base_uri": "https://localhost:8080/",
     "height": 430
    },
    "executionInfo": {
     "elapsed": 1446,
     "status": "ok",
     "timestamp": 1714247954715,
     "user": {
      "displayName": "Miroslava Ivanova",
      "userId": "04041431527474936486"
     },
     "user_tz": -180
    },
    "id": "tUanD1UxHTMS",
    "outputId": "d56382ea-2ee3-4591-aeec-a00dcc446bb8"
   },
   "outputs": [
    {
     "data": {
      "image/png": "[encoded data removed]",
      "text/plain": [
       "<Figure size 640x480 with 4 Axes>"
      ]
     },
     "metadata": {},
     "output_type": "display_data"
    }
   ],
   "source": [
    "a = np.linspace(0, 10, 11); b = a**4\n",
    "x = np.arange(0, 10); y = 2 * x\n",
    "\n",
    "fig1, axes = plt.subplots(nrows=2, ncols=2)\n",
    "\n",
    "axes[0][0].plot(x, y)\n",
    "axes[0][1].plot(a, b)\n",
    "axes[1][0].plot(a, b)\n",
    "axes[1][1].plot(x, y)\n",
    "\n",
    "fig1.tight_layout()                          # must be last\n",
    "plt.subplots_adjust(wspace=0.3, hspace=0.3)  # alternative to tight_layout()\n"
   ]
  }
 ],
 "metadata": {
  "colab": {
   "authorship_tag": "ABX9TyOCb0yoykmFKWodNYWZj/Vm",
   "collapsed_sections": [
    "wQoFs8TZVk8j",
    "0y_IgXyvujzG",
    "T1YRLwGvpz57",
    "l3UZ4LF1p-1Y",
    "fjY6eP8T7Cb9",
    "WcDIWQ-Y_UtE"
   ],
   "mount_file_id": "1PxsjUtZ0TXwr9R-jPnnkTJzpBYIWIrON",
   "provenance": []
  },
  "kernelspec": {
   "display_name": "Python 3 (ipykernel)",
   "language": "python",
   "name": "python3"
  },
  "language_info": {
   "codemirror_mode": {
    "name": "ipython",
    "version": 3
   },
   "file_extension": ".py",
   "mimetype": "text/x-python",
   "name": "python",
   "nbconvert_exporter": "python",
   "pygments_lexer": "ipython3",
   "version": "3.12.3"
  }
 },
 "nbformat": 4,
 "nbformat_minor": 4
}
