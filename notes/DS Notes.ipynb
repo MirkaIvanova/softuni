{
 "cells": [
  {
   "cell_type": "code",
   "execution_count": null,
   "id": "9209846d-8bab-44bc-9e4a-602b517e3691",
   "metadata": {},
   "outputs": [],
   "source": [
    "%matplotlib inline\n",
    "\n",
    "import numpy as np\n",
    "import pandas as pd\n",
    "import pyodbc\n",
    "import matplotlib.pylab as plt\n"
   ]
  },
  {
   "cell_type": "markdown",
   "id": "1787f85f-50c2-4638-8e6f-cb08f3839452",
   "metadata": {},
   "source": [
    "# Python"
   ]
  },
  {
   "cell_type": "markdown",
   "id": "54ce5819-10a5-4d7a-85a6-7715087f480f",
   "metadata": {},
   "source": [
    "#### Colors <i>[Python]"
   ]
  },
  {
   "cell_type": "code",
   "execution_count": null,
   "id": "9c55bcb2-983f-453f-9db5-a28820c3a69a",
   "metadata": {},
   "outputs": [],
   "source": [
    "# color a cell\n",
    "from IPython.display import HTML, display\n",
    "\n",
    "def set_background(color):\n",
    "    script = (\n",
    "        \"var cell = this.closest('.jp-CodeCell');\"\n",
    "        \"var editor = cell.querySelector('.jp-Editor');\"\n",
    "        \"editor.style.background='{}';\"\n",
    "        \"this.parentNode.removeChild(this)\"\n",
    "    ).format(color)\n",
    "\n",
    "    display(HTML('<img src onerror=\"{}\">'.format(script)))\n",
    "\n",
    "sb = set_background\n",
    "# sb(\"LemonChiffon\")\n",
    "# sb(\"Lavender\")"
   ]
  },
  {
   "cell_type": "markdown",
   "id": "f9d9691e-702c-42ce-bc7b-be74300b2aae",
   "metadata": {},
   "source": [
    "<p style=\"background-color:pink\">pink MARKDOWN cell"
   ]
  },
  {
   "cell_type": "markdown",
   "id": "0300f6b6-d61d-4944-873a-608304bc99e5",
   "metadata": {},
   "source": [
    "#### Skip <i>[Python]"
   ]
  },
  {
   "cell_type": "code",
   "execution_count": null,
   "id": "61801491-cac4-46c6-a94e-ade4fa1691c1",
   "metadata": {},
   "outputs": [],
   "source": [
    "# skip cell\n",
    "from IPython.core.magic import register_cell_magic\n",
    "from IPython import get_ipython\n",
    "\n",
    "@register_cell_magic\n",
    "def skip(line, cell):\n",
    "    return\n",
    "\n",
    "@register_cell_magic\n",
    "def skip_if(line, cell):\n",
    "    if eval(line):\n",
    "        return\n",
    "    get_ipython().run_cell(cell)\n",
    "\n",
    "# usage at top of cell: %%skip_if True"
   ]
  },
  {
   "cell_type": "markdown",
   "id": "9ecdd15e-6b8a-499e-a066-13815dcfa334",
   "metadata": {
    "jp-MarkdownHeadingCollapsed": true
   },
   "source": [
    "# Pandas"
   ]
  },
  {
   "cell_type": "markdown",
   "id": "4623278f-d805-4dd5-974f-04919c8b3736",
   "metadata": {},
   "source": [
    "#### Create dataframe <i>[Pandas]"
   ]
  },
  {
   "cell_type": "code",
   "execution_count": null,
   "id": "8a82ee97-1922-40cc-b451-51758c463528",
   "metadata": {},
   "outputs": [],
   "source": [
    "df  = pd.DataFrame({\"cats\": [1,2,3, 2, 3], \"dogs\": [10,20,30, 20, 30]})\n",
    "df1 = pd.DataFrame({\"cats\": [1,2,3, 2, 3], \"dogs\": [10,20,30, 20, 30]})\n",
    "\n",
    "sr = pd.Series([0, 4, 42])"
   ]
  },
  {
   "cell_type": "markdown",
   "id": "3a00d501-0eca-45c8-bbe6-3f0a6b6bb6cb",
   "metadata": {},
   "source": [
    "#### Open/save file <i>[Pandas]"
   ]
  },
  {
   "cell_type": "code",
   "execution_count": null,
   "id": "8c65b0d7-b516-42ef-94fd-7c54384f1745",
   "metadata": {},
   "outputs": [],
   "source": [
    "url = \"https://raw.githubusercontent.com/harjotspahwa/Car-Evaluation/master/car_evaluation.csv\"\n",
    "\n",
    "df_accidents = pd.read_csv(\"../02.data_science/03.Data-Acquisition/old/data/accidents.csv\")\n",
    "df_cars      = pd.read_csv(url, header = None)\n",
    "df_greentrip = pd.read_excel(\"../02.data_science/03.Data-Acquisition/old/data/green_tripdata_2015-09.xls\")\n",
    "\n",
    "df_accidents.to_csv(\"data/new.csv\", index = None)"
   ]
  },
  {
   "cell_type": "markdown",
   "id": "92319bd3-bee4-429c-a268-8e2a214746ed",
   "metadata": {},
   "source": [
    "#### Dataframe operations <i>[Pandas]"
   ]
  },
  {
   "cell_type": "code",
   "execution_count": null,
   "id": "7488a210-ee24-40f4-9d5f-265f40c4b449",
   "metadata": {},
   "outputs": [],
   "source": [
    "df[\"cats\"]         #👈read 1 column, returns pd.Series\n",
    "df.loc[0]          #👈 read 1 row (location)\n",
    "df.loc[0, \"dogs\"]  #👈 read row/column\n",
    "df_greentrip[\"lpep_pickup_datetime\"].dt.year.unique() #👈read year from datetime type\n",
    "df1.reset_index()  #👈 старият индекс става нова колона 'index'. not inplace\n",
    "df1.index = df['cats']      #👈тази колона става индекс\n",
    "df1.index = [0, 1, 2, 3, 4] #👈сетваме нови индекси\n",
    "del df1                     #👈трием dataset, освобождаваме памет\n",
    "# df1 = pd.concat([df1, df2], axis = 1) #🫷concatenate two dataframes"
   ]
  },
  {
   "cell_type": "markdown",
   "id": "fb6bcd03-4f8f-4b13-8473-d6ca8e7a03cd",
   "metadata": {},
   "source": [
    "# Data Explore, Tidy, Clean"
   ]
  },
  {
   "cell_type": "markdown",
   "id": "344bdd9d-811c-4c42-8951-d4fe9fc2aada",
   "metadata": {},
   "source": [
    "## Explore dataset <i> [Explore, Tidy, Clean]"
   ]
  },
  {
   "cell_type": "code",
   "execution_count": 84,
   "id": "bdda7a36-5eb4-41b7-a2f8-f3a58acea2b1",
   "metadata": {},
   "outputs": [
    {
     "data": {
      "text/html": [
       "<div>\n",
       "<style scoped>\n",
       "    .dataframe tbody tr th:only-of-type {\n",
       "        vertical-align: middle;\n",
       "    }\n",
       "\n",
       "    .dataframe tbody tr th {\n",
       "        vertical-align: top;\n",
       "    }\n",
       "\n",
       "    .dataframe thead th {\n",
       "        text-align: right;\n",
       "    }\n",
       "</style>\n",
       "<table border=\"1\" class=\"dataframe\">\n",
       "  <thead>\n",
       "    <tr style=\"text-align: right;\">\n",
       "      <th></th>\n",
       "      <th>cats</th>\n",
       "      <th>dogs</th>\n",
       "    </tr>\n",
       "  </thead>\n",
       "  <tbody>\n",
       "    <tr>\n",
       "      <th>0</th>\n",
       "      <td>1</td>\n",
       "      <td>10</td>\n",
       "    </tr>\n",
       "    <tr>\n",
       "      <th>1</th>\n",
       "      <td>2</td>\n",
       "      <td>20</td>\n",
       "    </tr>\n",
       "    <tr>\n",
       "      <th>3</th>\n",
       "      <td>2</td>\n",
       "      <td>20</td>\n",
       "    </tr>\n",
       "    <tr>\n",
       "      <th>2</th>\n",
       "      <td>3</td>\n",
       "      <td>30</td>\n",
       "    </tr>\n",
       "    <tr>\n",
       "      <th>4</th>\n",
       "      <td>3</td>\n",
       "      <td>30</td>\n",
       "    </tr>\n",
       "  </tbody>\n",
       "</table>\n",
       "</div>"
      ],
      "text/plain": [
       "  cats  dogs\n",
       "0    1    10\n",
       "1    2    20\n",
       "3    2    20\n",
       "2    3    30\n",
       "4    3    30"
      ]
     },
     "execution_count": 84,
     "metadata": {},
     "output_type": "execute_result"
    },
    {
     "data": {
      "image/png": "[encoded data removed]",
      "text/plain": [
       "<Figure size 640x480 with 1 Axes>"
      ]
     },
     "metadata": {},
     "output_type": "display_data"
    }
   ],
   "source": [
    "df.shape        #👈check number of rows/columns\n",
    "df.dtypes       #👈check data type\n",
    "df.describe().T #👈mean, std, min, max...\n",
    "df.columns      #👈check column names\n",
    "df.columns = [\"cats\", \"dogs\"] #👈rename or add column names if they don't exist\n",
    "df.index                      #👈check index values\n",
    "#df.set_index(date)           🫷сетваме колоната date да бъде новият индекс\n",
    "df[\"cats\"].unique()           #👈check unique values. If small number -> категорийна променлива\n",
    "df.groupby(\"cats\", observed=True).size()     #👈group by category, how many per category\n",
    "# tb.groupby([\"col1\", \"col2\"]).num_cases.sum() #🫷group by 2 columns\n",
    "plt.hist(df_greentrip[\"Total_amount\"], bins=30) #👈plot histogram of one column, must be continuous\n",
    "df.cats == 1                                    #👈True/False\n",
    "df_greentrip[df_greentrip[\"Total_amount\"] < 0]  #👈check in which rows Total_amount is < 0\n",
    "df.loc[1, \"cats\"]                               #👈read by 1 row/1 column\n",
    "df.loc[1, [\"cats\", \"dogs\"]]                     #👈read by 1 row/2 columns\n",
    "df.loc[[2,3], [\"cats\", \"dogs\"]]                 #👈read by 2 rows/2 columns\n",
    "#df.loc[(\"MX1704\", 2010, 6, 29)]                #🫷multi-index\n",
    "df.head()                       #👈or df.head(10)\n",
    "df.tail()                       #👈or df.tail(10)\n",
    "df.sample(3)                    #👈read random x rows\n",
    "df.sample(len(df))              #👈връща всички редове разбъркани\n",
    "df.dogs.nsmallest(2)            #👈nsmallest per column, or nlargest\n",
    "df.sort_values(\"dogs\")          #👈sort\n",
    "#df.col.apply(function)         #🫷apply a function to all rows in this column"
   ]
  },
  {
   "cell_type": "markdown",
   "id": "0deaace6-23c9-4688-b637-b6abd19447f7",
   "metadata": {},
   "source": [
    "## Clean/tidy dataset <i> Explore, Tidy, Clean"
   ]
  },
  {
   "cell_type": "markdown",
   "id": "72865817-887f-4750-8ad0-4a43b0e1f5ad",
   "metadata": {},
   "source": [
    "#### Melt a table <i>[Explore, Tidy, Clean > Clean dataset]"
   ]
  },
  {
   "cell_type": "code",
   "execution_count": null,
   "id": "7e72e978-8a45-46dd-8a5a-16928a6147b7",
   "metadata": {},
   "outputs": [],
   "source": [
    "pew = pd.read_csv(\"../02.data_science/04.Data-Tidying/old/data/pew.csv\")\n",
    "pew_melted = pd.melt(pew, id_vars = [\"religion\"], var_name = \"income\", value_name = \"count\")"
   ]
  },
  {
   "cell_type": "markdown",
   "id": "2fbad7ff-dc3c-4113-bd84-8c057cb91a6a",
   "metadata": {},
   "source": [
    "#### Pivot a table <i>[Explore, Tidy, Clean > Clean dataset]"
   ]
  },
  {
   "cell_type": "code",
   "execution_count": null,
   "id": "7c0918e7-0646-4815-b222-cd47a1ee86fb",
   "metadata": {},
   "outputs": [],
   "source": [
    "%%skip_if True\n",
    "weather.pivot_table(index = [\"id\", \"year\", \"month\", \"day\"], columns = [\"element\"], values = [\"value\"])"
   ]
  },
  {
   "cell_type": "markdown",
   "id": "1d1ad679-fe0f-4451-93a0-30fda3521a75",
   "metadata": {},
   "source": [
    "#### Columns to cаtegories <i>[Explore, Tidy, Clean > Clean dataset]"
   ]
  },
  {
   "cell_type": "code",
   "execution_count": null,
   "id": "ceb88b5b-fae4-4ad0-8b7f-492ed277ae6a",
   "metadata": {},
   "outputs": [],
   "source": [
    "df[\"cats\"] = df[\"cats\"].astype(\"category\")      #👈if a columns has numbers, mark it as category, not inplace"
   ]
  },
  {
   "cell_type": "code",
   "execution_count": null,
   "id": "939da963-2728-4022-a70d-27ad3b645451",
   "metadata": {},
   "outputs": [],
   "source": [
    "pew_raw = pd.read_csv(\"../02.data_science/04.Data-Tidying/old/data/pew.csv\")\n",
    "pew = pd.melt(pew_raw, id_vars = [\"religion\"], var_name = \"income\", value_name = \"count\")"
   ]
  },
  {
   "cell_type": "markdown",
   "id": "2ae8c27d-5e95-4709-a021-4f07292fe3b1",
   "metadata": {},
   "source": [
    "#### Float/string to int (if there were NaN values) <i>[Explore, Tidy, Clean > Clean dataset]"
   ]
  },
  {
   "cell_type": "code",
   "execution_count": null,
   "id": "4036f799-27fd-4c82-a420-c972bc4cb7d6",
   "metadata": {},
   "outputs": [],
   "source": [
    "%%skip_if True\n",
    "tb.cases = tb.cases.astype(np.int64)"
   ]
  },
  {
   "cell_type": "markdown",
   "id": "dfce96c9-f0ac-4e84-91f8-9e2074ed1707",
   "metadata": {},
   "source": [
    "#### Dates"
   ]
  },
  {
   "cell_type": "code",
   "execution_count": null,
   "id": "192b7ccb-8c5c-40c7-a7d0-bf9350f5ebff",
   "metadata": {},
   "outputs": [],
   "source": [
    "%%skip_if True\n",
    "billboard.week = billboard.week.str.slice(2) # remove first 2 chars"
   ]
  },
  {
   "cell_type": "markdown",
   "id": "86347836-746b-4706-953e-0b9f250d9a62",
   "metadata": {},
   "source": [
    "#### Add/drop column <i>[Explore, Tidy, Clean > Clean dataset]"
   ]
  },
  {
   "cell_type": "code",
   "execution_count": null,
   "id": "71317261-29bc-409e-9424-8cd8a69bc4d7",
   "metadata": {},
   "outputs": [],
   "source": [
    "pew[\"new_columns\"] = pew[\"income\"]\n",
    "pew = pew.drop([\"new_columns\"], axis=1)"
   ]
  },
  {
   "cell_type": "markdown",
   "id": "260e357f-7a65-4233-9e7b-4435ae12497b",
   "metadata": {},
   "source": [
    "#### Remove rows with NaN <i>[Explore, Tidy, Clean > Clean dataset]"
   ]
  },
  {
   "cell_type": "code",
   "execution_count": null,
   "id": "9dfa634e-3785-4852-8cdd-8e7cbaa18e94",
   "metadata": {},
   "outputs": [],
   "source": [
    "#👈remove rows witn NaN\n",
    "pew_dropna = pew_melted.dropna()"
   ]
  },
  {
   "cell_type": "markdown",
   "id": "5d886d63-62d2-430e-a536-6869aecc4375",
   "metadata": {},
   "source": [
    "#### Sort columns <i>[Explore, Tidy, Clean > Clean dataset]"
   ]
  },
  {
   "cell_type": "code",
   "execution_count": null,
   "id": "81032dba-0e83-4745-9edd-f173c3bf537e",
   "metadata": {},
   "outputs": [],
   "source": [
    "%%skip_if True\n",
    "tb = tb.sort_values(by = [\"iso2\", \"year\", \"sex\", \"age\", \"cases\"])"
   ]
  },
  {
   "cell_type": "markdown",
   "id": "8ae733b8-23ff-4439-a37f-698e739b5aea",
   "metadata": {},
   "source": [
    "#### Reset index <i>[Explore, Tidy, Clean > Clean dataset]"
   ]
  },
  {
   "cell_type": "code",
   "execution_count": null,
   "id": "2d1092ae-85ef-4979-9a39-ac469958fe5b",
   "metadata": {},
   "outputs": [],
   "source": [
    "%%skip_if True\n",
    "tb = tb.reset_index(drop = True)"
   ]
  },
  {
   "cell_type": "markdown",
   "id": "56b9bdc8-a4d9-4532-8ee7-6f245aef3d54",
   "metadata": {},
   "source": [
    "# Data Tidyng and Cleaning"
   ]
  },
  {
   "cell_type": "code",
   "execution_count": 85,
   "id": "a436b09d-0d67-4ca6-8cc0-38863e8a5a32",
   "metadata": {},
   "outputs": [
    {
     "data": {
      "text/html": [
       "<img src onerror=\"var cell = this.closest('.jp-CodeCell');var editor = cell.querySelector('.jp-Editor');editor.style.background='Moccasin';this.parentNode.removeChild(this)\">"
      ],
      "text/plain": [
       "<IPython.core.display.HTML object>"
      ]
     },
     "metadata": {},
     "output_type": "display_data"
    }
   ],
   "source": [
    "sb(\"Moccasin\")\n",
    "weather_df = pd.read_csv(\"https://raw.githubusercontent.com/synesthesiam/blog/master/posts/data/weather_year.csv\")"
   ]
  },
  {
   "cell_type": "code",
   "execution_count": 86,
   "id": "7b3be86a-128a-4078-9301-2331343d41f2",
   "metadata": {},
   "outputs": [
    {
     "data": {
      "text/html": [
       "<img src onerror=\"var cell = this.closest('.jp-CodeCell');var editor = cell.querySelector('.jp-Editor');editor.style.background='Moccasin';this.parentNode.removeChild(this)\">"
      ],
      "text/plain": [
       "<IPython.core.display.HTML object>"
      ]
     },
     "metadata": {},
     "output_type": "display_data"
    },
    {
     "data": {
      "text/html": [
       "<div>\n",
       "<style scoped>\n",
       "    .dataframe tbody tr th:only-of-type {\n",
       "        vertical-align: middle;\n",
       "    }\n",
       "\n",
       "    .dataframe tbody tr th {\n",
       "        vertical-align: top;\n",
       "    }\n",
       "\n",
       "    .dataframe thead th {\n",
       "        text-align: right;\n",
       "    }\n",
       "</style>\n",
       "<table border=\"1\" class=\"dataframe\">\n",
       "  <thead>\n",
       "    <tr style=\"text-align: right;\">\n",
       "      <th></th>\n",
       "      <th>EDT</th>\n",
       "      <th>Max TemperatureF</th>\n",
       "      <th>Mean TemperatureF</th>\n",
       "      <th>Min TemperatureF</th>\n",
       "      <th>Max Dew PointF</th>\n",
       "      <th>MeanDew PointF</th>\n",
       "      <th>Min DewpointF</th>\n",
       "      <th>Max Humidity</th>\n",
       "      <th>Mean Humidity</th>\n",
       "      <th>Min Humidity</th>\n",
       "      <th>...</th>\n",
       "      <th>Max VisibilityMiles</th>\n",
       "      <th>Mean VisibilityMiles</th>\n",
       "      <th>Min VisibilityMiles</th>\n",
       "      <th>Max Wind SpeedMPH</th>\n",
       "      <th>Mean Wind SpeedMPH</th>\n",
       "      <th>Max Gust SpeedMPH</th>\n",
       "      <th>PrecipitationIn</th>\n",
       "      <th>CloudCover</th>\n",
       "      <th>Events</th>\n",
       "      <th>WindDirDegrees</th>\n",
       "    </tr>\n",
       "  </thead>\n",
       "  <tbody>\n",
       "    <tr>\n",
       "      <th>0</th>\n",
       "      <td>2012-3-10</td>\n",
       "      <td>56</td>\n",
       "      <td>40</td>\n",
       "      <td>24</td>\n",
       "      <td>24</td>\n",
       "      <td>20</td>\n",
       "      <td>16</td>\n",
       "      <td>74</td>\n",
       "      <td>50</td>\n",
       "      <td>26</td>\n",
       "      <td>...</td>\n",
       "      <td>10</td>\n",
       "      <td>10</td>\n",
       "      <td>10</td>\n",
       "      <td>13</td>\n",
       "      <td>6</td>\n",
       "      <td>17.0</td>\n",
       "      <td>0.00</td>\n",
       "      <td>0</td>\n",
       "      <td>NaN</td>\n",
       "      <td>138</td>\n",
       "    </tr>\n",
       "    <tr>\n",
       "      <th>1</th>\n",
       "      <td>2012-3-11</td>\n",
       "      <td>67</td>\n",
       "      <td>49</td>\n",
       "      <td>30</td>\n",
       "      <td>43</td>\n",
       "      <td>31</td>\n",
       "      <td>24</td>\n",
       "      <td>78</td>\n",
       "      <td>53</td>\n",
       "      <td>28</td>\n",
       "      <td>...</td>\n",
       "      <td>10</td>\n",
       "      <td>10</td>\n",
       "      <td>10</td>\n",
       "      <td>22</td>\n",
       "      <td>7</td>\n",
       "      <td>32.0</td>\n",
       "      <td>T</td>\n",
       "      <td>1</td>\n",
       "      <td>Rain</td>\n",
       "      <td>163</td>\n",
       "    </tr>\n",
       "    <tr>\n",
       "      <th>2</th>\n",
       "      <td>2012-3-12</td>\n",
       "      <td>71</td>\n",
       "      <td>62</td>\n",
       "      <td>53</td>\n",
       "      <td>59</td>\n",
       "      <td>55</td>\n",
       "      <td>43</td>\n",
       "      <td>90</td>\n",
       "      <td>76</td>\n",
       "      <td>61</td>\n",
       "      <td>...</td>\n",
       "      <td>10</td>\n",
       "      <td>10</td>\n",
       "      <td>6</td>\n",
       "      <td>24</td>\n",
       "      <td>14</td>\n",
       "      <td>36.0</td>\n",
       "      <td>0.03</td>\n",
       "      <td>6</td>\n",
       "      <td>Rain</td>\n",
       "      <td>190</td>\n",
       "    </tr>\n",
       "    <tr>\n",
       "      <th>3</th>\n",
       "      <td>2012-3-13</td>\n",
       "      <td>76</td>\n",
       "      <td>63</td>\n",
       "      <td>50</td>\n",
       "      <td>57</td>\n",
       "      <td>53</td>\n",
       "      <td>47</td>\n",
       "      <td>93</td>\n",
       "      <td>66</td>\n",
       "      <td>38</td>\n",
       "      <td>...</td>\n",
       "      <td>10</td>\n",
       "      <td>10</td>\n",
       "      <td>4</td>\n",
       "      <td>16</td>\n",
       "      <td>5</td>\n",
       "      <td>24.0</td>\n",
       "      <td>0.00</td>\n",
       "      <td>0</td>\n",
       "      <td>NaN</td>\n",
       "      <td>242</td>\n",
       "    </tr>\n",
       "    <tr>\n",
       "      <th>4</th>\n",
       "      <td>2012-3-14</td>\n",
       "      <td>80</td>\n",
       "      <td>62</td>\n",
       "      <td>44</td>\n",
       "      <td>58</td>\n",
       "      <td>52</td>\n",
       "      <td>43</td>\n",
       "      <td>93</td>\n",
       "      <td>68</td>\n",
       "      <td>42</td>\n",
       "      <td>...</td>\n",
       "      <td>10</td>\n",
       "      <td>10</td>\n",
       "      <td>10</td>\n",
       "      <td>16</td>\n",
       "      <td>6</td>\n",
       "      <td>22.0</td>\n",
       "      <td>0.00</td>\n",
       "      <td>0</td>\n",
       "      <td>NaN</td>\n",
       "      <td>202</td>\n",
       "    </tr>\n",
       "    <tr>\n",
       "      <th>...</th>\n",
       "      <td>...</td>\n",
       "      <td>...</td>\n",
       "      <td>...</td>\n",
       "      <td>...</td>\n",
       "      <td>...</td>\n",
       "      <td>...</td>\n",
       "      <td>...</td>\n",
       "      <td>...</td>\n",
       "      <td>...</td>\n",
       "      <td>...</td>\n",
       "      <td>...</td>\n",
       "      <td>...</td>\n",
       "      <td>...</td>\n",
       "      <td>...</td>\n",
       "      <td>...</td>\n",
       "      <td>...</td>\n",
       "      <td>...</td>\n",
       "      <td>...</td>\n",
       "      <td>...</td>\n",
       "      <td>...</td>\n",
       "      <td>...</td>\n",
       "    </tr>\n",
       "    <tr>\n",
       "      <th>361</th>\n",
       "      <td>2013-3-6</td>\n",
       "      <td>32</td>\n",
       "      <td>31</td>\n",
       "      <td>29</td>\n",
       "      <td>27</td>\n",
       "      <td>26</td>\n",
       "      <td>25</td>\n",
       "      <td>92</td>\n",
       "      <td>85</td>\n",
       "      <td>78</td>\n",
       "      <td>...</td>\n",
       "      <td>10</td>\n",
       "      <td>5</td>\n",
       "      <td>1</td>\n",
       "      <td>22</td>\n",
       "      <td>9</td>\n",
       "      <td>33.0</td>\n",
       "      <td>0.04</td>\n",
       "      <td>8</td>\n",
       "      <td>Snow</td>\n",
       "      <td>314</td>\n",
       "    </tr>\n",
       "    <tr>\n",
       "      <th>362</th>\n",
       "      <td>2013-3-7</td>\n",
       "      <td>36</td>\n",
       "      <td>32</td>\n",
       "      <td>28</td>\n",
       "      <td>27</td>\n",
       "      <td>25</td>\n",
       "      <td>22</td>\n",
       "      <td>85</td>\n",
       "      <td>71</td>\n",
       "      <td>56</td>\n",
       "      <td>...</td>\n",
       "      <td>10</td>\n",
       "      <td>9</td>\n",
       "      <td>6</td>\n",
       "      <td>8</td>\n",
       "      <td>2</td>\n",
       "      <td>12.0</td>\n",
       "      <td>0.00</td>\n",
       "      <td>8</td>\n",
       "      <td>NaN</td>\n",
       "      <td>342</td>\n",
       "    </tr>\n",
       "    <tr>\n",
       "      <th>363</th>\n",
       "      <td>2013-3-8</td>\n",
       "      <td>47</td>\n",
       "      <td>35</td>\n",
       "      <td>23</td>\n",
       "      <td>27</td>\n",
       "      <td>24</td>\n",
       "      <td>21</td>\n",
       "      <td>88</td>\n",
       "      <td>65</td>\n",
       "      <td>42</td>\n",
       "      <td>...</td>\n",
       "      <td>10</td>\n",
       "      <td>9</td>\n",
       "      <td>5</td>\n",
       "      <td>12</td>\n",
       "      <td>3</td>\n",
       "      <td>14.0</td>\n",
       "      <td>0.00</td>\n",
       "      <td>1</td>\n",
       "      <td>NaN</td>\n",
       "      <td>90</td>\n",
       "    </tr>\n",
       "    <tr>\n",
       "      <th>364</th>\n",
       "      <td>2013-3-9</td>\n",
       "      <td>56</td>\n",
       "      <td>45</td>\n",
       "      <td>33</td>\n",
       "      <td>32</td>\n",
       "      <td>29</td>\n",
       "      <td>23</td>\n",
       "      <td>75</td>\n",
       "      <td>57</td>\n",
       "      <td>38</td>\n",
       "      <td>...</td>\n",
       "      <td>10</td>\n",
       "      <td>10</td>\n",
       "      <td>10</td>\n",
       "      <td>16</td>\n",
       "      <td>10</td>\n",
       "      <td>24.0</td>\n",
       "      <td>T</td>\n",
       "      <td>2</td>\n",
       "      <td>NaN</td>\n",
       "      <td>141</td>\n",
       "    </tr>\n",
       "    <tr>\n",
       "      <th>365</th>\n",
       "      <td>2013-3-10</td>\n",
       "      <td>60</td>\n",
       "      <td>52</td>\n",
       "      <td>50</td>\n",
       "      <td>37</td>\n",
       "      <td>34</td>\n",
       "      <td>32</td>\n",
       "      <td>54</td>\n",
       "      <td>48</td>\n",
       "      <td>42</td>\n",
       "      <td>...</td>\n",
       "      <td>10</td>\n",
       "      <td>10</td>\n",
       "      <td>10</td>\n",
       "      <td>14</td>\n",
       "      <td>8</td>\n",
       "      <td>26.0</td>\n",
       "      <td>0.00</td>\n",
       "      <td>1</td>\n",
       "      <td>NaN</td>\n",
       "      <td>167</td>\n",
       "    </tr>\n",
       "  </tbody>\n",
       "</table>\n",
       "<p>366 rows × 23 columns</p>\n",
       "</div>"
      ],
      "text/plain": [
       "           EDT  Max TemperatureF  Mean TemperatureF  Min TemperatureF  \\\n",
       "0    2012-3-10                56                 40                24   \n",
       "1    2012-3-11                67                 49                30   \n",
       "2    2012-3-12                71                 62                53   \n",
       "3    2012-3-13                76                 63                50   \n",
       "4    2012-3-14                80                 62                44   \n",
       "..         ...               ...                ...               ...   \n",
       "361   2013-3-6                32                 31                29   \n",
       "362   2013-3-7                36                 32                28   \n",
       "363   2013-3-8                47                 35                23   \n",
       "364   2013-3-9                56                 45                33   \n",
       "365  2013-3-10                60                 52                50   \n",
       "\n",
       "     Max Dew PointF  MeanDew PointF  Min DewpointF  Max Humidity  \\\n",
       "0                24              20             16            74   \n",
       "1                43              31             24            78   \n",
       "2                59              55             43            90   \n",
       "3                57              53             47            93   \n",
       "4                58              52             43            93   \n",
       "..              ...             ...            ...           ...   \n",
       "361              27              26             25            92   \n",
       "362              27              25             22            85   \n",
       "363              27              24             21            88   \n",
       "364              32              29             23            75   \n",
       "365              37              34             32            54   \n",
       "\n",
       "      Mean Humidity   Min Humidity  ...   Max VisibilityMiles  \\\n",
       "0                50             26  ...                    10   \n",
       "1                53             28  ...                    10   \n",
       "2                76             61  ...                    10   \n",
       "3                66             38  ...                    10   \n",
       "4                68             42  ...                    10   \n",
       "..              ...            ...  ...                   ...   \n",
       "361              85             78  ...                    10   \n",
       "362              71             56  ...                    10   \n",
       "363              65             42  ...                    10   \n",
       "364              57             38  ...                    10   \n",
       "365              48             42  ...                    10   \n",
       "\n",
       "      Mean VisibilityMiles   Min VisibilityMiles   Max Wind SpeedMPH  \\\n",
       "0                       10                    10                  13   \n",
       "1                       10                    10                  22   \n",
       "2                       10                     6                  24   \n",
       "3                       10                     4                  16   \n",
       "4                       10                    10                  16   \n",
       "..                     ...                   ...                 ...   \n",
       "361                      5                     1                  22   \n",
       "362                      9                     6                   8   \n",
       "363                      9                     5                  12   \n",
       "364                     10                    10                  16   \n",
       "365                     10                    10                  14   \n",
       "\n",
       "      Mean Wind SpeedMPH   Max Gust SpeedMPH  PrecipitationIn   CloudCover  \\\n",
       "0                      6                17.0             0.00            0   \n",
       "1                      7                32.0                T            1   \n",
       "2                     14                36.0             0.03            6   \n",
       "3                      5                24.0             0.00            0   \n",
       "4                      6                22.0             0.00            0   \n",
       "..                   ...                 ...              ...          ...   \n",
       "361                    9                33.0             0.04            8   \n",
       "362                    2                12.0             0.00            8   \n",
       "363                    3                14.0             0.00            1   \n",
       "364                   10                24.0                T            2   \n",
       "365                    8                26.0             0.00            1   \n",
       "\n",
       "      Events  WindDirDegrees  \n",
       "0        NaN             138  \n",
       "1       Rain             163  \n",
       "2       Rain             190  \n",
       "3        NaN             242  \n",
       "4        NaN             202  \n",
       "..       ...             ...  \n",
       "361     Snow             314  \n",
       "362      NaN             342  \n",
       "363      NaN              90  \n",
       "364      NaN             141  \n",
       "365      NaN             167  \n",
       "\n",
       "[366 rows x 23 columns]"
      ]
     },
     "execution_count": 86,
     "metadata": {},
     "output_type": "execute_result"
    }
   ],
   "source": [
    "sb(\"Moccasin\")\n",
    "weather_df"
   ]
  }
 ],
 "metadata": {
  "jpcodetoc-autonumbering": false,
  "jpcodetoc-showcode": false,
  "jpcodetoc-showmarkdowntxt": false,
  "jpcodetoc-showtags": false,
  "kernelspec": {
   "display_name": "Python 3 (ipykernel)",
   "language": "python",
   "name": "python3"
  },
  "language_info": {
   "codemirror_mode": {
    "name": "ipython",
    "version": 3
   },
   "file_extension": ".py",
   "mimetype": "text/x-python",
   "name": "python",
   "nbconvert_exporter": "python",
   "pygments_lexer": "ipython3",
   "version": "3.12.3"
  }
 },
 "nbformat": 4,
 "nbformat_minor": 5
}
